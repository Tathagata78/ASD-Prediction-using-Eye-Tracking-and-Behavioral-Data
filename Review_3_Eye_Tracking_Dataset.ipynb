{
 "cells": [
  {
   "cell_type": "code",
   "execution_count": 1,
   "metadata": {
    "colab": {
     "base_uri": "https://localhost:8080/"
    },
    "id": "JqWOS-VtyCAv",
    "outputId": "3075a567-e94a-4dcd-a094-49ca9ba00c92"
   },
   "outputs": [
    {
     "name": "stdout",
     "output_type": "stream",
     "text": [
      "Mounted at /content/drive\n"
     ]
    }
   ],
   "source": [
    "from google.colab import drive\n",
    "drive.mount('/content/drive')"
   ]
  },
  {
   "cell_type": "code",
   "execution_count": 2,
   "metadata": {
    "colab": {
     "base_uri": "https://localhost:8080/"
    },
    "id": "ZAuqQIi8y4tA",
    "outputId": "28c7f9b5-c328-4125-a2e8-b6d6f0c98fb5"
   },
   "outputs": [
    {
     "name": "stderr",
     "output_type": "stream",
     "text": [
      "<ipython-input-2-1ab81708951c>:5: DtypeWarning: Columns (7,12,14,15,16,19,20,21,22,26,27,28,37,38,39,40,41,42,43,44,45,46,47,48,49,50,51,52,53,54,55,56,57,58) have mixed types. Specify dtype option on import or set low_memory=False.\n",
      "  data = pd.read_csv(file_path)\n"
     ]
    }
   ],
   "source": [
    "import pandas as pd\n",
    "\n",
    "file_path = '/content/drive/My Drive/Eye-Tracking Dataset/merged_data.csv'\n",
    "\n",
    "data = pd.read_csv(file_path)"
   ]
  },
  {
   "cell_type": "code",
   "execution_count": 3,
   "metadata": {
    "colab": {
     "base_uri": "https://localhost:8080/"
    },
    "id": "BfvZihmWJtAQ",
    "outputId": "84386e52-880e-49fc-a6c8-cca59e64bd35"
   },
   "outputs": [
    {
     "data": {
      "text/plain": [
       "59"
      ]
     },
     "execution_count": 3,
     "metadata": {},
     "output_type": "execute_result"
    }
   ],
   "source": [
    "col = data.columns\n",
    "len(col)"
   ]
  },
  {
   "cell_type": "code",
   "execution_count": 4,
   "metadata": {
    "id": "p3ePd40Bk8rx"
   },
   "outputs": [],
   "source": [
    "lst1 = [str(i) for i in range(1,60)]"
   ]
  },
  {
   "cell_type": "code",
   "execution_count": 5,
   "metadata": {
    "id": "X9YaNvEdlKll"
   },
   "outputs": [],
   "source": [
    "rows = data[data['Participant'].isin(lst1)]"
   ]
  },
  {
   "cell_type": "code",
   "execution_count": 6,
   "metadata": {
    "id": "LLFlCWwelPC4"
   },
   "outputs": [],
   "source": [
    "rows.to_csv(\"data.csv\")"
   ]
  },
  {
   "cell_type": "code",
   "execution_count": 7,
   "metadata": {
    "colab": {
     "base_uri": "https://localhost:8080/"
    },
    "id": "-731t6rzlQfU",
    "outputId": "64a8d460-258e-413a-f5e7-024ba9993e86"
   },
   "outputs": [
    {
     "name": "stderr",
     "output_type": "stream",
     "text": [
      "<ipython-input-7-376715b5e662>:1: DtypeWarning: Columns (13,15,16,17,20,21,22,23,27,28,29,38,39,40,41,42,43,44,45,46,47,48,49,50,51,52,53,54,55,56,57,58,59) have mixed types. Specify dtype option on import or set low_memory=False.\n",
      "  df = pd.read_csv(\"data.csv\")\n"
     ]
    },
    {
     "data": {
      "text/plain": [
       "(1015142, 60)"
      ]
     },
     "execution_count": 7,
     "metadata": {},
     "output_type": "execute_result"
    }
   ],
   "source": [
    "df = pd.read_csv(\"data.csv\")\n",
    "df.shape"
   ]
  },
  {
   "cell_type": "code",
   "execution_count": 8,
   "metadata": {
    "colab": {
     "base_uri": "https://localhost:8080/",
     "height": 1000
    },
    "id": "-Y9jKrQIKLP3",
    "outputId": "e4819000-c23b-4fb2-dafc-99f23c8943b9"
   },
   "outputs": [
    {
     "data": {
      "application/vnd.google.colaboratory.intrinsic+json": {
       "summary": "{\n  \"name\": \"pd\",\n  \"rows\": 60,\n  \"fields\": [\n    {\n      \"column\": \"Data Type\",\n      \"properties\": {\n        \"dtype\": \"category\",\n        \"num_unique_values\": 3,\n        \"samples\": [\n          \"int64\",\n          \"float64\",\n          \"object\"\n        ],\n        \"semantic_type\": \"\",\n        \"description\": \"\"\n      }\n    }\n  ]\n}",
       "type": "dataframe"
      },
      "text/html": [
       "\n",
       "  <div id=\"df-ce240739-1fa1-49e3-bc8b-c48cdf30d719\" class=\"colab-df-container\">\n",
       "    <div>\n",
       "<style scoped>\n",
       "    .dataframe tbody tr th:only-of-type {\n",
       "        vertical-align: middle;\n",
       "    }\n",
       "\n",
       "    .dataframe tbody tr th {\n",
       "        vertical-align: top;\n",
       "    }\n",
       "\n",
       "    .dataframe thead th {\n",
       "        text-align: right;\n",
       "    }\n",
       "</style>\n",
       "<table border=\"1\" class=\"dataframe\">\n",
       "  <thead>\n",
       "    <tr style=\"text-align: right;\">\n",
       "      <th></th>\n",
       "      <th>Data Type</th>\n",
       "    </tr>\n",
       "  </thead>\n",
       "  <tbody>\n",
       "    <tr>\n",
       "      <th>Unnamed: 0.1</th>\n",
       "      <td>int64</td>\n",
       "    </tr>\n",
       "    <tr>\n",
       "      <th>Unnamed: 0</th>\n",
       "      <td>int64</td>\n",
       "    </tr>\n",
       "    <tr>\n",
       "      <th>RecordingTime [ms]</th>\n",
       "      <td>float64</td>\n",
       "    </tr>\n",
       "    <tr>\n",
       "      <th>Time of Day [h:m:s:ms]</th>\n",
       "      <td>object</td>\n",
       "    </tr>\n",
       "    <tr>\n",
       "      <th>Trial</th>\n",
       "      <td>object</td>\n",
       "    </tr>\n",
       "    <tr>\n",
       "      <th>Stimulus</th>\n",
       "      <td>object</td>\n",
       "    </tr>\n",
       "    <tr>\n",
       "      <th>Export Start Trial Time [ms]</th>\n",
       "      <td>float64</td>\n",
       "    </tr>\n",
       "    <tr>\n",
       "      <th>Export End Trial Time [ms]</th>\n",
       "      <td>float64</td>\n",
       "    </tr>\n",
       "    <tr>\n",
       "      <th>Participant</th>\n",
       "      <td>int64</td>\n",
       "    </tr>\n",
       "    <tr>\n",
       "      <th>Color</th>\n",
       "      <td>object</td>\n",
       "    </tr>\n",
       "    <tr>\n",
       "      <th>Tracking Ratio [%]</th>\n",
       "      <td>float64</td>\n",
       "    </tr>\n",
       "    <tr>\n",
       "      <th>Category Group</th>\n",
       "      <td>object</td>\n",
       "    </tr>\n",
       "    <tr>\n",
       "      <th>Category Right</th>\n",
       "      <td>object</td>\n",
       "    </tr>\n",
       "    <tr>\n",
       "      <th>Category Left</th>\n",
       "      <td>object</td>\n",
       "    </tr>\n",
       "    <tr>\n",
       "      <th>Index Right</th>\n",
       "      <td>object</td>\n",
       "    </tr>\n",
       "    <tr>\n",
       "      <th>Index Left</th>\n",
       "      <td>object</td>\n",
       "    </tr>\n",
       "    <tr>\n",
       "      <th>Pupil Diameter Right [mm]</th>\n",
       "      <td>object</td>\n",
       "    </tr>\n",
       "    <tr>\n",
       "      <th>Pupil Diameter Left [mm]</th>\n",
       "      <td>object</td>\n",
       "    </tr>\n",
       "    <tr>\n",
       "      <th>Point of Regard Right X [px]</th>\n",
       "      <td>object</td>\n",
       "    </tr>\n",
       "    <tr>\n",
       "      <th>Point of Regard Right Y [px]</th>\n",
       "      <td>object</td>\n",
       "    </tr>\n",
       "    <tr>\n",
       "      <th>Point of Regard Left X [px]</th>\n",
       "      <td>object</td>\n",
       "    </tr>\n",
       "    <tr>\n",
       "      <th>Point of Regard Left Y [px]</th>\n",
       "      <td>object</td>\n",
       "    </tr>\n",
       "    <tr>\n",
       "      <th>AOI Name Right</th>\n",
       "      <td>object</td>\n",
       "    </tr>\n",
       "    <tr>\n",
       "      <th>AOI Name Left</th>\n",
       "      <td>object</td>\n",
       "    </tr>\n",
       "    <tr>\n",
       "      <th>Gaze Vector Right X</th>\n",
       "      <td>object</td>\n",
       "    </tr>\n",
       "    <tr>\n",
       "      <th>Gaze Vector Right Y</th>\n",
       "      <td>object</td>\n",
       "    </tr>\n",
       "    <tr>\n",
       "      <th>Gaze Vector Right Z</th>\n",
       "      <td>object</td>\n",
       "    </tr>\n",
       "    <tr>\n",
       "      <th>Gaze Vector Left X</th>\n",
       "      <td>object</td>\n",
       "    </tr>\n",
       "    <tr>\n",
       "      <th>Gaze Vector Left Y</th>\n",
       "      <td>object</td>\n",
       "    </tr>\n",
       "    <tr>\n",
       "      <th>Gaze Vector Left Z</th>\n",
       "      <td>object</td>\n",
       "    </tr>\n",
       "    <tr>\n",
       "      <th>Annotation Name</th>\n",
       "      <td>object</td>\n",
       "    </tr>\n",
       "    <tr>\n",
       "      <th>Annotation Description</th>\n",
       "      <td>object</td>\n",
       "    </tr>\n",
       "    <tr>\n",
       "      <th>Annotation Tags</th>\n",
       "      <td>object</td>\n",
       "    </tr>\n",
       "    <tr>\n",
       "      <th>Mouse Position X [px]</th>\n",
       "      <td>object</td>\n",
       "    </tr>\n",
       "    <tr>\n",
       "      <th>Mouse Position Y [px]</th>\n",
       "      <td>object</td>\n",
       "    </tr>\n",
       "    <tr>\n",
       "      <th>Scroll Direction X</th>\n",
       "      <td>object</td>\n",
       "    </tr>\n",
       "    <tr>\n",
       "      <th>Scroll Direction Y</th>\n",
       "      <td>object</td>\n",
       "    </tr>\n",
       "    <tr>\n",
       "      <th>Content</th>\n",
       "      <td>object</td>\n",
       "    </tr>\n",
       "    <tr>\n",
       "      <th>Pupil Size Right X [px]</th>\n",
       "      <td>object</td>\n",
       "    </tr>\n",
       "    <tr>\n",
       "      <th>Pupil Size Right Y [px]</th>\n",
       "      <td>object</td>\n",
       "    </tr>\n",
       "    <tr>\n",
       "      <th>Pupil Size Left X [px]</th>\n",
       "      <td>object</td>\n",
       "    </tr>\n",
       "    <tr>\n",
       "      <th>Pupil Size Left Y [px]</th>\n",
       "      <td>object</td>\n",
       "    </tr>\n",
       "    <tr>\n",
       "      <th>Eye Position Right X [mm]</th>\n",
       "      <td>object</td>\n",
       "    </tr>\n",
       "    <tr>\n",
       "      <th>Eye Position Right Y [mm]</th>\n",
       "      <td>object</td>\n",
       "    </tr>\n",
       "    <tr>\n",
       "      <th>Eye Position Right Z [mm]</th>\n",
       "      <td>object</td>\n",
       "    </tr>\n",
       "    <tr>\n",
       "      <th>Eye Position Left X [mm]</th>\n",
       "      <td>object</td>\n",
       "    </tr>\n",
       "    <tr>\n",
       "      <th>Eye Position Left Y [mm]</th>\n",
       "      <td>object</td>\n",
       "    </tr>\n",
       "    <tr>\n",
       "      <th>Eye Position Left Z [mm]</th>\n",
       "      <td>object</td>\n",
       "    </tr>\n",
       "    <tr>\n",
       "      <th>Pupil Position Right X [px]</th>\n",
       "      <td>object</td>\n",
       "    </tr>\n",
       "    <tr>\n",
       "      <th>Pupil Position Right Y [px]</th>\n",
       "      <td>object</td>\n",
       "    </tr>\n",
       "    <tr>\n",
       "      <th>Pupil Position Left X [px]</th>\n",
       "      <td>object</td>\n",
       "    </tr>\n",
       "    <tr>\n",
       "      <th>Pupil Position Left Y [px]</th>\n",
       "      <td>object</td>\n",
       "    </tr>\n",
       "    <tr>\n",
       "      <th>Port Status</th>\n",
       "      <td>object</td>\n",
       "    </tr>\n",
       "    <tr>\n",
       "      <th>AOI Group Right</th>\n",
       "      <td>object</td>\n",
       "    </tr>\n",
       "    <tr>\n",
       "      <th>AOI Scope Right</th>\n",
       "      <td>object</td>\n",
       "    </tr>\n",
       "    <tr>\n",
       "      <th>AOI Order Right</th>\n",
       "      <td>object</td>\n",
       "    </tr>\n",
       "    <tr>\n",
       "      <th>AOI Group Left</th>\n",
       "      <td>object</td>\n",
       "    </tr>\n",
       "    <tr>\n",
       "      <th>AOI Scope Left</th>\n",
       "      <td>object</td>\n",
       "    </tr>\n",
       "    <tr>\n",
       "      <th>AOI Order Binocular</th>\n",
       "      <td>object</td>\n",
       "    </tr>\n",
       "    <tr>\n",
       "      <th>groupe d'enfants</th>\n",
       "      <td>object</td>\n",
       "    </tr>\n",
       "  </tbody>\n",
       "</table>\n",
       "</div>\n",
       "    <div class=\"colab-df-buttons\">\n",
       "\n",
       "  <div class=\"colab-df-container\">\n",
       "    <button class=\"colab-df-convert\" onclick=\"convertToInteractive('df-ce240739-1fa1-49e3-bc8b-c48cdf30d719')\"\n",
       "            title=\"Convert this dataframe to an interactive table.\"\n",
       "            style=\"display:none;\">\n",
       "\n",
       "  <svg xmlns=\"http://www.w3.org/2000/svg\" height=\"24px\" viewBox=\"0 -960 960 960\">\n",
       "    <path d=\"M120-120v-720h720v720H120Zm60-500h600v-160H180v160Zm220 220h160v-160H400v160Zm0 220h160v-160H400v160ZM180-400h160v-160H180v160Zm440 0h160v-160H620v160ZM180-180h160v-160H180v160Zm440 0h160v-160H620v160Z\"/>\n",
       "  </svg>\n",
       "    </button>\n",
       "\n",
       "  <style>\n",
       "    .colab-df-container {\n",
       "      display:flex;\n",
       "      gap: 12px;\n",
       "    }\n",
       "\n",
       "    .colab-df-convert {\n",
       "      background-color: #E8F0FE;\n",
       "      border: none;\n",
       "      border-radius: 50%;\n",
       "      cursor: pointer;\n",
       "      display: none;\n",
       "      fill: #1967D2;\n",
       "      height: 32px;\n",
       "      padding: 0 0 0 0;\n",
       "      width: 32px;\n",
       "    }\n",
       "\n",
       "    .colab-df-convert:hover {\n",
       "      background-color: #E2EBFA;\n",
       "      box-shadow: 0px 1px 2px rgba(60, 64, 67, 0.3), 0px 1px 3px 1px rgba(60, 64, 67, 0.15);\n",
       "      fill: #174EA6;\n",
       "    }\n",
       "\n",
       "    .colab-df-buttons div {\n",
       "      margin-bottom: 4px;\n",
       "    }\n",
       "\n",
       "    [theme=dark] .colab-df-convert {\n",
       "      background-color: #3B4455;\n",
       "      fill: #D2E3FC;\n",
       "    }\n",
       "\n",
       "    [theme=dark] .colab-df-convert:hover {\n",
       "      background-color: #434B5C;\n",
       "      box-shadow: 0px 1px 3px 1px rgba(0, 0, 0, 0.15);\n",
       "      filter: drop-shadow(0px 1px 2px rgba(0, 0, 0, 0.3));\n",
       "      fill: #FFFFFF;\n",
       "    }\n",
       "  </style>\n",
       "\n",
       "    <script>\n",
       "      const buttonEl =\n",
       "        document.querySelector('#df-ce240739-1fa1-49e3-bc8b-c48cdf30d719 button.colab-df-convert');\n",
       "      buttonEl.style.display =\n",
       "        google.colab.kernel.accessAllowed ? 'block' : 'none';\n",
       "\n",
       "      async function convertToInteractive(key) {\n",
       "        const element = document.querySelector('#df-ce240739-1fa1-49e3-bc8b-c48cdf30d719');\n",
       "        const dataTable =\n",
       "          await google.colab.kernel.invokeFunction('convertToInteractive',\n",
       "                                                    [key], {});\n",
       "        if (!dataTable) return;\n",
       "\n",
       "        const docLinkHtml = 'Like what you see? Visit the ' +\n",
       "          '<a target=\"_blank\" href=https://colab.research.google.com/notebooks/data_table.ipynb>data table notebook</a>'\n",
       "          + ' to learn more about interactive tables.';\n",
       "        element.innerHTML = '';\n",
       "        dataTable['output_type'] = 'display_data';\n",
       "        await google.colab.output.renderOutput(dataTable, element);\n",
       "        const docLink = document.createElement('div');\n",
       "        docLink.innerHTML = docLinkHtml;\n",
       "        element.appendChild(docLink);\n",
       "      }\n",
       "    </script>\n",
       "  </div>\n",
       "\n",
       "\n",
       "<div id=\"df-30915981-7701-4e3c-804b-30ba8ae8d1be\">\n",
       "  <button class=\"colab-df-quickchart\" onclick=\"quickchart('df-30915981-7701-4e3c-804b-30ba8ae8d1be')\"\n",
       "            title=\"Suggest charts\"\n",
       "            style=\"display:none;\">\n",
       "\n",
       "<svg xmlns=\"http://www.w3.org/2000/svg\" height=\"24px\"viewBox=\"0 0 24 24\"\n",
       "     width=\"24px\">\n",
       "    <g>\n",
       "        <path d=\"M19 3H5c-1.1 0-2 .9-2 2v14c0 1.1.9 2 2 2h14c1.1 0 2-.9 2-2V5c0-1.1-.9-2-2-2zM9 17H7v-7h2v7zm4 0h-2V7h2v10zm4 0h-2v-4h2v4z\"/>\n",
       "    </g>\n",
       "</svg>\n",
       "  </button>\n",
       "\n",
       "<style>\n",
       "  .colab-df-quickchart {\n",
       "      --bg-color: #E8F0FE;\n",
       "      --fill-color: #1967D2;\n",
       "      --hover-bg-color: #E2EBFA;\n",
       "      --hover-fill-color: #174EA6;\n",
       "      --disabled-fill-color: #AAA;\n",
       "      --disabled-bg-color: #DDD;\n",
       "  }\n",
       "\n",
       "  [theme=dark] .colab-df-quickchart {\n",
       "      --bg-color: #3B4455;\n",
       "      --fill-color: #D2E3FC;\n",
       "      --hover-bg-color: #434B5C;\n",
       "      --hover-fill-color: #FFFFFF;\n",
       "      --disabled-bg-color: #3B4455;\n",
       "      --disabled-fill-color: #666;\n",
       "  }\n",
       "\n",
       "  .colab-df-quickchart {\n",
       "    background-color: var(--bg-color);\n",
       "    border: none;\n",
       "    border-radius: 50%;\n",
       "    cursor: pointer;\n",
       "    display: none;\n",
       "    fill: var(--fill-color);\n",
       "    height: 32px;\n",
       "    padding: 0;\n",
       "    width: 32px;\n",
       "  }\n",
       "\n",
       "  .colab-df-quickchart:hover {\n",
       "    background-color: var(--hover-bg-color);\n",
       "    box-shadow: 0 1px 2px rgba(60, 64, 67, 0.3), 0 1px 3px 1px rgba(60, 64, 67, 0.15);\n",
       "    fill: var(--button-hover-fill-color);\n",
       "  }\n",
       "\n",
       "  .colab-df-quickchart-complete:disabled,\n",
       "  .colab-df-quickchart-complete:disabled:hover {\n",
       "    background-color: var(--disabled-bg-color);\n",
       "    fill: var(--disabled-fill-color);\n",
       "    box-shadow: none;\n",
       "  }\n",
       "\n",
       "  .colab-df-spinner {\n",
       "    border: 2px solid var(--fill-color);\n",
       "    border-color: transparent;\n",
       "    border-bottom-color: var(--fill-color);\n",
       "    animation:\n",
       "      spin 1s steps(1) infinite;\n",
       "  }\n",
       "\n",
       "  @keyframes spin {\n",
       "    0% {\n",
       "      border-color: transparent;\n",
       "      border-bottom-color: var(--fill-color);\n",
       "      border-left-color: var(--fill-color);\n",
       "    }\n",
       "    20% {\n",
       "      border-color: transparent;\n",
       "      border-left-color: var(--fill-color);\n",
       "      border-top-color: var(--fill-color);\n",
       "    }\n",
       "    30% {\n",
       "      border-color: transparent;\n",
       "      border-left-color: var(--fill-color);\n",
       "      border-top-color: var(--fill-color);\n",
       "      border-right-color: var(--fill-color);\n",
       "    }\n",
       "    40% {\n",
       "      border-color: transparent;\n",
       "      border-right-color: var(--fill-color);\n",
       "      border-top-color: var(--fill-color);\n",
       "    }\n",
       "    60% {\n",
       "      border-color: transparent;\n",
       "      border-right-color: var(--fill-color);\n",
       "    }\n",
       "    80% {\n",
       "      border-color: transparent;\n",
       "      border-right-color: var(--fill-color);\n",
       "      border-bottom-color: var(--fill-color);\n",
       "    }\n",
       "    90% {\n",
       "      border-color: transparent;\n",
       "      border-bottom-color: var(--fill-color);\n",
       "    }\n",
       "  }\n",
       "</style>\n",
       "\n",
       "  <script>\n",
       "    async function quickchart(key) {\n",
       "      const quickchartButtonEl =\n",
       "        document.querySelector('#' + key + ' button');\n",
       "      quickchartButtonEl.disabled = true;  // To prevent multiple clicks.\n",
       "      quickchartButtonEl.classList.add('colab-df-spinner');\n",
       "      try {\n",
       "        const charts = await google.colab.kernel.invokeFunction(\n",
       "            'suggestCharts', [key], {});\n",
       "      } catch (error) {\n",
       "        console.error('Error during call to suggestCharts:', error);\n",
       "      }\n",
       "      quickchartButtonEl.classList.remove('colab-df-spinner');\n",
       "      quickchartButtonEl.classList.add('colab-df-quickchart-complete');\n",
       "    }\n",
       "    (() => {\n",
       "      let quickchartButtonEl =\n",
       "        document.querySelector('#df-30915981-7701-4e3c-804b-30ba8ae8d1be button');\n",
       "      quickchartButtonEl.style.display =\n",
       "        google.colab.kernel.accessAllowed ? 'block' : 'none';\n",
       "    })();\n",
       "  </script>\n",
       "</div>\n",
       "\n",
       "    </div>\n",
       "  </div>\n"
      ],
      "text/plain": [
       "                             Data Type\n",
       "Unnamed: 0.1                     int64\n",
       "Unnamed: 0                       int64\n",
       "RecordingTime [ms]             float64\n",
       "Time of Day [h:m:s:ms]          object\n",
       "Trial                           object\n",
       "Stimulus                        object\n",
       "Export Start Trial Time [ms]   float64\n",
       "Export End Trial Time [ms]     float64\n",
       "Participant                      int64\n",
       "Color                           object\n",
       "Tracking Ratio [%]             float64\n",
       "Category Group                  object\n",
       "Category Right                  object\n",
       "Category Left                   object\n",
       "Index Right                     object\n",
       "Index Left                      object\n",
       "Pupil Diameter Right [mm]       object\n",
       "Pupil Diameter Left [mm]        object\n",
       "Point of Regard Right X [px]    object\n",
       "Point of Regard Right Y [px]    object\n",
       "Point of Regard Left X [px]     object\n",
       "Point of Regard Left Y [px]     object\n",
       "AOI Name Right                  object\n",
       "AOI Name Left                   object\n",
       "Gaze Vector Right X             object\n",
       "Gaze Vector Right Y             object\n",
       "Gaze Vector Right Z             object\n",
       "Gaze Vector Left X              object\n",
       "Gaze Vector Left Y              object\n",
       "Gaze Vector Left Z              object\n",
       "Annotation Name                 object\n",
       "Annotation Description          object\n",
       "Annotation Tags                 object\n",
       "Mouse Position X [px]           object\n",
       "Mouse Position Y [px]           object\n",
       "Scroll Direction X              object\n",
       "Scroll Direction Y              object\n",
       "Content                         object\n",
       "Pupil Size Right X [px]         object\n",
       "Pupil Size Right Y [px]         object\n",
       "Pupil Size Left X [px]          object\n",
       "Pupil Size Left Y [px]          object\n",
       "Eye Position Right X [mm]       object\n",
       "Eye Position Right Y [mm]       object\n",
       "Eye Position Right Z [mm]       object\n",
       "Eye Position Left X [mm]        object\n",
       "Eye Position Left Y [mm]        object\n",
       "Eye Position Left Z [mm]        object\n",
       "Pupil Position Right X [px]     object\n",
       "Pupil Position Right Y [px]     object\n",
       "Pupil Position Left X [px]      object\n",
       "Pupil Position Left Y [px]      object\n",
       "Port Status                     object\n",
       "AOI Group Right                 object\n",
       "AOI Scope Right                 object\n",
       "AOI Order Right                 object\n",
       "AOI Group Left                  object\n",
       "AOI Scope Left                  object\n",
       "AOI Order Binocular             object\n",
       "groupe d'enfants                object"
      ]
     },
     "execution_count": 8,
     "metadata": {},
     "output_type": "execute_result"
    }
   ],
   "source": [
    "pd.DataFrame(df.dtypes, columns = [\"Data Type\"])"
   ]
  },
  {
   "cell_type": "code",
   "execution_count": 9,
   "metadata": {
    "colab": {
     "base_uri": "https://localhost:8080/"
    },
    "id": "e-4elUG8lae9",
    "outputId": "798f66ef-b35c-401a-e3e7-095f2702d11e"
   },
   "outputs": [
    {
     "data": {
      "text/plain": [
       "60"
      ]
     },
     "execution_count": 9,
     "metadata": {},
     "output_type": "execute_result"
    }
   ],
   "source": [
    "col = df.columns\n",
    "len(col)"
   ]
  },
  {
   "cell_type": "code",
   "execution_count": 10,
   "metadata": {
    "colab": {
     "base_uri": "https://localhost:8080/"
    },
    "id": "uTbl1YUzlgSY",
    "outputId": "38f6fb1c-3b13-4042-ac77-d9515c825dfc"
   },
   "outputs": [
    {
     "name": "stdout",
     "output_type": "stream",
     "text": [
      "Columns with Mixed-Type Values: ['Category Left', 'Index Left', 'Pupil Diameter Right [mm]', 'Pupil Diameter Left [mm]', 'Point of Regard Left X [px]', 'Point of Regard Left Y [px]', 'AOI Name Right', 'AOI Name Left', 'Gaze Vector Left X', 'Gaze Vector Left Y', 'Gaze Vector Left Z', 'Pupil Size Right X [px]', 'Pupil Size Right Y [px]', 'Pupil Size Left X [px]', 'Pupil Size Left Y [px]', 'Eye Position Right X [mm]', 'Eye Position Right Y [mm]', 'Eye Position Right Z [mm]', 'Eye Position Left X [mm]', 'Eye Position Left Y [mm]', 'Eye Position Left Z [mm]', 'Pupil Position Right X [px]', 'Pupil Position Right Y [px]', 'Pupil Position Left X [px]', 'Pupil Position Left Y [px]', 'Port Status', 'AOI Group Right', 'AOI Scope Right', 'AOI Order Right', 'AOI Group Left', 'AOI Scope Left', 'AOI Order Binocular', \"groupe d'enfants\"]\n"
     ]
    }
   ],
   "source": [
    "# Checking for mixed-type values in each column\n",
    "mixed_type_columns = df.applymap(type).nunique() > 1\n",
    "\n",
    "# Listing columns with mixed-type values\n",
    "columns_with_mixed_types = mixed_type_columns[mixed_type_columns].index.tolist()\n",
    "\n",
    "print(\"Columns with Mixed-Type Values:\", columns_with_mixed_types)"
   ]
  },
  {
   "cell_type": "code",
   "execution_count": 11,
   "metadata": {
    "id": "mGLSlJRolpSE"
   },
   "outputs": [],
   "source": [
    "for column in columns_with_mixed_types:\n",
    "    df[column] = pd.to_numeric(df[column], errors='coerce')"
   ]
  },
  {
   "cell_type": "code",
   "execution_count": 12,
   "metadata": {
    "colab": {
     "base_uri": "https://localhost:8080/",
     "height": 419
    },
    "id": "gTvHc47qmpqZ",
    "outputId": "0b1dcabc-9c27-41b8-9613-cbe822b04620"
   },
   "outputs": [
    {
     "data": {
      "application/vnd.google.colaboratory.intrinsic+json": {
       "type": "dataframe"
      },
      "text/html": [
       "\n",
       "  <div id=\"df-50811e97-0ad6-47d4-a9f3-6c1536704440\" class=\"colab-df-container\">\n",
       "    <div>\n",
       "<style scoped>\n",
       "    .dataframe tbody tr th:only-of-type {\n",
       "        vertical-align: middle;\n",
       "    }\n",
       "\n",
       "    .dataframe tbody tr th {\n",
       "        vertical-align: top;\n",
       "    }\n",
       "\n",
       "    .dataframe thead th {\n",
       "        text-align: right;\n",
       "    }\n",
       "</style>\n",
       "<table border=\"1\" class=\"dataframe\">\n",
       "  <thead>\n",
       "    <tr style=\"text-align: right;\">\n",
       "      <th></th>\n",
       "      <th>Unnamed: 0.1</th>\n",
       "      <th>Unnamed: 0</th>\n",
       "      <th>RecordingTime [ms]</th>\n",
       "      <th>Export Start Trial Time [ms]</th>\n",
       "      <th>Export End Trial Time [ms]</th>\n",
       "      <th>Participant</th>\n",
       "      <th>Tracking Ratio [%]</th>\n",
       "      <th>Category Left</th>\n",
       "      <th>Index Left</th>\n",
       "      <th>Pupil Diameter Right [mm]</th>\n",
       "      <th>...</th>\n",
       "      <th>Pupil Position Left X [px]</th>\n",
       "      <th>Pupil Position Left Y [px]</th>\n",
       "      <th>Port Status</th>\n",
       "      <th>AOI Group Right</th>\n",
       "      <th>AOI Scope Right</th>\n",
       "      <th>AOI Order Right</th>\n",
       "      <th>AOI Group Left</th>\n",
       "      <th>AOI Scope Left</th>\n",
       "      <th>AOI Order Binocular</th>\n",
       "      <th>groupe d'enfants</th>\n",
       "    </tr>\n",
       "  </thead>\n",
       "  <tbody>\n",
       "    <tr>\n",
       "      <th>count</th>\n",
       "      <td>1.015142e+06</td>\n",
       "      <td>1.015142e+06</td>\n",
       "      <td>1.015142e+06</td>\n",
       "      <td>1015142.0</td>\n",
       "      <td>1.015142e+06</td>\n",
       "      <td>1.015142e+06</td>\n",
       "      <td>1.015142e+06</td>\n",
       "      <td>0.0</td>\n",
       "      <td>911361.000000</td>\n",
       "      <td>635267.000000</td>\n",
       "      <td>...</td>\n",
       "      <td>863202.000000</td>\n",
       "      <td>863202.000000</td>\n",
       "      <td>469390.0</td>\n",
       "      <td>0.0</td>\n",
       "      <td>0.0</td>\n",
       "      <td>6438.000000</td>\n",
       "      <td>0.0</td>\n",
       "      <td>0.0</td>\n",
       "      <td>6438.000000</td>\n",
       "      <td>0.0</td>\n",
       "    </tr>\n",
       "    <tr>\n",
       "      <th>mean</th>\n",
       "      <td>1.136375e+06</td>\n",
       "      <td>7.460521e+04</td>\n",
       "      <td>3.207003e+06</td>\n",
       "      <td>0.0</td>\n",
       "      <td>3.066610e+04</td>\n",
       "      <td>3.725915e+01</td>\n",
       "      <td>7.431016e+01</td>\n",
       "      <td>NaN</td>\n",
       "      <td>23.160146</td>\n",
       "      <td>3.631987</td>\n",
       "      <td>...</td>\n",
       "      <td>575.836328</td>\n",
       "      <td>502.949108</td>\n",
       "      <td>0.0</td>\n",
       "      <td>NaN</td>\n",
       "      <td>NaN</td>\n",
       "      <td>6.437714</td>\n",
       "      <td>NaN</td>\n",
       "      <td>NaN</td>\n",
       "      <td>6.437714</td>\n",
       "      <td>NaN</td>\n",
       "    </tr>\n",
       "    <tr>\n",
       "      <th>std</th>\n",
       "      <td>6.614971e+05</td>\n",
       "      <td>8.573558e+04</td>\n",
       "      <td>3.467337e+06</td>\n",
       "      <td>0.0</td>\n",
       "      <td>2.172324e+04</td>\n",
       "      <td>1.652566e+01</td>\n",
       "      <td>2.821990e+01</td>\n",
       "      <td>NaN</td>\n",
       "      <td>27.630231</td>\n",
       "      <td>1.253131</td>\n",
       "      <td>...</td>\n",
       "      <td>321.698448</td>\n",
       "      <td>285.253511</td>\n",
       "      <td>0.0</td>\n",
       "      <td>NaN</td>\n",
       "      <td>NaN</td>\n",
       "      <td>1.579764</td>\n",
       "      <td>NaN</td>\n",
       "      <td>NaN</td>\n",
       "      <td>1.579764</td>\n",
       "      <td>NaN</td>\n",
       "    </tr>\n",
       "    <tr>\n",
       "      <th>min</th>\n",
       "      <td>0.000000e+00</td>\n",
       "      <td>0.000000e+00</td>\n",
       "      <td>8.358886e+04</td>\n",
       "      <td>0.0</td>\n",
       "      <td>2.659272e+03</td>\n",
       "      <td>1.000000e+00</td>\n",
       "      <td>0.000000e+00</td>\n",
       "      <td>NaN</td>\n",
       "      <td>1.000000</td>\n",
       "      <td>0.000000</td>\n",
       "      <td>...</td>\n",
       "      <td>0.000000</td>\n",
       "      <td>0.000000</td>\n",
       "      <td>0.0</td>\n",
       "      <td>NaN</td>\n",
       "      <td>NaN</td>\n",
       "      <td>2.000000</td>\n",
       "      <td>NaN</td>\n",
       "      <td>NaN</td>\n",
       "      <td>2.000000</td>\n",
       "      <td>NaN</td>\n",
       "    </tr>\n",
       "    <tr>\n",
       "      <th>25%</th>\n",
       "      <td>5.524532e+05</td>\n",
       "      <td>1.988500e+04</td>\n",
       "      <td>9.403279e+05</td>\n",
       "      <td>0.0</td>\n",
       "      <td>2.900033e+03</td>\n",
       "      <td>2.500000e+01</td>\n",
       "      <td>6.047070e+01</td>\n",
       "      <td>NaN</td>\n",
       "      <td>3.000000</td>\n",
       "      <td>3.063200</td>\n",
       "      <td>...</td>\n",
       "      <td>448.733550</td>\n",
       "      <td>323.871525</td>\n",
       "      <td>0.0</td>\n",
       "      <td>NaN</td>\n",
       "      <td>NaN</td>\n",
       "      <td>7.000000</td>\n",
       "      <td>NaN</td>\n",
       "      <td>NaN</td>\n",
       "      <td>7.000000</td>\n",
       "      <td>NaN</td>\n",
       "    </tr>\n",
       "    <tr>\n",
       "      <th>50%</th>\n",
       "      <td>1.179102e+06</td>\n",
       "      <td>4.314400e+04</td>\n",
       "      <td>1.806667e+06</td>\n",
       "      <td>0.0</td>\n",
       "      <td>4.882296e+04</td>\n",
       "      <td>3.700000e+01</td>\n",
       "      <td>8.533950e+01</td>\n",
       "      <td>NaN</td>\n",
       "      <td>10.000000</td>\n",
       "      <td>3.686000</td>\n",
       "      <td>...</td>\n",
       "      <td>635.576600</td>\n",
       "      <td>574.314550</td>\n",
       "      <td>0.0</td>\n",
       "      <td>NaN</td>\n",
       "      <td>NaN</td>\n",
       "      <td>7.000000</td>\n",
       "      <td>NaN</td>\n",
       "      <td>NaN</td>\n",
       "      <td>7.000000</td>\n",
       "      <td>NaN</td>\n",
       "    </tr>\n",
       "    <tr>\n",
       "      <th>75%</th>\n",
       "      <td>1.705920e+06</td>\n",
       "      <td>8.611200e+04</td>\n",
       "      <td>3.715978e+06</td>\n",
       "      <td>0.0</td>\n",
       "      <td>4.911874e+04</td>\n",
       "      <td>5.400000e+01</td>\n",
       "      <td>9.655720e+01</td>\n",
       "      <td>NaN</td>\n",
       "      <td>35.000000</td>\n",
       "      <td>4.428200</td>\n",
       "      <td>...</td>\n",
       "      <td>798.067575</td>\n",
       "      <td>724.554425</td>\n",
       "      <td>0.0</td>\n",
       "      <td>NaN</td>\n",
       "      <td>NaN</td>\n",
       "      <td>7.000000</td>\n",
       "      <td>NaN</td>\n",
       "      <td>NaN</td>\n",
       "      <td>7.000000</td>\n",
       "      <td>NaN</td>\n",
       "    </tr>\n",
       "    <tr>\n",
       "      <th>max</th>\n",
       "      <td>2.228223e+06</td>\n",
       "      <td>3.862790e+05</td>\n",
       "      <td>1.515597e+07</td>\n",
       "      <td>0.0</td>\n",
       "      <td>5.229981e+04</td>\n",
       "      <td>5.900000e+01</td>\n",
       "      <td>1.000000e+02</td>\n",
       "      <td>NaN</td>\n",
       "      <td>155.000000</td>\n",
       "      <td>9.923800</td>\n",
       "      <td>...</td>\n",
       "      <td>1248.105900</td>\n",
       "      <td>1018.228200</td>\n",
       "      <td>0.0</td>\n",
       "      <td>NaN</td>\n",
       "      <td>NaN</td>\n",
       "      <td>7.000000</td>\n",
       "      <td>NaN</td>\n",
       "      <td>NaN</td>\n",
       "      <td>7.000000</td>\n",
       "      <td>NaN</td>\n",
       "    </tr>\n",
       "  </tbody>\n",
       "</table>\n",
       "<p>8 rows × 40 columns</p>\n",
       "</div>\n",
       "    <div class=\"colab-df-buttons\">\n",
       "\n",
       "  <div class=\"colab-df-container\">\n",
       "    <button class=\"colab-df-convert\" onclick=\"convertToInteractive('df-50811e97-0ad6-47d4-a9f3-6c1536704440')\"\n",
       "            title=\"Convert this dataframe to an interactive table.\"\n",
       "            style=\"display:none;\">\n",
       "\n",
       "  <svg xmlns=\"http://www.w3.org/2000/svg\" height=\"24px\" viewBox=\"0 -960 960 960\">\n",
       "    <path d=\"M120-120v-720h720v720H120Zm60-500h600v-160H180v160Zm220 220h160v-160H400v160Zm0 220h160v-160H400v160ZM180-400h160v-160H180v160Zm440 0h160v-160H620v160ZM180-180h160v-160H180v160Zm440 0h160v-160H620v160Z\"/>\n",
       "  </svg>\n",
       "    </button>\n",
       "\n",
       "  <style>\n",
       "    .colab-df-container {\n",
       "      display:flex;\n",
       "      gap: 12px;\n",
       "    }\n",
       "\n",
       "    .colab-df-convert {\n",
       "      background-color: #E8F0FE;\n",
       "      border: none;\n",
       "      border-radius: 50%;\n",
       "      cursor: pointer;\n",
       "      display: none;\n",
       "      fill: #1967D2;\n",
       "      height: 32px;\n",
       "      padding: 0 0 0 0;\n",
       "      width: 32px;\n",
       "    }\n",
       "\n",
       "    .colab-df-convert:hover {\n",
       "      background-color: #E2EBFA;\n",
       "      box-shadow: 0px 1px 2px rgba(60, 64, 67, 0.3), 0px 1px 3px 1px rgba(60, 64, 67, 0.15);\n",
       "      fill: #174EA6;\n",
       "    }\n",
       "\n",
       "    .colab-df-buttons div {\n",
       "      margin-bottom: 4px;\n",
       "    }\n",
       "\n",
       "    [theme=dark] .colab-df-convert {\n",
       "      background-color: #3B4455;\n",
       "      fill: #D2E3FC;\n",
       "    }\n",
       "\n",
       "    [theme=dark] .colab-df-convert:hover {\n",
       "      background-color: #434B5C;\n",
       "      box-shadow: 0px 1px 3px 1px rgba(0, 0, 0, 0.15);\n",
       "      filter: drop-shadow(0px 1px 2px rgba(0, 0, 0, 0.3));\n",
       "      fill: #FFFFFF;\n",
       "    }\n",
       "  </style>\n",
       "\n",
       "    <script>\n",
       "      const buttonEl =\n",
       "        document.querySelector('#df-50811e97-0ad6-47d4-a9f3-6c1536704440 button.colab-df-convert');\n",
       "      buttonEl.style.display =\n",
       "        google.colab.kernel.accessAllowed ? 'block' : 'none';\n",
       "\n",
       "      async function convertToInteractive(key) {\n",
       "        const element = document.querySelector('#df-50811e97-0ad6-47d4-a9f3-6c1536704440');\n",
       "        const dataTable =\n",
       "          await google.colab.kernel.invokeFunction('convertToInteractive',\n",
       "                                                    [key], {});\n",
       "        if (!dataTable) return;\n",
       "\n",
       "        const docLinkHtml = 'Like what you see? Visit the ' +\n",
       "          '<a target=\"_blank\" href=https://colab.research.google.com/notebooks/data_table.ipynb>data table notebook</a>'\n",
       "          + ' to learn more about interactive tables.';\n",
       "        element.innerHTML = '';\n",
       "        dataTable['output_type'] = 'display_data';\n",
       "        await google.colab.output.renderOutput(dataTable, element);\n",
       "        const docLink = document.createElement('div');\n",
       "        docLink.innerHTML = docLinkHtml;\n",
       "        element.appendChild(docLink);\n",
       "      }\n",
       "    </script>\n",
       "  </div>\n",
       "\n",
       "\n",
       "<div id=\"df-a653c17a-7d8e-4ca3-87fa-1488235e3edf\">\n",
       "  <button class=\"colab-df-quickchart\" onclick=\"quickchart('df-a653c17a-7d8e-4ca3-87fa-1488235e3edf')\"\n",
       "            title=\"Suggest charts\"\n",
       "            style=\"display:none;\">\n",
       "\n",
       "<svg xmlns=\"http://www.w3.org/2000/svg\" height=\"24px\"viewBox=\"0 0 24 24\"\n",
       "     width=\"24px\">\n",
       "    <g>\n",
       "        <path d=\"M19 3H5c-1.1 0-2 .9-2 2v14c0 1.1.9 2 2 2h14c1.1 0 2-.9 2-2V5c0-1.1-.9-2-2-2zM9 17H7v-7h2v7zm4 0h-2V7h2v10zm4 0h-2v-4h2v4z\"/>\n",
       "    </g>\n",
       "</svg>\n",
       "  </button>\n",
       "\n",
       "<style>\n",
       "  .colab-df-quickchart {\n",
       "      --bg-color: #E8F0FE;\n",
       "      --fill-color: #1967D2;\n",
       "      --hover-bg-color: #E2EBFA;\n",
       "      --hover-fill-color: #174EA6;\n",
       "      --disabled-fill-color: #AAA;\n",
       "      --disabled-bg-color: #DDD;\n",
       "  }\n",
       "\n",
       "  [theme=dark] .colab-df-quickchart {\n",
       "      --bg-color: #3B4455;\n",
       "      --fill-color: #D2E3FC;\n",
       "      --hover-bg-color: #434B5C;\n",
       "      --hover-fill-color: #FFFFFF;\n",
       "      --disabled-bg-color: #3B4455;\n",
       "      --disabled-fill-color: #666;\n",
       "  }\n",
       "\n",
       "  .colab-df-quickchart {\n",
       "    background-color: var(--bg-color);\n",
       "    border: none;\n",
       "    border-radius: 50%;\n",
       "    cursor: pointer;\n",
       "    display: none;\n",
       "    fill: var(--fill-color);\n",
       "    height: 32px;\n",
       "    padding: 0;\n",
       "    width: 32px;\n",
       "  }\n",
       "\n",
       "  .colab-df-quickchart:hover {\n",
       "    background-color: var(--hover-bg-color);\n",
       "    box-shadow: 0 1px 2px rgba(60, 64, 67, 0.3), 0 1px 3px 1px rgba(60, 64, 67, 0.15);\n",
       "    fill: var(--button-hover-fill-color);\n",
       "  }\n",
       "\n",
       "  .colab-df-quickchart-complete:disabled,\n",
       "  .colab-df-quickchart-complete:disabled:hover {\n",
       "    background-color: var(--disabled-bg-color);\n",
       "    fill: var(--disabled-fill-color);\n",
       "    box-shadow: none;\n",
       "  }\n",
       "\n",
       "  .colab-df-spinner {\n",
       "    border: 2px solid var(--fill-color);\n",
       "    border-color: transparent;\n",
       "    border-bottom-color: var(--fill-color);\n",
       "    animation:\n",
       "      spin 1s steps(1) infinite;\n",
       "  }\n",
       "\n",
       "  @keyframes spin {\n",
       "    0% {\n",
       "      border-color: transparent;\n",
       "      border-bottom-color: var(--fill-color);\n",
       "      border-left-color: var(--fill-color);\n",
       "    }\n",
       "    20% {\n",
       "      border-color: transparent;\n",
       "      border-left-color: var(--fill-color);\n",
       "      border-top-color: var(--fill-color);\n",
       "    }\n",
       "    30% {\n",
       "      border-color: transparent;\n",
       "      border-left-color: var(--fill-color);\n",
       "      border-top-color: var(--fill-color);\n",
       "      border-right-color: var(--fill-color);\n",
       "    }\n",
       "    40% {\n",
       "      border-color: transparent;\n",
       "      border-right-color: var(--fill-color);\n",
       "      border-top-color: var(--fill-color);\n",
       "    }\n",
       "    60% {\n",
       "      border-color: transparent;\n",
       "      border-right-color: var(--fill-color);\n",
       "    }\n",
       "    80% {\n",
       "      border-color: transparent;\n",
       "      border-right-color: var(--fill-color);\n",
       "      border-bottom-color: var(--fill-color);\n",
       "    }\n",
       "    90% {\n",
       "      border-color: transparent;\n",
       "      border-bottom-color: var(--fill-color);\n",
       "    }\n",
       "  }\n",
       "</style>\n",
       "\n",
       "  <script>\n",
       "    async function quickchart(key) {\n",
       "      const quickchartButtonEl =\n",
       "        document.querySelector('#' + key + ' button');\n",
       "      quickchartButtonEl.disabled = true;  // To prevent multiple clicks.\n",
       "      quickchartButtonEl.classList.add('colab-df-spinner');\n",
       "      try {\n",
       "        const charts = await google.colab.kernel.invokeFunction(\n",
       "            'suggestCharts', [key], {});\n",
       "      } catch (error) {\n",
       "        console.error('Error during call to suggestCharts:', error);\n",
       "      }\n",
       "      quickchartButtonEl.classList.remove('colab-df-spinner');\n",
       "      quickchartButtonEl.classList.add('colab-df-quickchart-complete');\n",
       "    }\n",
       "    (() => {\n",
       "      let quickchartButtonEl =\n",
       "        document.querySelector('#df-a653c17a-7d8e-4ca3-87fa-1488235e3edf button');\n",
       "      quickchartButtonEl.style.display =\n",
       "        google.colab.kernel.accessAllowed ? 'block' : 'none';\n",
       "    })();\n",
       "  </script>\n",
       "</div>\n",
       "\n",
       "    </div>\n",
       "  </div>\n"
      ],
      "text/plain": [
       "       Unnamed: 0.1    Unnamed: 0  RecordingTime [ms]  \\\n",
       "count  1.015142e+06  1.015142e+06        1.015142e+06   \n",
       "mean   1.136375e+06  7.460521e+04        3.207003e+06   \n",
       "std    6.614971e+05  8.573558e+04        3.467337e+06   \n",
       "min    0.000000e+00  0.000000e+00        8.358886e+04   \n",
       "25%    5.524532e+05  1.988500e+04        9.403279e+05   \n",
       "50%    1.179102e+06  4.314400e+04        1.806667e+06   \n",
       "75%    1.705920e+06  8.611200e+04        3.715978e+06   \n",
       "max    2.228223e+06  3.862790e+05        1.515597e+07   \n",
       "\n",
       "       Export Start Trial Time [ms]  Export End Trial Time [ms]   Participant  \\\n",
       "count                     1015142.0                1.015142e+06  1.015142e+06   \n",
       "mean                            0.0                3.066610e+04  3.725915e+01   \n",
       "std                             0.0                2.172324e+04  1.652566e+01   \n",
       "min                             0.0                2.659272e+03  1.000000e+00   \n",
       "25%                             0.0                2.900033e+03  2.500000e+01   \n",
       "50%                             0.0                4.882296e+04  3.700000e+01   \n",
       "75%                             0.0                4.911874e+04  5.400000e+01   \n",
       "max                             0.0                5.229981e+04  5.900000e+01   \n",
       "\n",
       "       Tracking Ratio [%]  Category Left     Index Left  \\\n",
       "count        1.015142e+06            0.0  911361.000000   \n",
       "mean         7.431016e+01            NaN      23.160146   \n",
       "std          2.821990e+01            NaN      27.630231   \n",
       "min          0.000000e+00            NaN       1.000000   \n",
       "25%          6.047070e+01            NaN       3.000000   \n",
       "50%          8.533950e+01            NaN      10.000000   \n",
       "75%          9.655720e+01            NaN      35.000000   \n",
       "max          1.000000e+02            NaN     155.000000   \n",
       "\n",
       "       Pupil Diameter Right [mm]  ...  Pupil Position Left X [px]  \\\n",
       "count              635267.000000  ...               863202.000000   \n",
       "mean                    3.631987  ...                  575.836328   \n",
       "std                     1.253131  ...                  321.698448   \n",
       "min                     0.000000  ...                    0.000000   \n",
       "25%                     3.063200  ...                  448.733550   \n",
       "50%                     3.686000  ...                  635.576600   \n",
       "75%                     4.428200  ...                  798.067575   \n",
       "max                     9.923800  ...                 1248.105900   \n",
       "\n",
       "       Pupil Position Left Y [px]  Port Status  AOI Group Right  \\\n",
       "count               863202.000000     469390.0              0.0   \n",
       "mean                   502.949108          0.0              NaN   \n",
       "std                    285.253511          0.0              NaN   \n",
       "min                      0.000000          0.0              NaN   \n",
       "25%                    323.871525          0.0              NaN   \n",
       "50%                    574.314550          0.0              NaN   \n",
       "75%                    724.554425          0.0              NaN   \n",
       "max                   1018.228200          0.0              NaN   \n",
       "\n",
       "       AOI Scope Right  AOI Order Right  AOI Group Left  AOI Scope Left  \\\n",
       "count              0.0      6438.000000             0.0             0.0   \n",
       "mean               NaN         6.437714             NaN             NaN   \n",
       "std                NaN         1.579764             NaN             NaN   \n",
       "min                NaN         2.000000             NaN             NaN   \n",
       "25%                NaN         7.000000             NaN             NaN   \n",
       "50%                NaN         7.000000             NaN             NaN   \n",
       "75%                NaN         7.000000             NaN             NaN   \n",
       "max                NaN         7.000000             NaN             NaN   \n",
       "\n",
       "       AOI Order Binocular  groupe d'enfants  \n",
       "count          6438.000000               0.0  \n",
       "mean              6.437714               NaN  \n",
       "std               1.579764               NaN  \n",
       "min               2.000000               NaN  \n",
       "25%               7.000000               NaN  \n",
       "50%               7.000000               NaN  \n",
       "75%               7.000000               NaN  \n",
       "max               7.000000               NaN  \n",
       "\n",
       "[8 rows x 40 columns]"
      ]
     },
     "execution_count": 12,
     "metadata": {},
     "output_type": "execute_result"
    }
   ],
   "source": [
    "df.describe()"
   ]
  },
  {
   "cell_type": "code",
   "execution_count": 13,
   "metadata": {
    "colab": {
     "base_uri": "https://localhost:8080/",
     "height": 565
    },
    "id": "5IlIlVHNmyu2",
    "outputId": "c65cb125-1b68-4ad7-bae7-e3ef95fef073"
   },
   "outputs": [
    {
     "data": {
      "application/vnd.google.colaboratory.intrinsic+json": {
       "type": "dataframe",
       "variable_name": "df"
      },
      "text/html": [
       "\n",
       "  <div id=\"df-42e36896-5c34-4bec-812d-d9d1e377b304\" class=\"colab-df-container\">\n",
       "    <div>\n",
       "<style scoped>\n",
       "    .dataframe tbody tr th:only-of-type {\n",
       "        vertical-align: middle;\n",
       "    }\n",
       "\n",
       "    .dataframe tbody tr th {\n",
       "        vertical-align: top;\n",
       "    }\n",
       "\n",
       "    .dataframe thead th {\n",
       "        text-align: right;\n",
       "    }\n",
       "</style>\n",
       "<table border=\"1\" class=\"dataframe\">\n",
       "  <thead>\n",
       "    <tr style=\"text-align: right;\">\n",
       "      <th></th>\n",
       "      <th>Unnamed: 0.1</th>\n",
       "      <th>Unnamed: 0</th>\n",
       "      <th>RecordingTime [ms]</th>\n",
       "      <th>Time of Day [h:m:s:ms]</th>\n",
       "      <th>Trial</th>\n",
       "      <th>Stimulus</th>\n",
       "      <th>Export Start Trial Time [ms]</th>\n",
       "      <th>Export End Trial Time [ms]</th>\n",
       "      <th>Participant</th>\n",
       "      <th>Color</th>\n",
       "      <th>...</th>\n",
       "      <th>Pupil Position Left X [px]</th>\n",
       "      <th>Pupil Position Left Y [px]</th>\n",
       "      <th>Port Status</th>\n",
       "      <th>AOI Group Right</th>\n",
       "      <th>AOI Scope Right</th>\n",
       "      <th>AOI Order Right</th>\n",
       "      <th>AOI Group Left</th>\n",
       "      <th>AOI Scope Left</th>\n",
       "      <th>AOI Order Binocular</th>\n",
       "      <th>groupe d'enfants</th>\n",
       "    </tr>\n",
       "  </thead>\n",
       "  <tbody>\n",
       "    <tr>\n",
       "      <th>0</th>\n",
       "      <td>0</td>\n",
       "      <td>0</td>\n",
       "      <td>4780015.315</td>\n",
       "      <td>13:22:17:254</td>\n",
       "      <td>Trial020</td>\n",
       "      <td>20 eye tracking (ballon droite).avi</td>\n",
       "      <td>0.0</td>\n",
       "      <td>52058.676</td>\n",
       "      <td>50</td>\n",
       "      <td>Coral</td>\n",
       "      <td>...</td>\n",
       "      <td>NaN</td>\n",
       "      <td>NaN</td>\n",
       "      <td>NaN</td>\n",
       "      <td>NaN</td>\n",
       "      <td>NaN</td>\n",
       "      <td>NaN</td>\n",
       "      <td>NaN</td>\n",
       "      <td>NaN</td>\n",
       "      <td>NaN</td>\n",
       "      <td>NaN</td>\n",
       "    </tr>\n",
       "    <tr>\n",
       "      <th>1</th>\n",
       "      <td>1</td>\n",
       "      <td>1</td>\n",
       "      <td>4780020.865</td>\n",
       "      <td>13:22:17:260</td>\n",
       "      <td>Trial020</td>\n",
       "      <td>20 eye tracking (ballon droite).avi</td>\n",
       "      <td>0.0</td>\n",
       "      <td>52058.676</td>\n",
       "      <td>50</td>\n",
       "      <td>Coral</td>\n",
       "      <td>...</td>\n",
       "      <td>NaN</td>\n",
       "      <td>NaN</td>\n",
       "      <td>NaN</td>\n",
       "      <td>NaN</td>\n",
       "      <td>NaN</td>\n",
       "      <td>NaN</td>\n",
       "      <td>NaN</td>\n",
       "      <td>NaN</td>\n",
       "      <td>NaN</td>\n",
       "      <td>NaN</td>\n",
       "    </tr>\n",
       "    <tr>\n",
       "      <th>2</th>\n",
       "      <td>2</td>\n",
       "      <td>2</td>\n",
       "      <td>4780040.758</td>\n",
       "      <td>13:22:17:279</td>\n",
       "      <td>Trial020</td>\n",
       "      <td>20 eye tracking (ballon droite).avi</td>\n",
       "      <td>0.0</td>\n",
       "      <td>52058.676</td>\n",
       "      <td>50</td>\n",
       "      <td>Coral</td>\n",
       "      <td>...</td>\n",
       "      <td>NaN</td>\n",
       "      <td>NaN</td>\n",
       "      <td>NaN</td>\n",
       "      <td>NaN</td>\n",
       "      <td>NaN</td>\n",
       "      <td>NaN</td>\n",
       "      <td>NaN</td>\n",
       "      <td>NaN</td>\n",
       "      <td>NaN</td>\n",
       "      <td>NaN</td>\n",
       "    </tr>\n",
       "    <tr>\n",
       "      <th>3</th>\n",
       "      <td>3</td>\n",
       "      <td>3</td>\n",
       "      <td>4780080.503</td>\n",
       "      <td>13:22:17:319</td>\n",
       "      <td>Trial020</td>\n",
       "      <td>20 eye tracking (ballon droite).avi</td>\n",
       "      <td>0.0</td>\n",
       "      <td>52058.676</td>\n",
       "      <td>50</td>\n",
       "      <td>Coral</td>\n",
       "      <td>...</td>\n",
       "      <td>NaN</td>\n",
       "      <td>NaN</td>\n",
       "      <td>NaN</td>\n",
       "      <td>NaN</td>\n",
       "      <td>NaN</td>\n",
       "      <td>NaN</td>\n",
       "      <td>NaN</td>\n",
       "      <td>NaN</td>\n",
       "      <td>NaN</td>\n",
       "      <td>NaN</td>\n",
       "    </tr>\n",
       "    <tr>\n",
       "      <th>4</th>\n",
       "      <td>4</td>\n",
       "      <td>4</td>\n",
       "      <td>4780120.360</td>\n",
       "      <td>13:22:17:359</td>\n",
       "      <td>Trial020</td>\n",
       "      <td>20 eye tracking (ballon droite).avi</td>\n",
       "      <td>0.0</td>\n",
       "      <td>52058.676</td>\n",
       "      <td>50</td>\n",
       "      <td>Coral</td>\n",
       "      <td>...</td>\n",
       "      <td>NaN</td>\n",
       "      <td>NaN</td>\n",
       "      <td>NaN</td>\n",
       "      <td>NaN</td>\n",
       "      <td>NaN</td>\n",
       "      <td>NaN</td>\n",
       "      <td>NaN</td>\n",
       "      <td>NaN</td>\n",
       "      <td>NaN</td>\n",
       "      <td>NaN</td>\n",
       "    </tr>\n",
       "  </tbody>\n",
       "</table>\n",
       "<p>5 rows × 60 columns</p>\n",
       "</div>\n",
       "    <div class=\"colab-df-buttons\">\n",
       "\n",
       "  <div class=\"colab-df-container\">\n",
       "    <button class=\"colab-df-convert\" onclick=\"convertToInteractive('df-42e36896-5c34-4bec-812d-d9d1e377b304')\"\n",
       "            title=\"Convert this dataframe to an interactive table.\"\n",
       "            style=\"display:none;\">\n",
       "\n",
       "  <svg xmlns=\"http://www.w3.org/2000/svg\" height=\"24px\" viewBox=\"0 -960 960 960\">\n",
       "    <path d=\"M120-120v-720h720v720H120Zm60-500h600v-160H180v160Zm220 220h160v-160H400v160Zm0 220h160v-160H400v160ZM180-400h160v-160H180v160Zm440 0h160v-160H620v160ZM180-180h160v-160H180v160Zm440 0h160v-160H620v160Z\"/>\n",
       "  </svg>\n",
       "    </button>\n",
       "\n",
       "  <style>\n",
       "    .colab-df-container {\n",
       "      display:flex;\n",
       "      gap: 12px;\n",
       "    }\n",
       "\n",
       "    .colab-df-convert {\n",
       "      background-color: #E8F0FE;\n",
       "      border: none;\n",
       "      border-radius: 50%;\n",
       "      cursor: pointer;\n",
       "      display: none;\n",
       "      fill: #1967D2;\n",
       "      height: 32px;\n",
       "      padding: 0 0 0 0;\n",
       "      width: 32px;\n",
       "    }\n",
       "\n",
       "    .colab-df-convert:hover {\n",
       "      background-color: #E2EBFA;\n",
       "      box-shadow: 0px 1px 2px rgba(60, 64, 67, 0.3), 0px 1px 3px 1px rgba(60, 64, 67, 0.15);\n",
       "      fill: #174EA6;\n",
       "    }\n",
       "\n",
       "    .colab-df-buttons div {\n",
       "      margin-bottom: 4px;\n",
       "    }\n",
       "\n",
       "    [theme=dark] .colab-df-convert {\n",
       "      background-color: #3B4455;\n",
       "      fill: #D2E3FC;\n",
       "    }\n",
       "\n",
       "    [theme=dark] .colab-df-convert:hover {\n",
       "      background-color: #434B5C;\n",
       "      box-shadow: 0px 1px 3px 1px rgba(0, 0, 0, 0.15);\n",
       "      filter: drop-shadow(0px 1px 2px rgba(0, 0, 0, 0.3));\n",
       "      fill: #FFFFFF;\n",
       "    }\n",
       "  </style>\n",
       "\n",
       "    <script>\n",
       "      const buttonEl =\n",
       "        document.querySelector('#df-42e36896-5c34-4bec-812d-d9d1e377b304 button.colab-df-convert');\n",
       "      buttonEl.style.display =\n",
       "        google.colab.kernel.accessAllowed ? 'block' : 'none';\n",
       "\n",
       "      async function convertToInteractive(key) {\n",
       "        const element = document.querySelector('#df-42e36896-5c34-4bec-812d-d9d1e377b304');\n",
       "        const dataTable =\n",
       "          await google.colab.kernel.invokeFunction('convertToInteractive',\n",
       "                                                    [key], {});\n",
       "        if (!dataTable) return;\n",
       "\n",
       "        const docLinkHtml = 'Like what you see? Visit the ' +\n",
       "          '<a target=\"_blank\" href=https://colab.research.google.com/notebooks/data_table.ipynb>data table notebook</a>'\n",
       "          + ' to learn more about interactive tables.';\n",
       "        element.innerHTML = '';\n",
       "        dataTable['output_type'] = 'display_data';\n",
       "        await google.colab.output.renderOutput(dataTable, element);\n",
       "        const docLink = document.createElement('div');\n",
       "        docLink.innerHTML = docLinkHtml;\n",
       "        element.appendChild(docLink);\n",
       "      }\n",
       "    </script>\n",
       "  </div>\n",
       "\n",
       "\n",
       "<div id=\"df-562d4223-8627-49eb-8f09-066d30f5ee88\">\n",
       "  <button class=\"colab-df-quickchart\" onclick=\"quickchart('df-562d4223-8627-49eb-8f09-066d30f5ee88')\"\n",
       "            title=\"Suggest charts\"\n",
       "            style=\"display:none;\">\n",
       "\n",
       "<svg xmlns=\"http://www.w3.org/2000/svg\" height=\"24px\"viewBox=\"0 0 24 24\"\n",
       "     width=\"24px\">\n",
       "    <g>\n",
       "        <path d=\"M19 3H5c-1.1 0-2 .9-2 2v14c0 1.1.9 2 2 2h14c1.1 0 2-.9 2-2V5c0-1.1-.9-2-2-2zM9 17H7v-7h2v7zm4 0h-2V7h2v10zm4 0h-2v-4h2v4z\"/>\n",
       "    </g>\n",
       "</svg>\n",
       "  </button>\n",
       "\n",
       "<style>\n",
       "  .colab-df-quickchart {\n",
       "      --bg-color: #E8F0FE;\n",
       "      --fill-color: #1967D2;\n",
       "      --hover-bg-color: #E2EBFA;\n",
       "      --hover-fill-color: #174EA6;\n",
       "      --disabled-fill-color: #AAA;\n",
       "      --disabled-bg-color: #DDD;\n",
       "  }\n",
       "\n",
       "  [theme=dark] .colab-df-quickchart {\n",
       "      --bg-color: #3B4455;\n",
       "      --fill-color: #D2E3FC;\n",
       "      --hover-bg-color: #434B5C;\n",
       "      --hover-fill-color: #FFFFFF;\n",
       "      --disabled-bg-color: #3B4455;\n",
       "      --disabled-fill-color: #666;\n",
       "  }\n",
       "\n",
       "  .colab-df-quickchart {\n",
       "    background-color: var(--bg-color);\n",
       "    border: none;\n",
       "    border-radius: 50%;\n",
       "    cursor: pointer;\n",
       "    display: none;\n",
       "    fill: var(--fill-color);\n",
       "    height: 32px;\n",
       "    padding: 0;\n",
       "    width: 32px;\n",
       "  }\n",
       "\n",
       "  .colab-df-quickchart:hover {\n",
       "    background-color: var(--hover-bg-color);\n",
       "    box-shadow: 0 1px 2px rgba(60, 64, 67, 0.3), 0 1px 3px 1px rgba(60, 64, 67, 0.15);\n",
       "    fill: var(--button-hover-fill-color);\n",
       "  }\n",
       "\n",
       "  .colab-df-quickchart-complete:disabled,\n",
       "  .colab-df-quickchart-complete:disabled:hover {\n",
       "    background-color: var(--disabled-bg-color);\n",
       "    fill: var(--disabled-fill-color);\n",
       "    box-shadow: none;\n",
       "  }\n",
       "\n",
       "  .colab-df-spinner {\n",
       "    border: 2px solid var(--fill-color);\n",
       "    border-color: transparent;\n",
       "    border-bottom-color: var(--fill-color);\n",
       "    animation:\n",
       "      spin 1s steps(1) infinite;\n",
       "  }\n",
       "\n",
       "  @keyframes spin {\n",
       "    0% {\n",
       "      border-color: transparent;\n",
       "      border-bottom-color: var(--fill-color);\n",
       "      border-left-color: var(--fill-color);\n",
       "    }\n",
       "    20% {\n",
       "      border-color: transparent;\n",
       "      border-left-color: var(--fill-color);\n",
       "      border-top-color: var(--fill-color);\n",
       "    }\n",
       "    30% {\n",
       "      border-color: transparent;\n",
       "      border-left-color: var(--fill-color);\n",
       "      border-top-color: var(--fill-color);\n",
       "      border-right-color: var(--fill-color);\n",
       "    }\n",
       "    40% {\n",
       "      border-color: transparent;\n",
       "      border-right-color: var(--fill-color);\n",
       "      border-top-color: var(--fill-color);\n",
       "    }\n",
       "    60% {\n",
       "      border-color: transparent;\n",
       "      border-right-color: var(--fill-color);\n",
       "    }\n",
       "    80% {\n",
       "      border-color: transparent;\n",
       "      border-right-color: var(--fill-color);\n",
       "      border-bottom-color: var(--fill-color);\n",
       "    }\n",
       "    90% {\n",
       "      border-color: transparent;\n",
       "      border-bottom-color: var(--fill-color);\n",
       "    }\n",
       "  }\n",
       "</style>\n",
       "\n",
       "  <script>\n",
       "    async function quickchart(key) {\n",
       "      const quickchartButtonEl =\n",
       "        document.querySelector('#' + key + ' button');\n",
       "      quickchartButtonEl.disabled = true;  // To prevent multiple clicks.\n",
       "      quickchartButtonEl.classList.add('colab-df-spinner');\n",
       "      try {\n",
       "        const charts = await google.colab.kernel.invokeFunction(\n",
       "            'suggestCharts', [key], {});\n",
       "      } catch (error) {\n",
       "        console.error('Error during call to suggestCharts:', error);\n",
       "      }\n",
       "      quickchartButtonEl.classList.remove('colab-df-spinner');\n",
       "      quickchartButtonEl.classList.add('colab-df-quickchart-complete');\n",
       "    }\n",
       "    (() => {\n",
       "      let quickchartButtonEl =\n",
       "        document.querySelector('#df-562d4223-8627-49eb-8f09-066d30f5ee88 button');\n",
       "      quickchartButtonEl.style.display =\n",
       "        google.colab.kernel.accessAllowed ? 'block' : 'none';\n",
       "    })();\n",
       "  </script>\n",
       "</div>\n",
       "\n",
       "    </div>\n",
       "  </div>\n"
      ],
      "text/plain": [
       "   Unnamed: 0.1  Unnamed: 0  RecordingTime [ms] Time of Day [h:m:s:ms]  \\\n",
       "0             0           0         4780015.315           13:22:17:254   \n",
       "1             1           1         4780020.865           13:22:17:260   \n",
       "2             2           2         4780040.758           13:22:17:279   \n",
       "3             3           3         4780080.503           13:22:17:319   \n",
       "4             4           4         4780120.360           13:22:17:359   \n",
       "\n",
       "      Trial                             Stimulus  \\\n",
       "0  Trial020  20 eye tracking (ballon droite).avi   \n",
       "1  Trial020  20 eye tracking (ballon droite).avi   \n",
       "2  Trial020  20 eye tracking (ballon droite).avi   \n",
       "3  Trial020  20 eye tracking (ballon droite).avi   \n",
       "4  Trial020  20 eye tracking (ballon droite).avi   \n",
       "\n",
       "   Export Start Trial Time [ms]  Export End Trial Time [ms]  Participant  \\\n",
       "0                           0.0                   52058.676           50   \n",
       "1                           0.0                   52058.676           50   \n",
       "2                           0.0                   52058.676           50   \n",
       "3                           0.0                   52058.676           50   \n",
       "4                           0.0                   52058.676           50   \n",
       "\n",
       "   Color  ...  Pupil Position Left X [px] Pupil Position Left Y [px]  \\\n",
       "0  Coral  ...                         NaN                        NaN   \n",
       "1  Coral  ...                         NaN                        NaN   \n",
       "2  Coral  ...                         NaN                        NaN   \n",
       "3  Coral  ...                         NaN                        NaN   \n",
       "4  Coral  ...                         NaN                        NaN   \n",
       "\n",
       "  Port Status  AOI Group Right AOI Scope Right  AOI Order Right  \\\n",
       "0         NaN              NaN             NaN              NaN   \n",
       "1         NaN              NaN             NaN              NaN   \n",
       "2         NaN              NaN             NaN              NaN   \n",
       "3         NaN              NaN             NaN              NaN   \n",
       "4         NaN              NaN             NaN              NaN   \n",
       "\n",
       "   AOI Group Left  AOI Scope Left AOI Order Binocular groupe d'enfants  \n",
       "0             NaN             NaN                 NaN              NaN  \n",
       "1             NaN             NaN                 NaN              NaN  \n",
       "2             NaN             NaN                 NaN              NaN  \n",
       "3             NaN             NaN                 NaN              NaN  \n",
       "4             NaN             NaN                 NaN              NaN  \n",
       "\n",
       "[5 rows x 60 columns]"
      ]
     },
     "execution_count": 13,
     "metadata": {},
     "output_type": "execute_result"
    }
   ],
   "source": [
    "df.head()"
   ]
  },
  {
   "cell_type": "code",
   "execution_count": 14,
   "metadata": {
    "colab": {
     "base_uri": "https://localhost:8080/"
    },
    "id": "6Zc-blONnDMk",
    "outputId": "be7fea9d-3e68-45c2-b687-3c83614a6304"
   },
   "outputs": [
    {
     "data": {
      "text/plain": [
       "Index(['Unnamed: 0.1', 'Unnamed: 0', 'RecordingTime [ms]',\n",
       "       'Time of Day [h:m:s:ms]', 'Trial', 'Stimulus',\n",
       "       'Export Start Trial Time [ms]', 'Export End Trial Time [ms]',\n",
       "       'Participant', 'Color', 'Tracking Ratio [%]', 'Category Group',\n",
       "       'Category Right', 'Category Left', 'Index Right', 'Index Left',\n",
       "       'Pupil Diameter Right [mm]', 'Pupil Diameter Left [mm]',\n",
       "       'Point of Regard Right X [px]', 'Point of Regard Right Y [px]',\n",
       "       'Point of Regard Left X [px]', 'Point of Regard Left Y [px]',\n",
       "       'AOI Name Right', 'AOI Name Left', 'Gaze Vector Right X',\n",
       "       'Gaze Vector Right Y', 'Gaze Vector Right Z', 'Gaze Vector Left X',\n",
       "       'Gaze Vector Left Y', 'Gaze Vector Left Z', 'Annotation Name',\n",
       "       'Annotation Description', 'Annotation Tags', 'Mouse Position X [px]',\n",
       "       'Mouse Position Y [px]', 'Scroll Direction X', 'Scroll Direction Y',\n",
       "       'Content', 'Pupil Size Right X [px]', 'Pupil Size Right Y [px]',\n",
       "       'Pupil Size Left X [px]', 'Pupil Size Left Y [px]',\n",
       "       'Eye Position Right X [mm]', 'Eye Position Right Y [mm]',\n",
       "       'Eye Position Right Z [mm]', 'Eye Position Left X [mm]',\n",
       "       'Eye Position Left Y [mm]', 'Eye Position Left Z [mm]',\n",
       "       'Pupil Position Right X [px]', 'Pupil Position Right Y [px]',\n",
       "       'Pupil Position Left X [px]', 'Pupil Position Left Y [px]',\n",
       "       'Port Status', 'AOI Group Right', 'AOI Scope Right', 'AOI Order Right',\n",
       "       'AOI Group Left', 'AOI Scope Left', 'AOI Order Binocular',\n",
       "       'groupe d'enfants'],\n",
       "      dtype='object')"
      ]
     },
     "execution_count": 14,
     "metadata": {},
     "output_type": "execute_result"
    }
   ],
   "source": [
    "col"
   ]
  },
  {
   "cell_type": "code",
   "execution_count": 15,
   "metadata": {
    "id": "yj5kAqQfnEz4"
   },
   "outputs": [],
   "source": [
    "threshold = len(df) * 0.5\n",
    "\n",
    "# Drop columns with more than 50% NaN values\n",
    "df_cleaned = df.dropna(axis=1, thresh=threshold)"
   ]
  },
  {
   "cell_type": "code",
   "execution_count": 16,
   "metadata": {
    "colab": {
     "base_uri": "https://localhost:8080/",
     "height": 585
    },
    "id": "WCzCNTvrnmWw",
    "outputId": "b97bb560-8825-4489-e69f-6b89fb83e288"
   },
   "outputs": [
    {
     "data": {
      "application/vnd.google.colaboratory.intrinsic+json": {
       "type": "dataframe",
       "variable_name": "df_cleaned"
      },
      "text/html": [
       "\n",
       "  <div id=\"df-b50df7e4-0d29-4314-8049-32ed4ada8cba\" class=\"colab-df-container\">\n",
       "    <div>\n",
       "<style scoped>\n",
       "    .dataframe tbody tr th:only-of-type {\n",
       "        vertical-align: middle;\n",
       "    }\n",
       "\n",
       "    .dataframe tbody tr th {\n",
       "        vertical-align: top;\n",
       "    }\n",
       "\n",
       "    .dataframe thead th {\n",
       "        text-align: right;\n",
       "    }\n",
       "</style>\n",
       "<table border=\"1\" class=\"dataframe\">\n",
       "  <thead>\n",
       "    <tr style=\"text-align: right;\">\n",
       "      <th></th>\n",
       "      <th>Unnamed: 0.1</th>\n",
       "      <th>Unnamed: 0</th>\n",
       "      <th>RecordingTime [ms]</th>\n",
       "      <th>Time of Day [h:m:s:ms]</th>\n",
       "      <th>Trial</th>\n",
       "      <th>Stimulus</th>\n",
       "      <th>Export Start Trial Time [ms]</th>\n",
       "      <th>Export End Trial Time [ms]</th>\n",
       "      <th>Participant</th>\n",
       "      <th>Color</th>\n",
       "      <th>...</th>\n",
       "      <th>Eye Position Right X [mm]</th>\n",
       "      <th>Eye Position Right Y [mm]</th>\n",
       "      <th>Eye Position Right Z [mm]</th>\n",
       "      <th>Eye Position Left X [mm]</th>\n",
       "      <th>Eye Position Left Y [mm]</th>\n",
       "      <th>Eye Position Left Z [mm]</th>\n",
       "      <th>Pupil Position Right X [px]</th>\n",
       "      <th>Pupil Position Right Y [px]</th>\n",
       "      <th>Pupil Position Left X [px]</th>\n",
       "      <th>Pupil Position Left Y [px]</th>\n",
       "    </tr>\n",
       "  </thead>\n",
       "  <tbody>\n",
       "    <tr>\n",
       "      <th>0</th>\n",
       "      <td>0</td>\n",
       "      <td>0</td>\n",
       "      <td>4780015.315</td>\n",
       "      <td>13:22:17:254</td>\n",
       "      <td>Trial020</td>\n",
       "      <td>20 eye tracking (ballon droite).avi</td>\n",
       "      <td>0.0</td>\n",
       "      <td>52058.676</td>\n",
       "      <td>50</td>\n",
       "      <td>Coral</td>\n",
       "      <td>...</td>\n",
       "      <td>NaN</td>\n",
       "      <td>NaN</td>\n",
       "      <td>NaN</td>\n",
       "      <td>NaN</td>\n",
       "      <td>NaN</td>\n",
       "      <td>NaN</td>\n",
       "      <td>NaN</td>\n",
       "      <td>NaN</td>\n",
       "      <td>NaN</td>\n",
       "      <td>NaN</td>\n",
       "    </tr>\n",
       "    <tr>\n",
       "      <th>1</th>\n",
       "      <td>1</td>\n",
       "      <td>1</td>\n",
       "      <td>4780020.865</td>\n",
       "      <td>13:22:17:260</td>\n",
       "      <td>Trial020</td>\n",
       "      <td>20 eye tracking (ballon droite).avi</td>\n",
       "      <td>0.0</td>\n",
       "      <td>52058.676</td>\n",
       "      <td>50</td>\n",
       "      <td>Coral</td>\n",
       "      <td>...</td>\n",
       "      <td>NaN</td>\n",
       "      <td>NaN</td>\n",
       "      <td>NaN</td>\n",
       "      <td>NaN</td>\n",
       "      <td>NaN</td>\n",
       "      <td>NaN</td>\n",
       "      <td>NaN</td>\n",
       "      <td>NaN</td>\n",
       "      <td>NaN</td>\n",
       "      <td>NaN</td>\n",
       "    </tr>\n",
       "    <tr>\n",
       "      <th>2</th>\n",
       "      <td>2</td>\n",
       "      <td>2</td>\n",
       "      <td>4780040.758</td>\n",
       "      <td>13:22:17:279</td>\n",
       "      <td>Trial020</td>\n",
       "      <td>20 eye tracking (ballon droite).avi</td>\n",
       "      <td>0.0</td>\n",
       "      <td>52058.676</td>\n",
       "      <td>50</td>\n",
       "      <td>Coral</td>\n",
       "      <td>...</td>\n",
       "      <td>NaN</td>\n",
       "      <td>NaN</td>\n",
       "      <td>NaN</td>\n",
       "      <td>NaN</td>\n",
       "      <td>NaN</td>\n",
       "      <td>NaN</td>\n",
       "      <td>NaN</td>\n",
       "      <td>NaN</td>\n",
       "      <td>NaN</td>\n",
       "      <td>NaN</td>\n",
       "    </tr>\n",
       "    <tr>\n",
       "      <th>3</th>\n",
       "      <td>3</td>\n",
       "      <td>3</td>\n",
       "      <td>4780080.503</td>\n",
       "      <td>13:22:17:319</td>\n",
       "      <td>Trial020</td>\n",
       "      <td>20 eye tracking (ballon droite).avi</td>\n",
       "      <td>0.0</td>\n",
       "      <td>52058.676</td>\n",
       "      <td>50</td>\n",
       "      <td>Coral</td>\n",
       "      <td>...</td>\n",
       "      <td>NaN</td>\n",
       "      <td>NaN</td>\n",
       "      <td>NaN</td>\n",
       "      <td>NaN</td>\n",
       "      <td>NaN</td>\n",
       "      <td>NaN</td>\n",
       "      <td>NaN</td>\n",
       "      <td>NaN</td>\n",
       "      <td>NaN</td>\n",
       "      <td>NaN</td>\n",
       "    </tr>\n",
       "    <tr>\n",
       "      <th>4</th>\n",
       "      <td>4</td>\n",
       "      <td>4</td>\n",
       "      <td>4780120.360</td>\n",
       "      <td>13:22:17:359</td>\n",
       "      <td>Trial020</td>\n",
       "      <td>20 eye tracking (ballon droite).avi</td>\n",
       "      <td>0.0</td>\n",
       "      <td>52058.676</td>\n",
       "      <td>50</td>\n",
       "      <td>Coral</td>\n",
       "      <td>...</td>\n",
       "      <td>NaN</td>\n",
       "      <td>NaN</td>\n",
       "      <td>NaN</td>\n",
       "      <td>NaN</td>\n",
       "      <td>NaN</td>\n",
       "      <td>NaN</td>\n",
       "      <td>NaN</td>\n",
       "      <td>NaN</td>\n",
       "      <td>NaN</td>\n",
       "      <td>NaN</td>\n",
       "    </tr>\n",
       "  </tbody>\n",
       "</table>\n",
       "<p>5 rows × 47 columns</p>\n",
       "</div>\n",
       "    <div class=\"colab-df-buttons\">\n",
       "\n",
       "  <div class=\"colab-df-container\">\n",
       "    <button class=\"colab-df-convert\" onclick=\"convertToInteractive('df-b50df7e4-0d29-4314-8049-32ed4ada8cba')\"\n",
       "            title=\"Convert this dataframe to an interactive table.\"\n",
       "            style=\"display:none;\">\n",
       "\n",
       "  <svg xmlns=\"http://www.w3.org/2000/svg\" height=\"24px\" viewBox=\"0 -960 960 960\">\n",
       "    <path d=\"M120-120v-720h720v720H120Zm60-500h600v-160H180v160Zm220 220h160v-160H400v160Zm0 220h160v-160H400v160ZM180-400h160v-160H180v160Zm440 0h160v-160H620v160ZM180-180h160v-160H180v160Zm440 0h160v-160H620v160Z\"/>\n",
       "  </svg>\n",
       "    </button>\n",
       "\n",
       "  <style>\n",
       "    .colab-df-container {\n",
       "      display:flex;\n",
       "      gap: 12px;\n",
       "    }\n",
       "\n",
       "    .colab-df-convert {\n",
       "      background-color: #E8F0FE;\n",
       "      border: none;\n",
       "      border-radius: 50%;\n",
       "      cursor: pointer;\n",
       "      display: none;\n",
       "      fill: #1967D2;\n",
       "      height: 32px;\n",
       "      padding: 0 0 0 0;\n",
       "      width: 32px;\n",
       "    }\n",
       "\n",
       "    .colab-df-convert:hover {\n",
       "      background-color: #E2EBFA;\n",
       "      box-shadow: 0px 1px 2px rgba(60, 64, 67, 0.3), 0px 1px 3px 1px rgba(60, 64, 67, 0.15);\n",
       "      fill: #174EA6;\n",
       "    }\n",
       "\n",
       "    .colab-df-buttons div {\n",
       "      margin-bottom: 4px;\n",
       "    }\n",
       "\n",
       "    [theme=dark] .colab-df-convert {\n",
       "      background-color: #3B4455;\n",
       "      fill: #D2E3FC;\n",
       "    }\n",
       "\n",
       "    [theme=dark] .colab-df-convert:hover {\n",
       "      background-color: #434B5C;\n",
       "      box-shadow: 0px 1px 3px 1px rgba(0, 0, 0, 0.15);\n",
       "      filter: drop-shadow(0px 1px 2px rgba(0, 0, 0, 0.3));\n",
       "      fill: #FFFFFF;\n",
       "    }\n",
       "  </style>\n",
       "\n",
       "    <script>\n",
       "      const buttonEl =\n",
       "        document.querySelector('#df-b50df7e4-0d29-4314-8049-32ed4ada8cba button.colab-df-convert');\n",
       "      buttonEl.style.display =\n",
       "        google.colab.kernel.accessAllowed ? 'block' : 'none';\n",
       "\n",
       "      async function convertToInteractive(key) {\n",
       "        const element = document.querySelector('#df-b50df7e4-0d29-4314-8049-32ed4ada8cba');\n",
       "        const dataTable =\n",
       "          await google.colab.kernel.invokeFunction('convertToInteractive',\n",
       "                                                    [key], {});\n",
       "        if (!dataTable) return;\n",
       "\n",
       "        const docLinkHtml = 'Like what you see? Visit the ' +\n",
       "          '<a target=\"_blank\" href=https://colab.research.google.com/notebooks/data_table.ipynb>data table notebook</a>'\n",
       "          + ' to learn more about interactive tables.';\n",
       "        element.innerHTML = '';\n",
       "        dataTable['output_type'] = 'display_data';\n",
       "        await google.colab.output.renderOutput(dataTable, element);\n",
       "        const docLink = document.createElement('div');\n",
       "        docLink.innerHTML = docLinkHtml;\n",
       "        element.appendChild(docLink);\n",
       "      }\n",
       "    </script>\n",
       "  </div>\n",
       "\n",
       "\n",
       "<div id=\"df-71222cd4-f038-4e8b-993b-3d6e7952703a\">\n",
       "  <button class=\"colab-df-quickchart\" onclick=\"quickchart('df-71222cd4-f038-4e8b-993b-3d6e7952703a')\"\n",
       "            title=\"Suggest charts\"\n",
       "            style=\"display:none;\">\n",
       "\n",
       "<svg xmlns=\"http://www.w3.org/2000/svg\" height=\"24px\"viewBox=\"0 0 24 24\"\n",
       "     width=\"24px\">\n",
       "    <g>\n",
       "        <path d=\"M19 3H5c-1.1 0-2 .9-2 2v14c0 1.1.9 2 2 2h14c1.1 0 2-.9 2-2V5c0-1.1-.9-2-2-2zM9 17H7v-7h2v7zm4 0h-2V7h2v10zm4 0h-2v-4h2v4z\"/>\n",
       "    </g>\n",
       "</svg>\n",
       "  </button>\n",
       "\n",
       "<style>\n",
       "  .colab-df-quickchart {\n",
       "      --bg-color: #E8F0FE;\n",
       "      --fill-color: #1967D2;\n",
       "      --hover-bg-color: #E2EBFA;\n",
       "      --hover-fill-color: #174EA6;\n",
       "      --disabled-fill-color: #AAA;\n",
       "      --disabled-bg-color: #DDD;\n",
       "  }\n",
       "\n",
       "  [theme=dark] .colab-df-quickchart {\n",
       "      --bg-color: #3B4455;\n",
       "      --fill-color: #D2E3FC;\n",
       "      --hover-bg-color: #434B5C;\n",
       "      --hover-fill-color: #FFFFFF;\n",
       "      --disabled-bg-color: #3B4455;\n",
       "      --disabled-fill-color: #666;\n",
       "  }\n",
       "\n",
       "  .colab-df-quickchart {\n",
       "    background-color: var(--bg-color);\n",
       "    border: none;\n",
       "    border-radius: 50%;\n",
       "    cursor: pointer;\n",
       "    display: none;\n",
       "    fill: var(--fill-color);\n",
       "    height: 32px;\n",
       "    padding: 0;\n",
       "    width: 32px;\n",
       "  }\n",
       "\n",
       "  .colab-df-quickchart:hover {\n",
       "    background-color: var(--hover-bg-color);\n",
       "    box-shadow: 0 1px 2px rgba(60, 64, 67, 0.3), 0 1px 3px 1px rgba(60, 64, 67, 0.15);\n",
       "    fill: var(--button-hover-fill-color);\n",
       "  }\n",
       "\n",
       "  .colab-df-quickchart-complete:disabled,\n",
       "  .colab-df-quickchart-complete:disabled:hover {\n",
       "    background-color: var(--disabled-bg-color);\n",
       "    fill: var(--disabled-fill-color);\n",
       "    box-shadow: none;\n",
       "  }\n",
       "\n",
       "  .colab-df-spinner {\n",
       "    border: 2px solid var(--fill-color);\n",
       "    border-color: transparent;\n",
       "    border-bottom-color: var(--fill-color);\n",
       "    animation:\n",
       "      spin 1s steps(1) infinite;\n",
       "  }\n",
       "\n",
       "  @keyframes spin {\n",
       "    0% {\n",
       "      border-color: transparent;\n",
       "      border-bottom-color: var(--fill-color);\n",
       "      border-left-color: var(--fill-color);\n",
       "    }\n",
       "    20% {\n",
       "      border-color: transparent;\n",
       "      border-left-color: var(--fill-color);\n",
       "      border-top-color: var(--fill-color);\n",
       "    }\n",
       "    30% {\n",
       "      border-color: transparent;\n",
       "      border-left-color: var(--fill-color);\n",
       "      border-top-color: var(--fill-color);\n",
       "      border-right-color: var(--fill-color);\n",
       "    }\n",
       "    40% {\n",
       "      border-color: transparent;\n",
       "      border-right-color: var(--fill-color);\n",
       "      border-top-color: var(--fill-color);\n",
       "    }\n",
       "    60% {\n",
       "      border-color: transparent;\n",
       "      border-right-color: var(--fill-color);\n",
       "    }\n",
       "    80% {\n",
       "      border-color: transparent;\n",
       "      border-right-color: var(--fill-color);\n",
       "      border-bottom-color: var(--fill-color);\n",
       "    }\n",
       "    90% {\n",
       "      border-color: transparent;\n",
       "      border-bottom-color: var(--fill-color);\n",
       "    }\n",
       "  }\n",
       "</style>\n",
       "\n",
       "  <script>\n",
       "    async function quickchart(key) {\n",
       "      const quickchartButtonEl =\n",
       "        document.querySelector('#' + key + ' button');\n",
       "      quickchartButtonEl.disabled = true;  // To prevent multiple clicks.\n",
       "      quickchartButtonEl.classList.add('colab-df-spinner');\n",
       "      try {\n",
       "        const charts = await google.colab.kernel.invokeFunction(\n",
       "            'suggestCharts', [key], {});\n",
       "      } catch (error) {\n",
       "        console.error('Error during call to suggestCharts:', error);\n",
       "      }\n",
       "      quickchartButtonEl.classList.remove('colab-df-spinner');\n",
       "      quickchartButtonEl.classList.add('colab-df-quickchart-complete');\n",
       "    }\n",
       "    (() => {\n",
       "      let quickchartButtonEl =\n",
       "        document.querySelector('#df-71222cd4-f038-4e8b-993b-3d6e7952703a button');\n",
       "      quickchartButtonEl.style.display =\n",
       "        google.colab.kernel.accessAllowed ? 'block' : 'none';\n",
       "    })();\n",
       "  </script>\n",
       "</div>\n",
       "\n",
       "    </div>\n",
       "  </div>\n"
      ],
      "text/plain": [
       "   Unnamed: 0.1  Unnamed: 0  RecordingTime [ms] Time of Day [h:m:s:ms]  \\\n",
       "0             0           0         4780015.315           13:22:17:254   \n",
       "1             1           1         4780020.865           13:22:17:260   \n",
       "2             2           2         4780040.758           13:22:17:279   \n",
       "3             3           3         4780080.503           13:22:17:319   \n",
       "4             4           4         4780120.360           13:22:17:359   \n",
       "\n",
       "      Trial                             Stimulus  \\\n",
       "0  Trial020  20 eye tracking (ballon droite).avi   \n",
       "1  Trial020  20 eye tracking (ballon droite).avi   \n",
       "2  Trial020  20 eye tracking (ballon droite).avi   \n",
       "3  Trial020  20 eye tracking (ballon droite).avi   \n",
       "4  Trial020  20 eye tracking (ballon droite).avi   \n",
       "\n",
       "   Export Start Trial Time [ms]  Export End Trial Time [ms]  Participant  \\\n",
       "0                           0.0                   52058.676           50   \n",
       "1                           0.0                   52058.676           50   \n",
       "2                           0.0                   52058.676           50   \n",
       "3                           0.0                   52058.676           50   \n",
       "4                           0.0                   52058.676           50   \n",
       "\n",
       "   Color  ...  Eye Position Right X [mm] Eye Position Right Y [mm]  \\\n",
       "0  Coral  ...                        NaN                       NaN   \n",
       "1  Coral  ...                        NaN                       NaN   \n",
       "2  Coral  ...                        NaN                       NaN   \n",
       "3  Coral  ...                        NaN                       NaN   \n",
       "4  Coral  ...                        NaN                       NaN   \n",
       "\n",
       "  Eye Position Right Z [mm] Eye Position Left X [mm]  \\\n",
       "0                       NaN                      NaN   \n",
       "1                       NaN                      NaN   \n",
       "2                       NaN                      NaN   \n",
       "3                       NaN                      NaN   \n",
       "4                       NaN                      NaN   \n",
       "\n",
       "   Eye Position Left Y [mm]  Eye Position Left Z [mm]  \\\n",
       "0                       NaN                       NaN   \n",
       "1                       NaN                       NaN   \n",
       "2                       NaN                       NaN   \n",
       "3                       NaN                       NaN   \n",
       "4                       NaN                       NaN   \n",
       "\n",
       "   Pupil Position Right X [px] Pupil Position Right Y [px]  \\\n",
       "0                          NaN                         NaN   \n",
       "1                          NaN                         NaN   \n",
       "2                          NaN                         NaN   \n",
       "3                          NaN                         NaN   \n",
       "4                          NaN                         NaN   \n",
       "\n",
       "  Pupil Position Left X [px]  Pupil Position Left Y [px]  \n",
       "0                        NaN                         NaN  \n",
       "1                        NaN                         NaN  \n",
       "2                        NaN                         NaN  \n",
       "3                        NaN                         NaN  \n",
       "4                        NaN                         NaN  \n",
       "\n",
       "[5 rows x 47 columns]"
      ]
     },
     "execution_count": 16,
     "metadata": {},
     "output_type": "execute_result"
    }
   ],
   "source": [
    "df_cleaned.head()"
   ]
  },
  {
   "cell_type": "code",
   "execution_count": 17,
   "metadata": {
    "colab": {
     "base_uri": "https://localhost:8080/",
     "height": 455
    },
    "id": "0hesyW9-nqCI",
    "outputId": "18c3765b-553d-4ff6-e700-efcb670f58d8"
   },
   "outputs": [
    {
     "name": "stderr",
     "output_type": "stream",
     "text": [
      "<ipython-input-17-fb968d328ff5>:1: FutureWarning: The default value of numeric_only in DataFrame.median is deprecated. In a future version, it will default to False. In addition, specifying 'numeric_only=None' is deprecated. Select only valid columns or specify the value of numeric_only to silence this warning.\n",
      "  df_filled = df_cleaned.fillna(df.median())\n"
     ]
    },
    {
     "data": {
      "application/vnd.google.colaboratory.intrinsic+json": {
       "type": "dataframe"
      },
      "text/html": [
       "\n",
       "  <div id=\"df-636ef451-525f-4662-a8cc-03c5efc8d9a4\" class=\"colab-df-container\">\n",
       "    <div>\n",
       "<style scoped>\n",
       "    .dataframe tbody tr th:only-of-type {\n",
       "        vertical-align: middle;\n",
       "    }\n",
       "\n",
       "    .dataframe tbody tr th {\n",
       "        vertical-align: top;\n",
       "    }\n",
       "\n",
       "    .dataframe thead th {\n",
       "        text-align: right;\n",
       "    }\n",
       "</style>\n",
       "<table border=\"1\" class=\"dataframe\">\n",
       "  <thead>\n",
       "    <tr style=\"text-align: right;\">\n",
       "      <th></th>\n",
       "      <th>Unnamed: 0.1</th>\n",
       "      <th>Unnamed: 0</th>\n",
       "      <th>RecordingTime [ms]</th>\n",
       "      <th>Export Start Trial Time [ms]</th>\n",
       "      <th>Export End Trial Time [ms]</th>\n",
       "      <th>Participant</th>\n",
       "      <th>Tracking Ratio [%]</th>\n",
       "      <th>Index Left</th>\n",
       "      <th>Pupil Diameter Right [mm]</th>\n",
       "      <th>Pupil Diameter Left [mm]</th>\n",
       "      <th>...</th>\n",
       "      <th>Eye Position Right X [mm]</th>\n",
       "      <th>Eye Position Right Y [mm]</th>\n",
       "      <th>Eye Position Right Z [mm]</th>\n",
       "      <th>Eye Position Left X [mm]</th>\n",
       "      <th>Eye Position Left Y [mm]</th>\n",
       "      <th>Eye Position Left Z [mm]</th>\n",
       "      <th>Pupil Position Right X [px]</th>\n",
       "      <th>Pupil Position Right Y [px]</th>\n",
       "      <th>Pupil Position Left X [px]</th>\n",
       "      <th>Pupil Position Left Y [px]</th>\n",
       "    </tr>\n",
       "  </thead>\n",
       "  <tbody>\n",
       "    <tr>\n",
       "      <th>count</th>\n",
       "      <td>1.015142e+06</td>\n",
       "      <td>1.015142e+06</td>\n",
       "      <td>1.015142e+06</td>\n",
       "      <td>1015142.0</td>\n",
       "      <td>1.015142e+06</td>\n",
       "      <td>1.015142e+06</td>\n",
       "      <td>1.015142e+06</td>\n",
       "      <td>1.015142e+06</td>\n",
       "      <td>1.015142e+06</td>\n",
       "      <td>1.015142e+06</td>\n",
       "      <td>...</td>\n",
       "      <td>1.015142e+06</td>\n",
       "      <td>1.015142e+06</td>\n",
       "      <td>1.015142e+06</td>\n",
       "      <td>1.015142e+06</td>\n",
       "      <td>1.015142e+06</td>\n",
       "      <td>1.015142e+06</td>\n",
       "      <td>1.015142e+06</td>\n",
       "      <td>1.015142e+06</td>\n",
       "      <td>1.015142e+06</td>\n",
       "      <td>1.015142e+06</td>\n",
       "    </tr>\n",
       "    <tr>\n",
       "      <th>mean</th>\n",
       "      <td>1.136375e+06</td>\n",
       "      <td>7.460521e+04</td>\n",
       "      <td>3.207003e+06</td>\n",
       "      <td>0.0</td>\n",
       "      <td>3.066610e+04</td>\n",
       "      <td>3.725915e+01</td>\n",
       "      <td>7.431016e+01</td>\n",
       "      <td>2.181475e+01</td>\n",
       "      <td>3.652199e+00</td>\n",
       "      <td>3.600180e+00</td>\n",
       "      <td>...</td>\n",
       "      <td>-4.752532e+00</td>\n",
       "      <td>-2.133156e+01</td>\n",
       "      <td>5.219895e+02</td>\n",
       "      <td>-2.660301e+00</td>\n",
       "      <td>-2.131950e+01</td>\n",
       "      <td>5.224453e+02</td>\n",
       "      <td>5.857509e+02</td>\n",
       "      <td>5.142146e+02</td>\n",
       "      <td>5.847779e+02</td>\n",
       "      <td>5.136306e+02</td>\n",
       "    </tr>\n",
       "    <tr>\n",
       "      <th>std</th>\n",
       "      <td>6.614971e+05</td>\n",
       "      <td>8.573558e+04</td>\n",
       "      <td>3.467337e+06</td>\n",
       "      <td>0.0</td>\n",
       "      <td>2.172324e+04</td>\n",
       "      <td>1.652566e+01</td>\n",
       "      <td>2.821990e+01</td>\n",
       "      <td>2.648164e+01</td>\n",
       "      <td>9.916583e-01</td>\n",
       "      <td>9.027053e-01</td>\n",
       "      <td>...</td>\n",
       "      <td>3.710776e+01</td>\n",
       "      <td>3.942638e+01</td>\n",
       "      <td>2.254578e+02</td>\n",
       "      <td>4.332263e+01</td>\n",
       "      <td>3.771359e+01</td>\n",
       "      <td>2.237709e+02</td>\n",
       "      <td>3.016950e+02</td>\n",
       "      <td>2.682761e+02</td>\n",
       "      <td>2.974128e+02</td>\n",
       "      <td>2.642705e+02</td>\n",
       "    </tr>\n",
       "    <tr>\n",
       "      <th>min</th>\n",
       "      <td>0.000000e+00</td>\n",
       "      <td>0.000000e+00</td>\n",
       "      <td>8.358886e+04</td>\n",
       "      <td>0.0</td>\n",
       "      <td>2.659272e+03</td>\n",
       "      <td>1.000000e+00</td>\n",
       "      <td>0.000000e+00</td>\n",
       "      <td>1.000000e+00</td>\n",
       "      <td>0.000000e+00</td>\n",
       "      <td>0.000000e+00</td>\n",
       "      <td>...</td>\n",
       "      <td>-1.838084e+02</td>\n",
       "      <td>-1.377982e+02</td>\n",
       "      <td>0.000000e+00</td>\n",
       "      <td>-1.533634e+02</td>\n",
       "      <td>-1.370964e+02</td>\n",
       "      <td>0.000000e+00</td>\n",
       "      <td>0.000000e+00</td>\n",
       "      <td>0.000000e+00</td>\n",
       "      <td>0.000000e+00</td>\n",
       "      <td>0.000000e+00</td>\n",
       "    </tr>\n",
       "    <tr>\n",
       "      <th>25%</th>\n",
       "      <td>5.524532e+05</td>\n",
       "      <td>1.988500e+04</td>\n",
       "      <td>9.403279e+05</td>\n",
       "      <td>0.0</td>\n",
       "      <td>2.900033e+03</td>\n",
       "      <td>2.500000e+01</td>\n",
       "      <td>6.047070e+01</td>\n",
       "      <td>4.000000e+00</td>\n",
       "      <td>3.513800e+00</td>\n",
       "      <td>3.500000e+00</td>\n",
       "      <td>...</td>\n",
       "      <td>-2.595165e+01</td>\n",
       "      <td>-5.047620e+01</td>\n",
       "      <td>5.152644e+02</td>\n",
       "      <td>-2.173307e+01</td>\n",
       "      <td>-4.841595e+01</td>\n",
       "      <td>5.229458e+02</td>\n",
       "      <td>4.653191e+02</td>\n",
       "      <td>3.526103e+02</td>\n",
       "      <td>5.008988e+02</td>\n",
       "      <td>3.743461e+02</td>\n",
       "    </tr>\n",
       "    <tr>\n",
       "      <th>50%</th>\n",
       "      <td>1.179102e+06</td>\n",
       "      <td>4.314400e+04</td>\n",
       "      <td>1.806667e+06</td>\n",
       "      <td>0.0</td>\n",
       "      <td>4.882296e+04</td>\n",
       "      <td>3.700000e+01</td>\n",
       "      <td>8.533950e+01</td>\n",
       "      <td>1.000000e+01</td>\n",
       "      <td>3.686000e+00</td>\n",
       "      <td>3.639700e+00</td>\n",
       "      <td>...</td>\n",
       "      <td>0.000000e+00</td>\n",
       "      <td>-2.088100e+01</td>\n",
       "      <td>6.014192e+02</td>\n",
       "      <td>0.000000e+00</td>\n",
       "      <td>-1.900795e+01</td>\n",
       "      <td>6.004000e+02</td>\n",
       "      <td>6.526963e+02</td>\n",
       "      <td>5.826397e+02</td>\n",
       "      <td>6.355766e+02</td>\n",
       "      <td>5.743146e+02</td>\n",
       "    </tr>\n",
       "    <tr>\n",
       "      <th>75%</th>\n",
       "      <td>1.705920e+06</td>\n",
       "      <td>8.611200e+04</td>\n",
       "      <td>3.715978e+06</td>\n",
       "      <td>0.0</td>\n",
       "      <td>4.911874e+04</td>\n",
       "      <td>5.400000e+01</td>\n",
       "      <td>9.655720e+01</td>\n",
       "      <td>3.100000e+01</td>\n",
       "      <td>3.901200e+00</td>\n",
       "      <td>3.797000e+00</td>\n",
       "      <td>...</td>\n",
       "      <td>1.093310e+01</td>\n",
       "      <td>0.000000e+00</td>\n",
       "      <td>6.489308e+02</td>\n",
       "      <td>1.860182e+01</td>\n",
       "      <td>0.000000e+00</td>\n",
       "      <td>6.448755e+02</td>\n",
       "      <td>7.920000e+02</td>\n",
       "      <td>7.207098e+02</td>\n",
       "      <td>7.620827e+02</td>\n",
       "      <td>7.078854e+02</td>\n",
       "    </tr>\n",
       "    <tr>\n",
       "      <th>max</th>\n",
       "      <td>2.228223e+06</td>\n",
       "      <td>3.862790e+05</td>\n",
       "      <td>1.515597e+07</td>\n",
       "      <td>0.0</td>\n",
       "      <td>5.229981e+04</td>\n",
       "      <td>5.900000e+01</td>\n",
       "      <td>1.000000e+02</td>\n",
       "      <td>1.550000e+02</td>\n",
       "      <td>9.923800e+00</td>\n",
       "      <td>1.014190e+01</td>\n",
       "      <td>...</td>\n",
       "      <td>1.628493e+02</td>\n",
       "      <td>1.223424e+02</td>\n",
       "      <td>8.567968e+02</td>\n",
       "      <td>1.605170e+02</td>\n",
       "      <td>1.134303e+02</td>\n",
       "      <td>8.796211e+02</td>\n",
       "      <td>1.367770e+03</td>\n",
       "      <td>1.019675e+03</td>\n",
       "      <td>1.248106e+03</td>\n",
       "      <td>1.018228e+03</td>\n",
       "    </tr>\n",
       "  </tbody>\n",
       "</table>\n",
       "<p>8 rows × 27 columns</p>\n",
       "</div>\n",
       "    <div class=\"colab-df-buttons\">\n",
       "\n",
       "  <div class=\"colab-df-container\">\n",
       "    <button class=\"colab-df-convert\" onclick=\"convertToInteractive('df-636ef451-525f-4662-a8cc-03c5efc8d9a4')\"\n",
       "            title=\"Convert this dataframe to an interactive table.\"\n",
       "            style=\"display:none;\">\n",
       "\n",
       "  <svg xmlns=\"http://www.w3.org/2000/svg\" height=\"24px\" viewBox=\"0 -960 960 960\">\n",
       "    <path d=\"M120-120v-720h720v720H120Zm60-500h600v-160H180v160Zm220 220h160v-160H400v160Zm0 220h160v-160H400v160ZM180-400h160v-160H180v160Zm440 0h160v-160H620v160ZM180-180h160v-160H180v160Zm440 0h160v-160H620v160Z\"/>\n",
       "  </svg>\n",
       "    </button>\n",
       "\n",
       "  <style>\n",
       "    .colab-df-container {\n",
       "      display:flex;\n",
       "      gap: 12px;\n",
       "    }\n",
       "\n",
       "    .colab-df-convert {\n",
       "      background-color: #E8F0FE;\n",
       "      border: none;\n",
       "      border-radius: 50%;\n",
       "      cursor: pointer;\n",
       "      display: none;\n",
       "      fill: #1967D2;\n",
       "      height: 32px;\n",
       "      padding: 0 0 0 0;\n",
       "      width: 32px;\n",
       "    }\n",
       "\n",
       "    .colab-df-convert:hover {\n",
       "      background-color: #E2EBFA;\n",
       "      box-shadow: 0px 1px 2px rgba(60, 64, 67, 0.3), 0px 1px 3px 1px rgba(60, 64, 67, 0.15);\n",
       "      fill: #174EA6;\n",
       "    }\n",
       "\n",
       "    .colab-df-buttons div {\n",
       "      margin-bottom: 4px;\n",
       "    }\n",
       "\n",
       "    [theme=dark] .colab-df-convert {\n",
       "      background-color: #3B4455;\n",
       "      fill: #D2E3FC;\n",
       "    }\n",
       "\n",
       "    [theme=dark] .colab-df-convert:hover {\n",
       "      background-color: #434B5C;\n",
       "      box-shadow: 0px 1px 3px 1px rgba(0, 0, 0, 0.15);\n",
       "      filter: drop-shadow(0px 1px 2px rgba(0, 0, 0, 0.3));\n",
       "      fill: #FFFFFF;\n",
       "    }\n",
       "  </style>\n",
       "\n",
       "    <script>\n",
       "      const buttonEl =\n",
       "        document.querySelector('#df-636ef451-525f-4662-a8cc-03c5efc8d9a4 button.colab-df-convert');\n",
       "      buttonEl.style.display =\n",
       "        google.colab.kernel.accessAllowed ? 'block' : 'none';\n",
       "\n",
       "      async function convertToInteractive(key) {\n",
       "        const element = document.querySelector('#df-636ef451-525f-4662-a8cc-03c5efc8d9a4');\n",
       "        const dataTable =\n",
       "          await google.colab.kernel.invokeFunction('convertToInteractive',\n",
       "                                                    [key], {});\n",
       "        if (!dataTable) return;\n",
       "\n",
       "        const docLinkHtml = 'Like what you see? Visit the ' +\n",
       "          '<a target=\"_blank\" href=https://colab.research.google.com/notebooks/data_table.ipynb>data table notebook</a>'\n",
       "          + ' to learn more about interactive tables.';\n",
       "        element.innerHTML = '';\n",
       "        dataTable['output_type'] = 'display_data';\n",
       "        await google.colab.output.renderOutput(dataTable, element);\n",
       "        const docLink = document.createElement('div');\n",
       "        docLink.innerHTML = docLinkHtml;\n",
       "        element.appendChild(docLink);\n",
       "      }\n",
       "    </script>\n",
       "  </div>\n",
       "\n",
       "\n",
       "<div id=\"df-647abf0e-dd1c-476c-9c59-24d37b732be1\">\n",
       "  <button class=\"colab-df-quickchart\" onclick=\"quickchart('df-647abf0e-dd1c-476c-9c59-24d37b732be1')\"\n",
       "            title=\"Suggest charts\"\n",
       "            style=\"display:none;\">\n",
       "\n",
       "<svg xmlns=\"http://www.w3.org/2000/svg\" height=\"24px\"viewBox=\"0 0 24 24\"\n",
       "     width=\"24px\">\n",
       "    <g>\n",
       "        <path d=\"M19 3H5c-1.1 0-2 .9-2 2v14c0 1.1.9 2 2 2h14c1.1 0 2-.9 2-2V5c0-1.1-.9-2-2-2zM9 17H7v-7h2v7zm4 0h-2V7h2v10zm4 0h-2v-4h2v4z\"/>\n",
       "    </g>\n",
       "</svg>\n",
       "  </button>\n",
       "\n",
       "<style>\n",
       "  .colab-df-quickchart {\n",
       "      --bg-color: #E8F0FE;\n",
       "      --fill-color: #1967D2;\n",
       "      --hover-bg-color: #E2EBFA;\n",
       "      --hover-fill-color: #174EA6;\n",
       "      --disabled-fill-color: #AAA;\n",
       "      --disabled-bg-color: #DDD;\n",
       "  }\n",
       "\n",
       "  [theme=dark] .colab-df-quickchart {\n",
       "      --bg-color: #3B4455;\n",
       "      --fill-color: #D2E3FC;\n",
       "      --hover-bg-color: #434B5C;\n",
       "      --hover-fill-color: #FFFFFF;\n",
       "      --disabled-bg-color: #3B4455;\n",
       "      --disabled-fill-color: #666;\n",
       "  }\n",
       "\n",
       "  .colab-df-quickchart {\n",
       "    background-color: var(--bg-color);\n",
       "    border: none;\n",
       "    border-radius: 50%;\n",
       "    cursor: pointer;\n",
       "    display: none;\n",
       "    fill: var(--fill-color);\n",
       "    height: 32px;\n",
       "    padding: 0;\n",
       "    width: 32px;\n",
       "  }\n",
       "\n",
       "  .colab-df-quickchart:hover {\n",
       "    background-color: var(--hover-bg-color);\n",
       "    box-shadow: 0 1px 2px rgba(60, 64, 67, 0.3), 0 1px 3px 1px rgba(60, 64, 67, 0.15);\n",
       "    fill: var(--button-hover-fill-color);\n",
       "  }\n",
       "\n",
       "  .colab-df-quickchart-complete:disabled,\n",
       "  .colab-df-quickchart-complete:disabled:hover {\n",
       "    background-color: var(--disabled-bg-color);\n",
       "    fill: var(--disabled-fill-color);\n",
       "    box-shadow: none;\n",
       "  }\n",
       "\n",
       "  .colab-df-spinner {\n",
       "    border: 2px solid var(--fill-color);\n",
       "    border-color: transparent;\n",
       "    border-bottom-color: var(--fill-color);\n",
       "    animation:\n",
       "      spin 1s steps(1) infinite;\n",
       "  }\n",
       "\n",
       "  @keyframes spin {\n",
       "    0% {\n",
       "      border-color: transparent;\n",
       "      border-bottom-color: var(--fill-color);\n",
       "      border-left-color: var(--fill-color);\n",
       "    }\n",
       "    20% {\n",
       "      border-color: transparent;\n",
       "      border-left-color: var(--fill-color);\n",
       "      border-top-color: var(--fill-color);\n",
       "    }\n",
       "    30% {\n",
       "      border-color: transparent;\n",
       "      border-left-color: var(--fill-color);\n",
       "      border-top-color: var(--fill-color);\n",
       "      border-right-color: var(--fill-color);\n",
       "    }\n",
       "    40% {\n",
       "      border-color: transparent;\n",
       "      border-right-color: var(--fill-color);\n",
       "      border-top-color: var(--fill-color);\n",
       "    }\n",
       "    60% {\n",
       "      border-color: transparent;\n",
       "      border-right-color: var(--fill-color);\n",
       "    }\n",
       "    80% {\n",
       "      border-color: transparent;\n",
       "      border-right-color: var(--fill-color);\n",
       "      border-bottom-color: var(--fill-color);\n",
       "    }\n",
       "    90% {\n",
       "      border-color: transparent;\n",
       "      border-bottom-color: var(--fill-color);\n",
       "    }\n",
       "  }\n",
       "</style>\n",
       "\n",
       "  <script>\n",
       "    async function quickchart(key) {\n",
       "      const quickchartButtonEl =\n",
       "        document.querySelector('#' + key + ' button');\n",
       "      quickchartButtonEl.disabled = true;  // To prevent multiple clicks.\n",
       "      quickchartButtonEl.classList.add('colab-df-spinner');\n",
       "      try {\n",
       "        const charts = await google.colab.kernel.invokeFunction(\n",
       "            'suggestCharts', [key], {});\n",
       "      } catch (error) {\n",
       "        console.error('Error during call to suggestCharts:', error);\n",
       "      }\n",
       "      quickchartButtonEl.classList.remove('colab-df-spinner');\n",
       "      quickchartButtonEl.classList.add('colab-df-quickchart-complete');\n",
       "    }\n",
       "    (() => {\n",
       "      let quickchartButtonEl =\n",
       "        document.querySelector('#df-647abf0e-dd1c-476c-9c59-24d37b732be1 button');\n",
       "      quickchartButtonEl.style.display =\n",
       "        google.colab.kernel.accessAllowed ? 'block' : 'none';\n",
       "    })();\n",
       "  </script>\n",
       "</div>\n",
       "\n",
       "    </div>\n",
       "  </div>\n"
      ],
      "text/plain": [
       "       Unnamed: 0.1    Unnamed: 0  RecordingTime [ms]  \\\n",
       "count  1.015142e+06  1.015142e+06        1.015142e+06   \n",
       "mean   1.136375e+06  7.460521e+04        3.207003e+06   \n",
       "std    6.614971e+05  8.573558e+04        3.467337e+06   \n",
       "min    0.000000e+00  0.000000e+00        8.358886e+04   \n",
       "25%    5.524532e+05  1.988500e+04        9.403279e+05   \n",
       "50%    1.179102e+06  4.314400e+04        1.806667e+06   \n",
       "75%    1.705920e+06  8.611200e+04        3.715978e+06   \n",
       "max    2.228223e+06  3.862790e+05        1.515597e+07   \n",
       "\n",
       "       Export Start Trial Time [ms]  Export End Trial Time [ms]   Participant  \\\n",
       "count                     1015142.0                1.015142e+06  1.015142e+06   \n",
       "mean                            0.0                3.066610e+04  3.725915e+01   \n",
       "std                             0.0                2.172324e+04  1.652566e+01   \n",
       "min                             0.0                2.659272e+03  1.000000e+00   \n",
       "25%                             0.0                2.900033e+03  2.500000e+01   \n",
       "50%                             0.0                4.882296e+04  3.700000e+01   \n",
       "75%                             0.0                4.911874e+04  5.400000e+01   \n",
       "max                             0.0                5.229981e+04  5.900000e+01   \n",
       "\n",
       "       Tracking Ratio [%]    Index Left  Pupil Diameter Right [mm]  \\\n",
       "count        1.015142e+06  1.015142e+06               1.015142e+06   \n",
       "mean         7.431016e+01  2.181475e+01               3.652199e+00   \n",
       "std          2.821990e+01  2.648164e+01               9.916583e-01   \n",
       "min          0.000000e+00  1.000000e+00               0.000000e+00   \n",
       "25%          6.047070e+01  4.000000e+00               3.513800e+00   \n",
       "50%          8.533950e+01  1.000000e+01               3.686000e+00   \n",
       "75%          9.655720e+01  3.100000e+01               3.901200e+00   \n",
       "max          1.000000e+02  1.550000e+02               9.923800e+00   \n",
       "\n",
       "       Pupil Diameter Left [mm]  ...  Eye Position Right X [mm]  \\\n",
       "count              1.015142e+06  ...               1.015142e+06   \n",
       "mean               3.600180e+00  ...              -4.752532e+00   \n",
       "std                9.027053e-01  ...               3.710776e+01   \n",
       "min                0.000000e+00  ...              -1.838084e+02   \n",
       "25%                3.500000e+00  ...              -2.595165e+01   \n",
       "50%                3.639700e+00  ...               0.000000e+00   \n",
       "75%                3.797000e+00  ...               1.093310e+01   \n",
       "max                1.014190e+01  ...               1.628493e+02   \n",
       "\n",
       "       Eye Position Right Y [mm]  Eye Position Right Z [mm]  \\\n",
       "count               1.015142e+06               1.015142e+06   \n",
       "mean               -2.133156e+01               5.219895e+02   \n",
       "std                 3.942638e+01               2.254578e+02   \n",
       "min                -1.377982e+02               0.000000e+00   \n",
       "25%                -5.047620e+01               5.152644e+02   \n",
       "50%                -2.088100e+01               6.014192e+02   \n",
       "75%                 0.000000e+00               6.489308e+02   \n",
       "max                 1.223424e+02               8.567968e+02   \n",
       "\n",
       "       Eye Position Left X [mm]  Eye Position Left Y [mm]  \\\n",
       "count              1.015142e+06              1.015142e+06   \n",
       "mean              -2.660301e+00             -2.131950e+01   \n",
       "std                4.332263e+01              3.771359e+01   \n",
       "min               -1.533634e+02             -1.370964e+02   \n",
       "25%               -2.173307e+01             -4.841595e+01   \n",
       "50%                0.000000e+00             -1.900795e+01   \n",
       "75%                1.860182e+01              0.000000e+00   \n",
       "max                1.605170e+02              1.134303e+02   \n",
       "\n",
       "       Eye Position Left Z [mm]  Pupil Position Right X [px]  \\\n",
       "count              1.015142e+06                 1.015142e+06   \n",
       "mean               5.224453e+02                 5.857509e+02   \n",
       "std                2.237709e+02                 3.016950e+02   \n",
       "min                0.000000e+00                 0.000000e+00   \n",
       "25%                5.229458e+02                 4.653191e+02   \n",
       "50%                6.004000e+02                 6.526963e+02   \n",
       "75%                6.448755e+02                 7.920000e+02   \n",
       "max                8.796211e+02                 1.367770e+03   \n",
       "\n",
       "       Pupil Position Right Y [px]  Pupil Position Left X [px]  \\\n",
       "count                 1.015142e+06                1.015142e+06   \n",
       "mean                  5.142146e+02                5.847779e+02   \n",
       "std                   2.682761e+02                2.974128e+02   \n",
       "min                   0.000000e+00                0.000000e+00   \n",
       "25%                   3.526103e+02                5.008988e+02   \n",
       "50%                   5.826397e+02                6.355766e+02   \n",
       "75%                   7.207098e+02                7.620827e+02   \n",
       "max                   1.019675e+03                1.248106e+03   \n",
       "\n",
       "       Pupil Position Left Y [px]  \n",
       "count                1.015142e+06  \n",
       "mean                 5.136306e+02  \n",
       "std                  2.642705e+02  \n",
       "min                  0.000000e+00  \n",
       "25%                  3.743461e+02  \n",
       "50%                  5.743146e+02  \n",
       "75%                  7.078854e+02  \n",
       "max                  1.018228e+03  \n",
       "\n",
       "[8 rows x 27 columns]"
      ]
     },
     "execution_count": 17,
     "metadata": {},
     "output_type": "execute_result"
    }
   ],
   "source": [
    "df_filled = df_cleaned.fillna(df.median())\n",
    "df_filled.describe()"
   ]
  },
  {
   "cell_type": "code",
   "execution_count": 18,
   "metadata": {
    "colab": {
     "base_uri": "https://localhost:8080/"
    },
    "id": "i6H4I25enwlc",
    "outputId": "93f960a0-d09a-4c10-c1ca-0a3e54a7f289"
   },
   "outputs": [
    {
     "data": {
      "text/plain": [
       "(1015142, 47)"
      ]
     },
     "execution_count": 18,
     "metadata": {},
     "output_type": "execute_result"
    }
   ],
   "source": [
    "df_filled.shape"
   ]
  },
  {
   "cell_type": "code",
   "execution_count": 19,
   "metadata": {
    "colab": {
     "base_uri": "https://localhost:8080/"
    },
    "id": "vAYBEFCtn0yU",
    "outputId": "1c61b01a-1f26-452b-f366-0fc1ba352902"
   },
   "outputs": [
    {
     "data": {
      "text/plain": [
       "20"
      ]
     },
     "execution_count": 19,
     "metadata": {},
     "output_type": "execute_result"
    }
   ],
   "source": [
    "# Counting the number of categorical columns\n",
    "\n",
    "categorical_columns_count = len(df_filled.select_dtypes(include='object').columns)\n",
    "categorical_columns_count"
   ]
  },
  {
   "cell_type": "code",
   "execution_count": 20,
   "metadata": {
    "colab": {
     "base_uri": "https://localhost:8080/"
    },
    "id": "mG8iHDJln4-g",
    "outputId": "327cfda6-5c8a-4109-c79c-7c2c568a59bd"
   },
   "outputs": [
    {
     "data": {
      "text/plain": [
       "Unnamed: 0.1                      int64\n",
       "Unnamed: 0                        int64\n",
       "RecordingTime [ms]              float64\n",
       "Time of Day [h:m:s:ms]           object\n",
       "Trial                            object\n",
       "Stimulus                         object\n",
       "Export Start Trial Time [ms]    float64\n",
       "Export End Trial Time [ms]      float64\n",
       "Participant                       int64\n",
       "Color                            object\n",
       "Tracking Ratio [%]              float64\n",
       "Category Group                   object\n",
       "Category Right                   object\n",
       "Index Right                      object\n",
       "Index Left                      float64\n",
       "Pupil Diameter Right [mm]       float64\n",
       "Pupil Diameter Left [mm]        float64\n",
       "Point of Regard Right X [px]     object\n",
       "Point of Regard Right Y [px]     object\n",
       "Point of Regard Left X [px]     float64\n",
       "Point of Regard Left Y [px]     float64\n",
       "Gaze Vector Right X              object\n",
       "Gaze Vector Right Y              object\n",
       "Gaze Vector Right Z              object\n",
       "Gaze Vector Left X              float64\n",
       "Gaze Vector Left Y              float64\n",
       "Gaze Vector Left Z              float64\n",
       "Annotation Name                  object\n",
       "Annotation Description           object\n",
       "Annotation Tags                  object\n",
       "Mouse Position X [px]            object\n",
       "Mouse Position Y [px]            object\n",
       "Scroll Direction X               object\n",
       "Scroll Direction Y               object\n",
       "Content                          object\n",
       "Pupil Size Right X [px]         float64\n",
       "Pupil Size Right Y [px]         float64\n",
       "Eye Position Right X [mm]       float64\n",
       "Eye Position Right Y [mm]       float64\n",
       "Eye Position Right Z [mm]       float64\n",
       "Eye Position Left X [mm]        float64\n",
       "Eye Position Left Y [mm]        float64\n",
       "Eye Position Left Z [mm]        float64\n",
       "Pupil Position Right X [px]     float64\n",
       "Pupil Position Right Y [px]     float64\n",
       "Pupil Position Left X [px]      float64\n",
       "Pupil Position Left Y [px]      float64\n",
       "dtype: object"
      ]
     },
     "execution_count": 20,
     "metadata": {},
     "output_type": "execute_result"
    }
   ],
   "source": [
    "df_filled.dtypes"
   ]
  },
  {
   "cell_type": "code",
   "execution_count": 21,
   "metadata": {
    "id": "te9Olj8kn6mU"
   },
   "outputs": [],
   "source": [
    "file_path_2 = '/content/drive/My Drive/Eye-Tracking Dataset/Metadata_Participants.csv'\n",
    "dataFrame = pd.read_csv(file_path_2)\n",
    "dataFrame.rename(columns={'ParticipantID': 'Participant'}, inplace=True)"
   ]
  },
  {
   "cell_type": "code",
   "execution_count": 22,
   "metadata": {
    "id": "Veyd5T2CoEc1"
   },
   "outputs": [],
   "source": [
    "data = pd.merge(df_filled,dataFrame,on=\"Participant\")"
   ]
  },
  {
   "cell_type": "code",
   "execution_count": 23,
   "metadata": {
    "colab": {
     "base_uri": "https://localhost:8080/",
     "height": 565
    },
    "id": "eIu3fLDLoI0c",
    "outputId": "fbf0276b-81bf-4fc5-f8fc-710502467282"
   },
   "outputs": [
    {
     "data": {
      "application/vnd.google.colaboratory.intrinsic+json": {
       "type": "dataframe",
       "variable_name": "data"
      },
      "text/html": [
       "\n",
       "  <div id=\"df-9ea69178-e407-4abe-8aa6-f08cb2ca0e2b\" class=\"colab-df-container\">\n",
       "    <div>\n",
       "<style scoped>\n",
       "    .dataframe tbody tr th:only-of-type {\n",
       "        vertical-align: middle;\n",
       "    }\n",
       "\n",
       "    .dataframe tbody tr th {\n",
       "        vertical-align: top;\n",
       "    }\n",
       "\n",
       "    .dataframe thead th {\n",
       "        text-align: right;\n",
       "    }\n",
       "</style>\n",
       "<table border=\"1\" class=\"dataframe\">\n",
       "  <thead>\n",
       "    <tr style=\"text-align: right;\">\n",
       "      <th></th>\n",
       "      <th>Unnamed: 0.1</th>\n",
       "      <th>Unnamed: 0</th>\n",
       "      <th>RecordingTime [ms]</th>\n",
       "      <th>Time of Day [h:m:s:ms]</th>\n",
       "      <th>Trial</th>\n",
       "      <th>Stimulus</th>\n",
       "      <th>Export Start Trial Time [ms]</th>\n",
       "      <th>Export End Trial Time [ms]</th>\n",
       "      <th>Participant</th>\n",
       "      <th>Color</th>\n",
       "      <th>...</th>\n",
       "      <th>Eye Position Left Y [mm]</th>\n",
       "      <th>Eye Position Left Z [mm]</th>\n",
       "      <th>Pupil Position Right X [px]</th>\n",
       "      <th>Pupil Position Right Y [px]</th>\n",
       "      <th>Pupil Position Left X [px]</th>\n",
       "      <th>Pupil Position Left Y [px]</th>\n",
       "      <th>Gender</th>\n",
       "      <th>Age</th>\n",
       "      <th>Class</th>\n",
       "      <th>CARS Score</th>\n",
       "    </tr>\n",
       "  </thead>\n",
       "  <tbody>\n",
       "    <tr>\n",
       "      <th>0</th>\n",
       "      <td>0</td>\n",
       "      <td>0</td>\n",
       "      <td>4780015.315</td>\n",
       "      <td>13:22:17:254</td>\n",
       "      <td>Trial020</td>\n",
       "      <td>20 eye tracking (ballon droite).avi</td>\n",
       "      <td>0.0</td>\n",
       "      <td>52058.676</td>\n",
       "      <td>50</td>\n",
       "      <td>Coral</td>\n",
       "      <td>...</td>\n",
       "      <td>-19.00795</td>\n",
       "      <td>600.4</td>\n",
       "      <td>652.6963</td>\n",
       "      <td>582.6397</td>\n",
       "      <td>635.5766</td>\n",
       "      <td>574.31455</td>\n",
       "      <td>F</td>\n",
       "      <td>11.5</td>\n",
       "      <td>TD</td>\n",
       "      <td>NaN</td>\n",
       "    </tr>\n",
       "    <tr>\n",
       "      <th>1</th>\n",
       "      <td>1</td>\n",
       "      <td>1</td>\n",
       "      <td>4780020.865</td>\n",
       "      <td>13:22:17:260</td>\n",
       "      <td>Trial020</td>\n",
       "      <td>20 eye tracking (ballon droite).avi</td>\n",
       "      <td>0.0</td>\n",
       "      <td>52058.676</td>\n",
       "      <td>50</td>\n",
       "      <td>Coral</td>\n",
       "      <td>...</td>\n",
       "      <td>-19.00795</td>\n",
       "      <td>600.4</td>\n",
       "      <td>652.6963</td>\n",
       "      <td>582.6397</td>\n",
       "      <td>635.5766</td>\n",
       "      <td>574.31455</td>\n",
       "      <td>F</td>\n",
       "      <td>11.5</td>\n",
       "      <td>TD</td>\n",
       "      <td>NaN</td>\n",
       "    </tr>\n",
       "    <tr>\n",
       "      <th>2</th>\n",
       "      <td>2</td>\n",
       "      <td>2</td>\n",
       "      <td>4780040.758</td>\n",
       "      <td>13:22:17:279</td>\n",
       "      <td>Trial020</td>\n",
       "      <td>20 eye tracking (ballon droite).avi</td>\n",
       "      <td>0.0</td>\n",
       "      <td>52058.676</td>\n",
       "      <td>50</td>\n",
       "      <td>Coral</td>\n",
       "      <td>...</td>\n",
       "      <td>-19.00795</td>\n",
       "      <td>600.4</td>\n",
       "      <td>652.6963</td>\n",
       "      <td>582.6397</td>\n",
       "      <td>635.5766</td>\n",
       "      <td>574.31455</td>\n",
       "      <td>F</td>\n",
       "      <td>11.5</td>\n",
       "      <td>TD</td>\n",
       "      <td>NaN</td>\n",
       "    </tr>\n",
       "    <tr>\n",
       "      <th>3</th>\n",
       "      <td>3</td>\n",
       "      <td>3</td>\n",
       "      <td>4780080.503</td>\n",
       "      <td>13:22:17:319</td>\n",
       "      <td>Trial020</td>\n",
       "      <td>20 eye tracking (ballon droite).avi</td>\n",
       "      <td>0.0</td>\n",
       "      <td>52058.676</td>\n",
       "      <td>50</td>\n",
       "      <td>Coral</td>\n",
       "      <td>...</td>\n",
       "      <td>-19.00795</td>\n",
       "      <td>600.4</td>\n",
       "      <td>652.6963</td>\n",
       "      <td>582.6397</td>\n",
       "      <td>635.5766</td>\n",
       "      <td>574.31455</td>\n",
       "      <td>F</td>\n",
       "      <td>11.5</td>\n",
       "      <td>TD</td>\n",
       "      <td>NaN</td>\n",
       "    </tr>\n",
       "    <tr>\n",
       "      <th>4</th>\n",
       "      <td>4</td>\n",
       "      <td>4</td>\n",
       "      <td>4780120.360</td>\n",
       "      <td>13:22:17:359</td>\n",
       "      <td>Trial020</td>\n",
       "      <td>20 eye tracking (ballon droite).avi</td>\n",
       "      <td>0.0</td>\n",
       "      <td>52058.676</td>\n",
       "      <td>50</td>\n",
       "      <td>Coral</td>\n",
       "      <td>...</td>\n",
       "      <td>-19.00795</td>\n",
       "      <td>600.4</td>\n",
       "      <td>652.6963</td>\n",
       "      <td>582.6397</td>\n",
       "      <td>635.5766</td>\n",
       "      <td>574.31455</td>\n",
       "      <td>F</td>\n",
       "      <td>11.5</td>\n",
       "      <td>TD</td>\n",
       "      <td>NaN</td>\n",
       "    </tr>\n",
       "  </tbody>\n",
       "</table>\n",
       "<p>5 rows × 51 columns</p>\n",
       "</div>\n",
       "    <div class=\"colab-df-buttons\">\n",
       "\n",
       "  <div class=\"colab-df-container\">\n",
       "    <button class=\"colab-df-convert\" onclick=\"convertToInteractive('df-9ea69178-e407-4abe-8aa6-f08cb2ca0e2b')\"\n",
       "            title=\"Convert this dataframe to an interactive table.\"\n",
       "            style=\"display:none;\">\n",
       "\n",
       "  <svg xmlns=\"http://www.w3.org/2000/svg\" height=\"24px\" viewBox=\"0 -960 960 960\">\n",
       "    <path d=\"M120-120v-720h720v720H120Zm60-500h600v-160H180v160Zm220 220h160v-160H400v160Zm0 220h160v-160H400v160ZM180-400h160v-160H180v160Zm440 0h160v-160H620v160ZM180-180h160v-160H180v160Zm440 0h160v-160H620v160Z\"/>\n",
       "  </svg>\n",
       "    </button>\n",
       "\n",
       "  <style>\n",
       "    .colab-df-container {\n",
       "      display:flex;\n",
       "      gap: 12px;\n",
       "    }\n",
       "\n",
       "    .colab-df-convert {\n",
       "      background-color: #E8F0FE;\n",
       "      border: none;\n",
       "      border-radius: 50%;\n",
       "      cursor: pointer;\n",
       "      display: none;\n",
       "      fill: #1967D2;\n",
       "      height: 32px;\n",
       "      padding: 0 0 0 0;\n",
       "      width: 32px;\n",
       "    }\n",
       "\n",
       "    .colab-df-convert:hover {\n",
       "      background-color: #E2EBFA;\n",
       "      box-shadow: 0px 1px 2px rgba(60, 64, 67, 0.3), 0px 1px 3px 1px rgba(60, 64, 67, 0.15);\n",
       "      fill: #174EA6;\n",
       "    }\n",
       "\n",
       "    .colab-df-buttons div {\n",
       "      margin-bottom: 4px;\n",
       "    }\n",
       "\n",
       "    [theme=dark] .colab-df-convert {\n",
       "      background-color: #3B4455;\n",
       "      fill: #D2E3FC;\n",
       "    }\n",
       "\n",
       "    [theme=dark] .colab-df-convert:hover {\n",
       "      background-color: #434B5C;\n",
       "      box-shadow: 0px 1px 3px 1px rgba(0, 0, 0, 0.15);\n",
       "      filter: drop-shadow(0px 1px 2px rgba(0, 0, 0, 0.3));\n",
       "      fill: #FFFFFF;\n",
       "    }\n",
       "  </style>\n",
       "\n",
       "    <script>\n",
       "      const buttonEl =\n",
       "        document.querySelector('#df-9ea69178-e407-4abe-8aa6-f08cb2ca0e2b button.colab-df-convert');\n",
       "      buttonEl.style.display =\n",
       "        google.colab.kernel.accessAllowed ? 'block' : 'none';\n",
       "\n",
       "      async function convertToInteractive(key) {\n",
       "        const element = document.querySelector('#df-9ea69178-e407-4abe-8aa6-f08cb2ca0e2b');\n",
       "        const dataTable =\n",
       "          await google.colab.kernel.invokeFunction('convertToInteractive',\n",
       "                                                    [key], {});\n",
       "        if (!dataTable) return;\n",
       "\n",
       "        const docLinkHtml = 'Like what you see? Visit the ' +\n",
       "          '<a target=\"_blank\" href=https://colab.research.google.com/notebooks/data_table.ipynb>data table notebook</a>'\n",
       "          + ' to learn more about interactive tables.';\n",
       "        element.innerHTML = '';\n",
       "        dataTable['output_type'] = 'display_data';\n",
       "        await google.colab.output.renderOutput(dataTable, element);\n",
       "        const docLink = document.createElement('div');\n",
       "        docLink.innerHTML = docLinkHtml;\n",
       "        element.appendChild(docLink);\n",
       "      }\n",
       "    </script>\n",
       "  </div>\n",
       "\n",
       "\n",
       "<div id=\"df-22e6d17a-ff94-447e-a45d-5433a3b38113\">\n",
       "  <button class=\"colab-df-quickchart\" onclick=\"quickchart('df-22e6d17a-ff94-447e-a45d-5433a3b38113')\"\n",
       "            title=\"Suggest charts\"\n",
       "            style=\"display:none;\">\n",
       "\n",
       "<svg xmlns=\"http://www.w3.org/2000/svg\" height=\"24px\"viewBox=\"0 0 24 24\"\n",
       "     width=\"24px\">\n",
       "    <g>\n",
       "        <path d=\"M19 3H5c-1.1 0-2 .9-2 2v14c0 1.1.9 2 2 2h14c1.1 0 2-.9 2-2V5c0-1.1-.9-2-2-2zM9 17H7v-7h2v7zm4 0h-2V7h2v10zm4 0h-2v-4h2v4z\"/>\n",
       "    </g>\n",
       "</svg>\n",
       "  </button>\n",
       "\n",
       "<style>\n",
       "  .colab-df-quickchart {\n",
       "      --bg-color: #E8F0FE;\n",
       "      --fill-color: #1967D2;\n",
       "      --hover-bg-color: #E2EBFA;\n",
       "      --hover-fill-color: #174EA6;\n",
       "      --disabled-fill-color: #AAA;\n",
       "      --disabled-bg-color: #DDD;\n",
       "  }\n",
       "\n",
       "  [theme=dark] .colab-df-quickchart {\n",
       "      --bg-color: #3B4455;\n",
       "      --fill-color: #D2E3FC;\n",
       "      --hover-bg-color: #434B5C;\n",
       "      --hover-fill-color: #FFFFFF;\n",
       "      --disabled-bg-color: #3B4455;\n",
       "      --disabled-fill-color: #666;\n",
       "  }\n",
       "\n",
       "  .colab-df-quickchart {\n",
       "    background-color: var(--bg-color);\n",
       "    border: none;\n",
       "    border-radius: 50%;\n",
       "    cursor: pointer;\n",
       "    display: none;\n",
       "    fill: var(--fill-color);\n",
       "    height: 32px;\n",
       "    padding: 0;\n",
       "    width: 32px;\n",
       "  }\n",
       "\n",
       "  .colab-df-quickchart:hover {\n",
       "    background-color: var(--hover-bg-color);\n",
       "    box-shadow: 0 1px 2px rgba(60, 64, 67, 0.3), 0 1px 3px 1px rgba(60, 64, 67, 0.15);\n",
       "    fill: var(--button-hover-fill-color);\n",
       "  }\n",
       "\n",
       "  .colab-df-quickchart-complete:disabled,\n",
       "  .colab-df-quickchart-complete:disabled:hover {\n",
       "    background-color: var(--disabled-bg-color);\n",
       "    fill: var(--disabled-fill-color);\n",
       "    box-shadow: none;\n",
       "  }\n",
       "\n",
       "  .colab-df-spinner {\n",
       "    border: 2px solid var(--fill-color);\n",
       "    border-color: transparent;\n",
       "    border-bottom-color: var(--fill-color);\n",
       "    animation:\n",
       "      spin 1s steps(1) infinite;\n",
       "  }\n",
       "\n",
       "  @keyframes spin {\n",
       "    0% {\n",
       "      border-color: transparent;\n",
       "      border-bottom-color: var(--fill-color);\n",
       "      border-left-color: var(--fill-color);\n",
       "    }\n",
       "    20% {\n",
       "      border-color: transparent;\n",
       "      border-left-color: var(--fill-color);\n",
       "      border-top-color: var(--fill-color);\n",
       "    }\n",
       "    30% {\n",
       "      border-color: transparent;\n",
       "      border-left-color: var(--fill-color);\n",
       "      border-top-color: var(--fill-color);\n",
       "      border-right-color: var(--fill-color);\n",
       "    }\n",
       "    40% {\n",
       "      border-color: transparent;\n",
       "      border-right-color: var(--fill-color);\n",
       "      border-top-color: var(--fill-color);\n",
       "    }\n",
       "    60% {\n",
       "      border-color: transparent;\n",
       "      border-right-color: var(--fill-color);\n",
       "    }\n",
       "    80% {\n",
       "      border-color: transparent;\n",
       "      border-right-color: var(--fill-color);\n",
       "      border-bottom-color: var(--fill-color);\n",
       "    }\n",
       "    90% {\n",
       "      border-color: transparent;\n",
       "      border-bottom-color: var(--fill-color);\n",
       "    }\n",
       "  }\n",
       "</style>\n",
       "\n",
       "  <script>\n",
       "    async function quickchart(key) {\n",
       "      const quickchartButtonEl =\n",
       "        document.querySelector('#' + key + ' button');\n",
       "      quickchartButtonEl.disabled = true;  // To prevent multiple clicks.\n",
       "      quickchartButtonEl.classList.add('colab-df-spinner');\n",
       "      try {\n",
       "        const charts = await google.colab.kernel.invokeFunction(\n",
       "            'suggestCharts', [key], {});\n",
       "      } catch (error) {\n",
       "        console.error('Error during call to suggestCharts:', error);\n",
       "      }\n",
       "      quickchartButtonEl.classList.remove('colab-df-spinner');\n",
       "      quickchartButtonEl.classList.add('colab-df-quickchart-complete');\n",
       "    }\n",
       "    (() => {\n",
       "      let quickchartButtonEl =\n",
       "        document.querySelector('#df-22e6d17a-ff94-447e-a45d-5433a3b38113 button');\n",
       "      quickchartButtonEl.style.display =\n",
       "        google.colab.kernel.accessAllowed ? 'block' : 'none';\n",
       "    })();\n",
       "  </script>\n",
       "</div>\n",
       "\n",
       "    </div>\n",
       "  </div>\n"
      ],
      "text/plain": [
       "   Unnamed: 0.1  Unnamed: 0  RecordingTime [ms] Time of Day [h:m:s:ms]  \\\n",
       "0             0           0         4780015.315           13:22:17:254   \n",
       "1             1           1         4780020.865           13:22:17:260   \n",
       "2             2           2         4780040.758           13:22:17:279   \n",
       "3             3           3         4780080.503           13:22:17:319   \n",
       "4             4           4         4780120.360           13:22:17:359   \n",
       "\n",
       "      Trial                             Stimulus  \\\n",
       "0  Trial020  20 eye tracking (ballon droite).avi   \n",
       "1  Trial020  20 eye tracking (ballon droite).avi   \n",
       "2  Trial020  20 eye tracking (ballon droite).avi   \n",
       "3  Trial020  20 eye tracking (ballon droite).avi   \n",
       "4  Trial020  20 eye tracking (ballon droite).avi   \n",
       "\n",
       "   Export Start Trial Time [ms]  Export End Trial Time [ms]  Participant  \\\n",
       "0                           0.0                   52058.676           50   \n",
       "1                           0.0                   52058.676           50   \n",
       "2                           0.0                   52058.676           50   \n",
       "3                           0.0                   52058.676           50   \n",
       "4                           0.0                   52058.676           50   \n",
       "\n",
       "   Color  ...  Eye Position Left Y [mm] Eye Position Left Z [mm]  \\\n",
       "0  Coral  ...                 -19.00795                    600.4   \n",
       "1  Coral  ...                 -19.00795                    600.4   \n",
       "2  Coral  ...                 -19.00795                    600.4   \n",
       "3  Coral  ...                 -19.00795                    600.4   \n",
       "4  Coral  ...                 -19.00795                    600.4   \n",
       "\n",
       "  Pupil Position Right X [px] Pupil Position Right Y [px]  \\\n",
       "0                    652.6963                    582.6397   \n",
       "1                    652.6963                    582.6397   \n",
       "2                    652.6963                    582.6397   \n",
       "3                    652.6963                    582.6397   \n",
       "4                    652.6963                    582.6397   \n",
       "\n",
       "   Pupil Position Left X [px]  Pupil Position Left Y [px]  Gender   Age Class  \\\n",
       "0                    635.5766                   574.31455       F  11.5    TD   \n",
       "1                    635.5766                   574.31455       F  11.5    TD   \n",
       "2                    635.5766                   574.31455       F  11.5    TD   \n",
       "3                    635.5766                   574.31455       F  11.5    TD   \n",
       "4                    635.5766                   574.31455       F  11.5    TD   \n",
       "\n",
       "   CARS Score  \n",
       "0         NaN  \n",
       "1         NaN  \n",
       "2         NaN  \n",
       "3         NaN  \n",
       "4         NaN  \n",
       "\n",
       "[5 rows x 51 columns]"
      ]
     },
     "execution_count": 23,
     "metadata": {},
     "output_type": "execute_result"
    }
   ],
   "source": [
    "data.head()"
   ]
  },
  {
   "cell_type": "code",
   "execution_count": 24,
   "metadata": {
    "colab": {
     "base_uri": "https://localhost:8080/"
    },
    "id": "yHGj3m83oKGE",
    "outputId": "f330a6b3-263b-4bca-882e-e696b1c4887c"
   },
   "outputs": [
    {
     "data": {
      "text/plain": [
       "(1015142, 47)"
      ]
     },
     "execution_count": 24,
     "metadata": {},
     "output_type": "execute_result"
    }
   ],
   "source": [
    "data = data.drop(columns=[\"Participant\",\"Gender\",\"Age\",\"CARS Score\"])\n",
    "data.shape"
   ]
  },
  {
   "cell_type": "code",
   "execution_count": 25,
   "metadata": {
    "colab": {
     "base_uri": "https://localhost:8080/",
     "height": 585
    },
    "id": "ASntbq7TpEhA",
    "outputId": "cc92fb5e-410d-4210-b85a-5ea22c3562d5"
   },
   "outputs": [
    {
     "data": {
      "application/vnd.google.colaboratory.intrinsic+json": {
       "type": "dataframe",
       "variable_name": "data"
      },
      "text/html": [
       "\n",
       "  <div id=\"df-e8a81d31-8c78-467d-b9da-7ec0067ac2a9\" class=\"colab-df-container\">\n",
       "    <div>\n",
       "<style scoped>\n",
       "    .dataframe tbody tr th:only-of-type {\n",
       "        vertical-align: middle;\n",
       "    }\n",
       "\n",
       "    .dataframe tbody tr th {\n",
       "        vertical-align: top;\n",
       "    }\n",
       "\n",
       "    .dataframe thead th {\n",
       "        text-align: right;\n",
       "    }\n",
       "</style>\n",
       "<table border=\"1\" class=\"dataframe\">\n",
       "  <thead>\n",
       "    <tr style=\"text-align: right;\">\n",
       "      <th></th>\n",
       "      <th>Unnamed: 0.1</th>\n",
       "      <th>Unnamed: 0</th>\n",
       "      <th>RecordingTime [ms]</th>\n",
       "      <th>Time of Day [h:m:s:ms]</th>\n",
       "      <th>Trial</th>\n",
       "      <th>Stimulus</th>\n",
       "      <th>Export Start Trial Time [ms]</th>\n",
       "      <th>Export End Trial Time [ms]</th>\n",
       "      <th>Color</th>\n",
       "      <th>Tracking Ratio [%]</th>\n",
       "      <th>...</th>\n",
       "      <th>Eye Position Right Y [mm]</th>\n",
       "      <th>Eye Position Right Z [mm]</th>\n",
       "      <th>Eye Position Left X [mm]</th>\n",
       "      <th>Eye Position Left Y [mm]</th>\n",
       "      <th>Eye Position Left Z [mm]</th>\n",
       "      <th>Pupil Position Right X [px]</th>\n",
       "      <th>Pupil Position Right Y [px]</th>\n",
       "      <th>Pupil Position Left X [px]</th>\n",
       "      <th>Pupil Position Left Y [px]</th>\n",
       "      <th>Class</th>\n",
       "    </tr>\n",
       "  </thead>\n",
       "  <tbody>\n",
       "    <tr>\n",
       "      <th>0</th>\n",
       "      <td>0</td>\n",
       "      <td>0</td>\n",
       "      <td>4780015.315</td>\n",
       "      <td>13:22:17:254</td>\n",
       "      <td>Trial020</td>\n",
       "      <td>20 eye tracking (ballon droite).avi</td>\n",
       "      <td>0.0</td>\n",
       "      <td>52058.676</td>\n",
       "      <td>Coral</td>\n",
       "      <td>78.5652</td>\n",
       "      <td>...</td>\n",
       "      <td>-20.881</td>\n",
       "      <td>601.4192</td>\n",
       "      <td>0.0</td>\n",
       "      <td>-19.00795</td>\n",
       "      <td>600.4</td>\n",
       "      <td>652.6963</td>\n",
       "      <td>582.6397</td>\n",
       "      <td>635.5766</td>\n",
       "      <td>574.31455</td>\n",
       "      <td>TD</td>\n",
       "    </tr>\n",
       "    <tr>\n",
       "      <th>1</th>\n",
       "      <td>1</td>\n",
       "      <td>1</td>\n",
       "      <td>4780020.865</td>\n",
       "      <td>13:22:17:260</td>\n",
       "      <td>Trial020</td>\n",
       "      <td>20 eye tracking (ballon droite).avi</td>\n",
       "      <td>0.0</td>\n",
       "      <td>52058.676</td>\n",
       "      <td>Coral</td>\n",
       "      <td>78.5652</td>\n",
       "      <td>...</td>\n",
       "      <td>-20.881</td>\n",
       "      <td>601.4192</td>\n",
       "      <td>0.0</td>\n",
       "      <td>-19.00795</td>\n",
       "      <td>600.4</td>\n",
       "      <td>652.6963</td>\n",
       "      <td>582.6397</td>\n",
       "      <td>635.5766</td>\n",
       "      <td>574.31455</td>\n",
       "      <td>TD</td>\n",
       "    </tr>\n",
       "    <tr>\n",
       "      <th>2</th>\n",
       "      <td>2</td>\n",
       "      <td>2</td>\n",
       "      <td>4780040.758</td>\n",
       "      <td>13:22:17:279</td>\n",
       "      <td>Trial020</td>\n",
       "      <td>20 eye tracking (ballon droite).avi</td>\n",
       "      <td>0.0</td>\n",
       "      <td>52058.676</td>\n",
       "      <td>Coral</td>\n",
       "      <td>78.5652</td>\n",
       "      <td>...</td>\n",
       "      <td>-20.881</td>\n",
       "      <td>601.4192</td>\n",
       "      <td>0.0</td>\n",
       "      <td>-19.00795</td>\n",
       "      <td>600.4</td>\n",
       "      <td>652.6963</td>\n",
       "      <td>582.6397</td>\n",
       "      <td>635.5766</td>\n",
       "      <td>574.31455</td>\n",
       "      <td>TD</td>\n",
       "    </tr>\n",
       "    <tr>\n",
       "      <th>3</th>\n",
       "      <td>3</td>\n",
       "      <td>3</td>\n",
       "      <td>4780080.503</td>\n",
       "      <td>13:22:17:319</td>\n",
       "      <td>Trial020</td>\n",
       "      <td>20 eye tracking (ballon droite).avi</td>\n",
       "      <td>0.0</td>\n",
       "      <td>52058.676</td>\n",
       "      <td>Coral</td>\n",
       "      <td>78.5652</td>\n",
       "      <td>...</td>\n",
       "      <td>-20.881</td>\n",
       "      <td>601.4192</td>\n",
       "      <td>0.0</td>\n",
       "      <td>-19.00795</td>\n",
       "      <td>600.4</td>\n",
       "      <td>652.6963</td>\n",
       "      <td>582.6397</td>\n",
       "      <td>635.5766</td>\n",
       "      <td>574.31455</td>\n",
       "      <td>TD</td>\n",
       "    </tr>\n",
       "    <tr>\n",
       "      <th>4</th>\n",
       "      <td>4</td>\n",
       "      <td>4</td>\n",
       "      <td>4780120.360</td>\n",
       "      <td>13:22:17:359</td>\n",
       "      <td>Trial020</td>\n",
       "      <td>20 eye tracking (ballon droite).avi</td>\n",
       "      <td>0.0</td>\n",
       "      <td>52058.676</td>\n",
       "      <td>Coral</td>\n",
       "      <td>78.5652</td>\n",
       "      <td>...</td>\n",
       "      <td>-20.881</td>\n",
       "      <td>601.4192</td>\n",
       "      <td>0.0</td>\n",
       "      <td>-19.00795</td>\n",
       "      <td>600.4</td>\n",
       "      <td>652.6963</td>\n",
       "      <td>582.6397</td>\n",
       "      <td>635.5766</td>\n",
       "      <td>574.31455</td>\n",
       "      <td>TD</td>\n",
       "    </tr>\n",
       "  </tbody>\n",
       "</table>\n",
       "<p>5 rows × 47 columns</p>\n",
       "</div>\n",
       "    <div class=\"colab-df-buttons\">\n",
       "\n",
       "  <div class=\"colab-df-container\">\n",
       "    <button class=\"colab-df-convert\" onclick=\"convertToInteractive('df-e8a81d31-8c78-467d-b9da-7ec0067ac2a9')\"\n",
       "            title=\"Convert this dataframe to an interactive table.\"\n",
       "            style=\"display:none;\">\n",
       "\n",
       "  <svg xmlns=\"http://www.w3.org/2000/svg\" height=\"24px\" viewBox=\"0 -960 960 960\">\n",
       "    <path d=\"M120-120v-720h720v720H120Zm60-500h600v-160H180v160Zm220 220h160v-160H400v160Zm0 220h160v-160H400v160ZM180-400h160v-160H180v160Zm440 0h160v-160H620v160ZM180-180h160v-160H180v160Zm440 0h160v-160H620v160Z\"/>\n",
       "  </svg>\n",
       "    </button>\n",
       "\n",
       "  <style>\n",
       "    .colab-df-container {\n",
       "      display:flex;\n",
       "      gap: 12px;\n",
       "    }\n",
       "\n",
       "    .colab-df-convert {\n",
       "      background-color: #E8F0FE;\n",
       "      border: none;\n",
       "      border-radius: 50%;\n",
       "      cursor: pointer;\n",
       "      display: none;\n",
       "      fill: #1967D2;\n",
       "      height: 32px;\n",
       "      padding: 0 0 0 0;\n",
       "      width: 32px;\n",
       "    }\n",
       "\n",
       "    .colab-df-convert:hover {\n",
       "      background-color: #E2EBFA;\n",
       "      box-shadow: 0px 1px 2px rgba(60, 64, 67, 0.3), 0px 1px 3px 1px rgba(60, 64, 67, 0.15);\n",
       "      fill: #174EA6;\n",
       "    }\n",
       "\n",
       "    .colab-df-buttons div {\n",
       "      margin-bottom: 4px;\n",
       "    }\n",
       "\n",
       "    [theme=dark] .colab-df-convert {\n",
       "      background-color: #3B4455;\n",
       "      fill: #D2E3FC;\n",
       "    }\n",
       "\n",
       "    [theme=dark] .colab-df-convert:hover {\n",
       "      background-color: #434B5C;\n",
       "      box-shadow: 0px 1px 3px 1px rgba(0, 0, 0, 0.15);\n",
       "      filter: drop-shadow(0px 1px 2px rgba(0, 0, 0, 0.3));\n",
       "      fill: #FFFFFF;\n",
       "    }\n",
       "  </style>\n",
       "\n",
       "    <script>\n",
       "      const buttonEl =\n",
       "        document.querySelector('#df-e8a81d31-8c78-467d-b9da-7ec0067ac2a9 button.colab-df-convert');\n",
       "      buttonEl.style.display =\n",
       "        google.colab.kernel.accessAllowed ? 'block' : 'none';\n",
       "\n",
       "      async function convertToInteractive(key) {\n",
       "        const element = document.querySelector('#df-e8a81d31-8c78-467d-b9da-7ec0067ac2a9');\n",
       "        const dataTable =\n",
       "          await google.colab.kernel.invokeFunction('convertToInteractive',\n",
       "                                                    [key], {});\n",
       "        if (!dataTable) return;\n",
       "\n",
       "        const docLinkHtml = 'Like what you see? Visit the ' +\n",
       "          '<a target=\"_blank\" href=https://colab.research.google.com/notebooks/data_table.ipynb>data table notebook</a>'\n",
       "          + ' to learn more about interactive tables.';\n",
       "        element.innerHTML = '';\n",
       "        dataTable['output_type'] = 'display_data';\n",
       "        await google.colab.output.renderOutput(dataTable, element);\n",
       "        const docLink = document.createElement('div');\n",
       "        docLink.innerHTML = docLinkHtml;\n",
       "        element.appendChild(docLink);\n",
       "      }\n",
       "    </script>\n",
       "  </div>\n",
       "\n",
       "\n",
       "<div id=\"df-7842016d-bcd3-44c9-984a-175020efb448\">\n",
       "  <button class=\"colab-df-quickchart\" onclick=\"quickchart('df-7842016d-bcd3-44c9-984a-175020efb448')\"\n",
       "            title=\"Suggest charts\"\n",
       "            style=\"display:none;\">\n",
       "\n",
       "<svg xmlns=\"http://www.w3.org/2000/svg\" height=\"24px\"viewBox=\"0 0 24 24\"\n",
       "     width=\"24px\">\n",
       "    <g>\n",
       "        <path d=\"M19 3H5c-1.1 0-2 .9-2 2v14c0 1.1.9 2 2 2h14c1.1 0 2-.9 2-2V5c0-1.1-.9-2-2-2zM9 17H7v-7h2v7zm4 0h-2V7h2v10zm4 0h-2v-4h2v4z\"/>\n",
       "    </g>\n",
       "</svg>\n",
       "  </button>\n",
       "\n",
       "<style>\n",
       "  .colab-df-quickchart {\n",
       "      --bg-color: #E8F0FE;\n",
       "      --fill-color: #1967D2;\n",
       "      --hover-bg-color: #E2EBFA;\n",
       "      --hover-fill-color: #174EA6;\n",
       "      --disabled-fill-color: #AAA;\n",
       "      --disabled-bg-color: #DDD;\n",
       "  }\n",
       "\n",
       "  [theme=dark] .colab-df-quickchart {\n",
       "      --bg-color: #3B4455;\n",
       "      --fill-color: #D2E3FC;\n",
       "      --hover-bg-color: #434B5C;\n",
       "      --hover-fill-color: #FFFFFF;\n",
       "      --disabled-bg-color: #3B4455;\n",
       "      --disabled-fill-color: #666;\n",
       "  }\n",
       "\n",
       "  .colab-df-quickchart {\n",
       "    background-color: var(--bg-color);\n",
       "    border: none;\n",
       "    border-radius: 50%;\n",
       "    cursor: pointer;\n",
       "    display: none;\n",
       "    fill: var(--fill-color);\n",
       "    height: 32px;\n",
       "    padding: 0;\n",
       "    width: 32px;\n",
       "  }\n",
       "\n",
       "  .colab-df-quickchart:hover {\n",
       "    background-color: var(--hover-bg-color);\n",
       "    box-shadow: 0 1px 2px rgba(60, 64, 67, 0.3), 0 1px 3px 1px rgba(60, 64, 67, 0.15);\n",
       "    fill: var(--button-hover-fill-color);\n",
       "  }\n",
       "\n",
       "  .colab-df-quickchart-complete:disabled,\n",
       "  .colab-df-quickchart-complete:disabled:hover {\n",
       "    background-color: var(--disabled-bg-color);\n",
       "    fill: var(--disabled-fill-color);\n",
       "    box-shadow: none;\n",
       "  }\n",
       "\n",
       "  .colab-df-spinner {\n",
       "    border: 2px solid var(--fill-color);\n",
       "    border-color: transparent;\n",
       "    border-bottom-color: var(--fill-color);\n",
       "    animation:\n",
       "      spin 1s steps(1) infinite;\n",
       "  }\n",
       "\n",
       "  @keyframes spin {\n",
       "    0% {\n",
       "      border-color: transparent;\n",
       "      border-bottom-color: var(--fill-color);\n",
       "      border-left-color: var(--fill-color);\n",
       "    }\n",
       "    20% {\n",
       "      border-color: transparent;\n",
       "      border-left-color: var(--fill-color);\n",
       "      border-top-color: var(--fill-color);\n",
       "    }\n",
       "    30% {\n",
       "      border-color: transparent;\n",
       "      border-left-color: var(--fill-color);\n",
       "      border-top-color: var(--fill-color);\n",
       "      border-right-color: var(--fill-color);\n",
       "    }\n",
       "    40% {\n",
       "      border-color: transparent;\n",
       "      border-right-color: var(--fill-color);\n",
       "      border-top-color: var(--fill-color);\n",
       "    }\n",
       "    60% {\n",
       "      border-color: transparent;\n",
       "      border-right-color: var(--fill-color);\n",
       "    }\n",
       "    80% {\n",
       "      border-color: transparent;\n",
       "      border-right-color: var(--fill-color);\n",
       "      border-bottom-color: var(--fill-color);\n",
       "    }\n",
       "    90% {\n",
       "      border-color: transparent;\n",
       "      border-bottom-color: var(--fill-color);\n",
       "    }\n",
       "  }\n",
       "</style>\n",
       "\n",
       "  <script>\n",
       "    async function quickchart(key) {\n",
       "      const quickchartButtonEl =\n",
       "        document.querySelector('#' + key + ' button');\n",
       "      quickchartButtonEl.disabled = true;  // To prevent multiple clicks.\n",
       "      quickchartButtonEl.classList.add('colab-df-spinner');\n",
       "      try {\n",
       "        const charts = await google.colab.kernel.invokeFunction(\n",
       "            'suggestCharts', [key], {});\n",
       "      } catch (error) {\n",
       "        console.error('Error during call to suggestCharts:', error);\n",
       "      }\n",
       "      quickchartButtonEl.classList.remove('colab-df-spinner');\n",
       "      quickchartButtonEl.classList.add('colab-df-quickchart-complete');\n",
       "    }\n",
       "    (() => {\n",
       "      let quickchartButtonEl =\n",
       "        document.querySelector('#df-7842016d-bcd3-44c9-984a-175020efb448 button');\n",
       "      quickchartButtonEl.style.display =\n",
       "        google.colab.kernel.accessAllowed ? 'block' : 'none';\n",
       "    })();\n",
       "  </script>\n",
       "</div>\n",
       "\n",
       "    </div>\n",
       "  </div>\n"
      ],
      "text/plain": [
       "   Unnamed: 0.1  Unnamed: 0  RecordingTime [ms] Time of Day [h:m:s:ms]  \\\n",
       "0             0           0         4780015.315           13:22:17:254   \n",
       "1             1           1         4780020.865           13:22:17:260   \n",
       "2             2           2         4780040.758           13:22:17:279   \n",
       "3             3           3         4780080.503           13:22:17:319   \n",
       "4             4           4         4780120.360           13:22:17:359   \n",
       "\n",
       "      Trial                             Stimulus  \\\n",
       "0  Trial020  20 eye tracking (ballon droite).avi   \n",
       "1  Trial020  20 eye tracking (ballon droite).avi   \n",
       "2  Trial020  20 eye tracking (ballon droite).avi   \n",
       "3  Trial020  20 eye tracking (ballon droite).avi   \n",
       "4  Trial020  20 eye tracking (ballon droite).avi   \n",
       "\n",
       "   Export Start Trial Time [ms]  Export End Trial Time [ms]  Color  \\\n",
       "0                           0.0                   52058.676  Coral   \n",
       "1                           0.0                   52058.676  Coral   \n",
       "2                           0.0                   52058.676  Coral   \n",
       "3                           0.0                   52058.676  Coral   \n",
       "4                           0.0                   52058.676  Coral   \n",
       "\n",
       "   Tracking Ratio [%]  ... Eye Position Right Y [mm]  \\\n",
       "0             78.5652  ...                   -20.881   \n",
       "1             78.5652  ...                   -20.881   \n",
       "2             78.5652  ...                   -20.881   \n",
       "3             78.5652  ...                   -20.881   \n",
       "4             78.5652  ...                   -20.881   \n",
       "\n",
       "  Eye Position Right Z [mm] Eye Position Left X [mm]  \\\n",
       "0                  601.4192                      0.0   \n",
       "1                  601.4192                      0.0   \n",
       "2                  601.4192                      0.0   \n",
       "3                  601.4192                      0.0   \n",
       "4                  601.4192                      0.0   \n",
       "\n",
       "   Eye Position Left Y [mm]  Eye Position Left Z [mm]  \\\n",
       "0                 -19.00795                     600.4   \n",
       "1                 -19.00795                     600.4   \n",
       "2                 -19.00795                     600.4   \n",
       "3                 -19.00795                     600.4   \n",
       "4                 -19.00795                     600.4   \n",
       "\n",
       "   Pupil Position Right X [px] Pupil Position Right Y [px]  \\\n",
       "0                     652.6963                    582.6397   \n",
       "1                     652.6963                    582.6397   \n",
       "2                     652.6963                    582.6397   \n",
       "3                     652.6963                    582.6397   \n",
       "4                     652.6963                    582.6397   \n",
       "\n",
       "  Pupil Position Left X [px]  Pupil Position Left Y [px]  Class  \n",
       "0                   635.5766                   574.31455     TD  \n",
       "1                   635.5766                   574.31455     TD  \n",
       "2                   635.5766                   574.31455     TD  \n",
       "3                   635.5766                   574.31455     TD  \n",
       "4                   635.5766                   574.31455     TD  \n",
       "\n",
       "[5 rows x 47 columns]"
      ]
     },
     "execution_count": 25,
     "metadata": {},
     "output_type": "execute_result"
    }
   ],
   "source": [
    "data.head()"
   ]
  },
  {
   "cell_type": "code",
   "execution_count": 26,
   "metadata": {
    "colab": {
     "base_uri": "https://localhost:8080/"
    },
    "id": "WNshyK4vDCQC",
    "outputId": "9a05fbb7-4934-4814-fc10-61b90e8a99d5"
   },
   "outputs": [
    {
     "name": "stdout",
     "output_type": "stream",
     "text": [
      "<class 'pandas.core.frame.DataFrame'>\n",
      "Int64Index: 1015142 entries, 0 to 1015141\n",
      "Data columns (total 47 columns):\n",
      " #   Column                        Non-Null Count    Dtype  \n",
      "---  ------                        --------------    -----  \n",
      " 0   Unnamed: 0.1                  1015142 non-null  int64  \n",
      " 1   Unnamed: 0                    1015142 non-null  int64  \n",
      " 2   RecordingTime [ms]            1015142 non-null  float64\n",
      " 3   Time of Day [h:m:s:ms]        1015142 non-null  object \n",
      " 4   Trial                         1015142 non-null  object \n",
      " 5   Stimulus                      1015142 non-null  object \n",
      " 6   Export Start Trial Time [ms]  1015142 non-null  float64\n",
      " 7   Export End Trial Time [ms]    1015142 non-null  float64\n",
      " 8   Color                         1015142 non-null  object \n",
      " 9   Tracking Ratio [%]            1015142 non-null  float64\n",
      " 10  Category Group                1015142 non-null  object \n",
      " 11  Category Right                1015142 non-null  object \n",
      " 12  Index Right                   1015142 non-null  object \n",
      " 13  Index Left                    1015142 non-null  float64\n",
      " 14  Pupil Diameter Right [mm]     1015142 non-null  float64\n",
      " 15  Pupil Diameter Left [mm]      1015142 non-null  float64\n",
      " 16  Point of Regard Right X [px]  1015142 non-null  object \n",
      " 17  Point of Regard Right Y [px]  1015142 non-null  object \n",
      " 18  Point of Regard Left X [px]   1015142 non-null  float64\n",
      " 19  Point of Regard Left Y [px]   1015142 non-null  float64\n",
      " 20  Gaze Vector Right X           1015142 non-null  object \n",
      " 21  Gaze Vector Right Y           1015142 non-null  object \n",
      " 22  Gaze Vector Right Z           1015142 non-null  object \n",
      " 23  Gaze Vector Left X            1015142 non-null  float64\n",
      " 24  Gaze Vector Left Y            1015142 non-null  float64\n",
      " 25  Gaze Vector Left Z            1015142 non-null  float64\n",
      " 26  Annotation Name               1015142 non-null  object \n",
      " 27  Annotation Description        1015142 non-null  object \n",
      " 28  Annotation Tags               1015142 non-null  object \n",
      " 29  Mouse Position X [px]         1015142 non-null  object \n",
      " 30  Mouse Position Y [px]         1015142 non-null  object \n",
      " 31  Scroll Direction X            1015142 non-null  object \n",
      " 32  Scroll Direction Y            1015142 non-null  object \n",
      " 33  Content                       1015142 non-null  object \n",
      " 34  Pupil Size Right X [px]       1015142 non-null  float64\n",
      " 35  Pupil Size Right Y [px]       1015142 non-null  float64\n",
      " 36  Eye Position Right X [mm]     1015142 non-null  float64\n",
      " 37  Eye Position Right Y [mm]     1015142 non-null  float64\n",
      " 38  Eye Position Right Z [mm]     1015142 non-null  float64\n",
      " 39  Eye Position Left X [mm]      1015142 non-null  float64\n",
      " 40  Eye Position Left Y [mm]      1015142 non-null  float64\n",
      " 41  Eye Position Left Z [mm]      1015142 non-null  float64\n",
      " 42  Pupil Position Right X [px]   1015142 non-null  float64\n",
      " 43  Pupil Position Right Y [px]   1015142 non-null  float64\n",
      " 44  Pupil Position Left X [px]    1015142 non-null  float64\n",
      " 45  Pupil Position Left Y [px]    1015142 non-null  float64\n",
      " 46  Class                         1015142 non-null  object \n",
      "dtypes: float64(24), int64(2), object(21)\n",
      "memory usage: 371.8+ MB\n"
     ]
    }
   ],
   "source": [
    "data.info()"
   ]
  },
  {
   "cell_type": "markdown",
   "metadata": {
    "id": "0qC_BCzcPMJe"
   },
   "source": [
    "DATA VISUALISATION"
   ]
  },
  {
   "cell_type": "code",
   "execution_count": 27,
   "metadata": {
    "colab": {
     "base_uri": "https://localhost:8080/",
     "height": 436
    },
    "id": "jdIccuwpPFa9",
    "outputId": "455e341c-ed11-41ce-b554-05790f3beae9"
   },
   "outputs": [
    {
     "data": {
      "image/png": "[encoded data removed]",
      "text/plain": [
       "<Figure size 640x480 with 1 Axes>"
      ]
     },
     "metadata": {},
     "output_type": "display_data"
    }
   ],
   "source": [
    "import matplotlib.pyplot as plt\n",
    "\n",
    "# Replace 0 with 'TD' and 1 with 'ASD' in the 'Class' column\n",
    "data['Class'] = data['Class'].replace({0: 'TD', 1: 'ASD'})\n",
    "\n",
    "# Calculating the counts of each ASD trait category\n",
    "asd_counts = data['Class'].value_counts()\n",
    "\n",
    "# Creating the figure and axis\n",
    "fig, ax = plt.subplots()\n",
    "\n",
    "# Plotting the pie chart\n",
    "ax.pie(asd_counts, labels=asd_counts.index, autopct='%1.1f%%')\n",
    "\n",
    "# Setting the title\n",
    "ax.set_title('Autism Spectrum Disorder Counts of the Dataset', fontsize=20)\n",
    "\n",
    "# Visualising the chart\n",
    "plt.show()"
   ]
  },
  {
   "cell_type": "code",
   "execution_count": 28,
   "metadata": {
    "colab": {
     "base_uri": "https://localhost:8080/",
     "height": 585
    },
    "id": "-rq9l_8YDLaI",
    "outputId": "00e9deb7-d222-4b66-c8ff-4e5ae95c801c"
   },
   "outputs": [
    {
     "data": {
      "application/vnd.google.colaboratory.intrinsic+json": {
       "type": "dataframe",
       "variable_name": "data"
      },
      "text/html": [
       "\n",
       "  <div id=\"df-e35659a9-4ed8-42f9-91cf-e6ce6e21abe2\" class=\"colab-df-container\">\n",
       "    <div>\n",
       "<style scoped>\n",
       "    .dataframe tbody tr th:only-of-type {\n",
       "        vertical-align: middle;\n",
       "    }\n",
       "\n",
       "    .dataframe tbody tr th {\n",
       "        vertical-align: top;\n",
       "    }\n",
       "\n",
       "    .dataframe thead th {\n",
       "        text-align: right;\n",
       "    }\n",
       "</style>\n",
       "<table border=\"1\" class=\"dataframe\">\n",
       "  <thead>\n",
       "    <tr style=\"text-align: right;\">\n",
       "      <th></th>\n",
       "      <th>Unnamed: 0.1</th>\n",
       "      <th>Unnamed: 0</th>\n",
       "      <th>RecordingTime [ms]</th>\n",
       "      <th>Time of Day [h:m:s:ms]</th>\n",
       "      <th>Trial</th>\n",
       "      <th>Stimulus</th>\n",
       "      <th>Export Start Trial Time [ms]</th>\n",
       "      <th>Export End Trial Time [ms]</th>\n",
       "      <th>Color</th>\n",
       "      <th>Tracking Ratio [%]</th>\n",
       "      <th>...</th>\n",
       "      <th>Eye Position Right Y [mm]</th>\n",
       "      <th>Eye Position Right Z [mm]</th>\n",
       "      <th>Eye Position Left X [mm]</th>\n",
       "      <th>Eye Position Left Y [mm]</th>\n",
       "      <th>Eye Position Left Z [mm]</th>\n",
       "      <th>Pupil Position Right X [px]</th>\n",
       "      <th>Pupil Position Right Y [px]</th>\n",
       "      <th>Pupil Position Left X [px]</th>\n",
       "      <th>Pupil Position Left Y [px]</th>\n",
       "      <th>Class</th>\n",
       "    </tr>\n",
       "  </thead>\n",
       "  <tbody>\n",
       "    <tr>\n",
       "      <th>0</th>\n",
       "      <td>0</td>\n",
       "      <td>0</td>\n",
       "      <td>4780015.315</td>\n",
       "      <td>13:22:17:254</td>\n",
       "      <td>Trial020</td>\n",
       "      <td>20 eye tracking (ballon droite).avi</td>\n",
       "      <td>0.0</td>\n",
       "      <td>52058.676</td>\n",
       "      <td>Coral</td>\n",
       "      <td>78.5652</td>\n",
       "      <td>...</td>\n",
       "      <td>-20.881</td>\n",
       "      <td>601.4192</td>\n",
       "      <td>0.0</td>\n",
       "      <td>-19.00795</td>\n",
       "      <td>600.4</td>\n",
       "      <td>652.6963</td>\n",
       "      <td>582.6397</td>\n",
       "      <td>635.5766</td>\n",
       "      <td>574.31455</td>\n",
       "      <td>0</td>\n",
       "    </tr>\n",
       "    <tr>\n",
       "      <th>1</th>\n",
       "      <td>1</td>\n",
       "      <td>1</td>\n",
       "      <td>4780020.865</td>\n",
       "      <td>13:22:17:260</td>\n",
       "      <td>Trial020</td>\n",
       "      <td>20 eye tracking (ballon droite).avi</td>\n",
       "      <td>0.0</td>\n",
       "      <td>52058.676</td>\n",
       "      <td>Coral</td>\n",
       "      <td>78.5652</td>\n",
       "      <td>...</td>\n",
       "      <td>-20.881</td>\n",
       "      <td>601.4192</td>\n",
       "      <td>0.0</td>\n",
       "      <td>-19.00795</td>\n",
       "      <td>600.4</td>\n",
       "      <td>652.6963</td>\n",
       "      <td>582.6397</td>\n",
       "      <td>635.5766</td>\n",
       "      <td>574.31455</td>\n",
       "      <td>0</td>\n",
       "    </tr>\n",
       "    <tr>\n",
       "      <th>2</th>\n",
       "      <td>2</td>\n",
       "      <td>2</td>\n",
       "      <td>4780040.758</td>\n",
       "      <td>13:22:17:279</td>\n",
       "      <td>Trial020</td>\n",
       "      <td>20 eye tracking (ballon droite).avi</td>\n",
       "      <td>0.0</td>\n",
       "      <td>52058.676</td>\n",
       "      <td>Coral</td>\n",
       "      <td>78.5652</td>\n",
       "      <td>...</td>\n",
       "      <td>-20.881</td>\n",
       "      <td>601.4192</td>\n",
       "      <td>0.0</td>\n",
       "      <td>-19.00795</td>\n",
       "      <td>600.4</td>\n",
       "      <td>652.6963</td>\n",
       "      <td>582.6397</td>\n",
       "      <td>635.5766</td>\n",
       "      <td>574.31455</td>\n",
       "      <td>0</td>\n",
       "    </tr>\n",
       "    <tr>\n",
       "      <th>3</th>\n",
       "      <td>3</td>\n",
       "      <td>3</td>\n",
       "      <td>4780080.503</td>\n",
       "      <td>13:22:17:319</td>\n",
       "      <td>Trial020</td>\n",
       "      <td>20 eye tracking (ballon droite).avi</td>\n",
       "      <td>0.0</td>\n",
       "      <td>52058.676</td>\n",
       "      <td>Coral</td>\n",
       "      <td>78.5652</td>\n",
       "      <td>...</td>\n",
       "      <td>-20.881</td>\n",
       "      <td>601.4192</td>\n",
       "      <td>0.0</td>\n",
       "      <td>-19.00795</td>\n",
       "      <td>600.4</td>\n",
       "      <td>652.6963</td>\n",
       "      <td>582.6397</td>\n",
       "      <td>635.5766</td>\n",
       "      <td>574.31455</td>\n",
       "      <td>0</td>\n",
       "    </tr>\n",
       "    <tr>\n",
       "      <th>4</th>\n",
       "      <td>4</td>\n",
       "      <td>4</td>\n",
       "      <td>4780120.360</td>\n",
       "      <td>13:22:17:359</td>\n",
       "      <td>Trial020</td>\n",
       "      <td>20 eye tracking (ballon droite).avi</td>\n",
       "      <td>0.0</td>\n",
       "      <td>52058.676</td>\n",
       "      <td>Coral</td>\n",
       "      <td>78.5652</td>\n",
       "      <td>...</td>\n",
       "      <td>-20.881</td>\n",
       "      <td>601.4192</td>\n",
       "      <td>0.0</td>\n",
       "      <td>-19.00795</td>\n",
       "      <td>600.4</td>\n",
       "      <td>652.6963</td>\n",
       "      <td>582.6397</td>\n",
       "      <td>635.5766</td>\n",
       "      <td>574.31455</td>\n",
       "      <td>0</td>\n",
       "    </tr>\n",
       "  </tbody>\n",
       "</table>\n",
       "<p>5 rows × 47 columns</p>\n",
       "</div>\n",
       "    <div class=\"colab-df-buttons\">\n",
       "\n",
       "  <div class=\"colab-df-container\">\n",
       "    <button class=\"colab-df-convert\" onclick=\"convertToInteractive('df-e35659a9-4ed8-42f9-91cf-e6ce6e21abe2')\"\n",
       "            title=\"Convert this dataframe to an interactive table.\"\n",
       "            style=\"display:none;\">\n",
       "\n",
       "  <svg xmlns=\"http://www.w3.org/2000/svg\" height=\"24px\" viewBox=\"0 -960 960 960\">\n",
       "    <path d=\"M120-120v-720h720v720H120Zm60-500h600v-160H180v160Zm220 220h160v-160H400v160Zm0 220h160v-160H400v160ZM180-400h160v-160H180v160Zm440 0h160v-160H620v160ZM180-180h160v-160H180v160Zm440 0h160v-160H620v160Z\"/>\n",
       "  </svg>\n",
       "    </button>\n",
       "\n",
       "  <style>\n",
       "    .colab-df-container {\n",
       "      display:flex;\n",
       "      gap: 12px;\n",
       "    }\n",
       "\n",
       "    .colab-df-convert {\n",
       "      background-color: #E8F0FE;\n",
       "      border: none;\n",
       "      border-radius: 50%;\n",
       "      cursor: pointer;\n",
       "      display: none;\n",
       "      fill: #1967D2;\n",
       "      height: 32px;\n",
       "      padding: 0 0 0 0;\n",
       "      width: 32px;\n",
       "    }\n",
       "\n",
       "    .colab-df-convert:hover {\n",
       "      background-color: #E2EBFA;\n",
       "      box-shadow: 0px 1px 2px rgba(60, 64, 67, 0.3), 0px 1px 3px 1px rgba(60, 64, 67, 0.15);\n",
       "      fill: #174EA6;\n",
       "    }\n",
       "\n",
       "    .colab-df-buttons div {\n",
       "      margin-bottom: 4px;\n",
       "    }\n",
       "\n",
       "    [theme=dark] .colab-df-convert {\n",
       "      background-color: #3B4455;\n",
       "      fill: #D2E3FC;\n",
       "    }\n",
       "\n",
       "    [theme=dark] .colab-df-convert:hover {\n",
       "      background-color: #434B5C;\n",
       "      box-shadow: 0px 1px 3px 1px rgba(0, 0, 0, 0.15);\n",
       "      filter: drop-shadow(0px 1px 2px rgba(0, 0, 0, 0.3));\n",
       "      fill: #FFFFFF;\n",
       "    }\n",
       "  </style>\n",
       "\n",
       "    <script>\n",
       "      const buttonEl =\n",
       "        document.querySelector('#df-e35659a9-4ed8-42f9-91cf-e6ce6e21abe2 button.colab-df-convert');\n",
       "      buttonEl.style.display =\n",
       "        google.colab.kernel.accessAllowed ? 'block' : 'none';\n",
       "\n",
       "      async function convertToInteractive(key) {\n",
       "        const element = document.querySelector('#df-e35659a9-4ed8-42f9-91cf-e6ce6e21abe2');\n",
       "        const dataTable =\n",
       "          await google.colab.kernel.invokeFunction('convertToInteractive',\n",
       "                                                    [key], {});\n",
       "        if (!dataTable) return;\n",
       "\n",
       "        const docLinkHtml = 'Like what you see? Visit the ' +\n",
       "          '<a target=\"_blank\" href=https://colab.research.google.com/notebooks/data_table.ipynb>data table notebook</a>'\n",
       "          + ' to learn more about interactive tables.';\n",
       "        element.innerHTML = '';\n",
       "        dataTable['output_type'] = 'display_data';\n",
       "        await google.colab.output.renderOutput(dataTable, element);\n",
       "        const docLink = document.createElement('div');\n",
       "        docLink.innerHTML = docLinkHtml;\n",
       "        element.appendChild(docLink);\n",
       "      }\n",
       "    </script>\n",
       "  </div>\n",
       "\n",
       "\n",
       "<div id=\"df-b33322fd-ac22-4541-b046-b0fb08b19bcb\">\n",
       "  <button class=\"colab-df-quickchart\" onclick=\"quickchart('df-b33322fd-ac22-4541-b046-b0fb08b19bcb')\"\n",
       "            title=\"Suggest charts\"\n",
       "            style=\"display:none;\">\n",
       "\n",
       "<svg xmlns=\"http://www.w3.org/2000/svg\" height=\"24px\"viewBox=\"0 0 24 24\"\n",
       "     width=\"24px\">\n",
       "    <g>\n",
       "        <path d=\"M19 3H5c-1.1 0-2 .9-2 2v14c0 1.1.9 2 2 2h14c1.1 0 2-.9 2-2V5c0-1.1-.9-2-2-2zM9 17H7v-7h2v7zm4 0h-2V7h2v10zm4 0h-2v-4h2v4z\"/>\n",
       "    </g>\n",
       "</svg>\n",
       "  </button>\n",
       "\n",
       "<style>\n",
       "  .colab-df-quickchart {\n",
       "      --bg-color: #E8F0FE;\n",
       "      --fill-color: #1967D2;\n",
       "      --hover-bg-color: #E2EBFA;\n",
       "      --hover-fill-color: #174EA6;\n",
       "      --disabled-fill-color: #AAA;\n",
       "      --disabled-bg-color: #DDD;\n",
       "  }\n",
       "\n",
       "  [theme=dark] .colab-df-quickchart {\n",
       "      --bg-color: #3B4455;\n",
       "      --fill-color: #D2E3FC;\n",
       "      --hover-bg-color: #434B5C;\n",
       "      --hover-fill-color: #FFFFFF;\n",
       "      --disabled-bg-color: #3B4455;\n",
       "      --disabled-fill-color: #666;\n",
       "  }\n",
       "\n",
       "  .colab-df-quickchart {\n",
       "    background-color: var(--bg-color);\n",
       "    border: none;\n",
       "    border-radius: 50%;\n",
       "    cursor: pointer;\n",
       "    display: none;\n",
       "    fill: var(--fill-color);\n",
       "    height: 32px;\n",
       "    padding: 0;\n",
       "    width: 32px;\n",
       "  }\n",
       "\n",
       "  .colab-df-quickchart:hover {\n",
       "    background-color: var(--hover-bg-color);\n",
       "    box-shadow: 0 1px 2px rgba(60, 64, 67, 0.3), 0 1px 3px 1px rgba(60, 64, 67, 0.15);\n",
       "    fill: var(--button-hover-fill-color);\n",
       "  }\n",
       "\n",
       "  .colab-df-quickchart-complete:disabled,\n",
       "  .colab-df-quickchart-complete:disabled:hover {\n",
       "    background-color: var(--disabled-bg-color);\n",
       "    fill: var(--disabled-fill-color);\n",
       "    box-shadow: none;\n",
       "  }\n",
       "\n",
       "  .colab-df-spinner {\n",
       "    border: 2px solid var(--fill-color);\n",
       "    border-color: transparent;\n",
       "    border-bottom-color: var(--fill-color);\n",
       "    animation:\n",
       "      spin 1s steps(1) infinite;\n",
       "  }\n",
       "\n",
       "  @keyframes spin {\n",
       "    0% {\n",
       "      border-color: transparent;\n",
       "      border-bottom-color: var(--fill-color);\n",
       "      border-left-color: var(--fill-color);\n",
       "    }\n",
       "    20% {\n",
       "      border-color: transparent;\n",
       "      border-left-color: var(--fill-color);\n",
       "      border-top-color: var(--fill-color);\n",
       "    }\n",
       "    30% {\n",
       "      border-color: transparent;\n",
       "      border-left-color: var(--fill-color);\n",
       "      border-top-color: var(--fill-color);\n",
       "      border-right-color: var(--fill-color);\n",
       "    }\n",
       "    40% {\n",
       "      border-color: transparent;\n",
       "      border-right-color: var(--fill-color);\n",
       "      border-top-color: var(--fill-color);\n",
       "    }\n",
       "    60% {\n",
       "      border-color: transparent;\n",
       "      border-right-color: var(--fill-color);\n",
       "    }\n",
       "    80% {\n",
       "      border-color: transparent;\n",
       "      border-right-color: var(--fill-color);\n",
       "      border-bottom-color: var(--fill-color);\n",
       "    }\n",
       "    90% {\n",
       "      border-color: transparent;\n",
       "      border-bottom-color: var(--fill-color);\n",
       "    }\n",
       "  }\n",
       "</style>\n",
       "\n",
       "  <script>\n",
       "    async function quickchart(key) {\n",
       "      const quickchartButtonEl =\n",
       "        document.querySelector('#' + key + ' button');\n",
       "      quickchartButtonEl.disabled = true;  // To prevent multiple clicks.\n",
       "      quickchartButtonEl.classList.add('colab-df-spinner');\n",
       "      try {\n",
       "        const charts = await google.colab.kernel.invokeFunction(\n",
       "            'suggestCharts', [key], {});\n",
       "      } catch (error) {\n",
       "        console.error('Error during call to suggestCharts:', error);\n",
       "      }\n",
       "      quickchartButtonEl.classList.remove('colab-df-spinner');\n",
       "      quickchartButtonEl.classList.add('colab-df-quickchart-complete');\n",
       "    }\n",
       "    (() => {\n",
       "      let quickchartButtonEl =\n",
       "        document.querySelector('#df-b33322fd-ac22-4541-b046-b0fb08b19bcb button');\n",
       "      quickchartButtonEl.style.display =\n",
       "        google.colab.kernel.accessAllowed ? 'block' : 'none';\n",
       "    })();\n",
       "  </script>\n",
       "</div>\n",
       "\n",
       "    </div>\n",
       "  </div>\n"
      ],
      "text/plain": [
       "   Unnamed: 0.1  Unnamed: 0  RecordingTime [ms] Time of Day [h:m:s:ms]  \\\n",
       "0             0           0         4780015.315           13:22:17:254   \n",
       "1             1           1         4780020.865           13:22:17:260   \n",
       "2             2           2         4780040.758           13:22:17:279   \n",
       "3             3           3         4780080.503           13:22:17:319   \n",
       "4             4           4         4780120.360           13:22:17:359   \n",
       "\n",
       "      Trial                             Stimulus  \\\n",
       "0  Trial020  20 eye tracking (ballon droite).avi   \n",
       "1  Trial020  20 eye tracking (ballon droite).avi   \n",
       "2  Trial020  20 eye tracking (ballon droite).avi   \n",
       "3  Trial020  20 eye tracking (ballon droite).avi   \n",
       "4  Trial020  20 eye tracking (ballon droite).avi   \n",
       "\n",
       "   Export Start Trial Time [ms]  Export End Trial Time [ms]  Color  \\\n",
       "0                           0.0                   52058.676  Coral   \n",
       "1                           0.0                   52058.676  Coral   \n",
       "2                           0.0                   52058.676  Coral   \n",
       "3                           0.0                   52058.676  Coral   \n",
       "4                           0.0                   52058.676  Coral   \n",
       "\n",
       "   Tracking Ratio [%]  ... Eye Position Right Y [mm]  \\\n",
       "0             78.5652  ...                   -20.881   \n",
       "1             78.5652  ...                   -20.881   \n",
       "2             78.5652  ...                   -20.881   \n",
       "3             78.5652  ...                   -20.881   \n",
       "4             78.5652  ...                   -20.881   \n",
       "\n",
       "  Eye Position Right Z [mm] Eye Position Left X [mm]  \\\n",
       "0                  601.4192                      0.0   \n",
       "1                  601.4192                      0.0   \n",
       "2                  601.4192                      0.0   \n",
       "3                  601.4192                      0.0   \n",
       "4                  601.4192                      0.0   \n",
       "\n",
       "   Eye Position Left Y [mm]  Eye Position Left Z [mm]  \\\n",
       "0                 -19.00795                     600.4   \n",
       "1                 -19.00795                     600.4   \n",
       "2                 -19.00795                     600.4   \n",
       "3                 -19.00795                     600.4   \n",
       "4                 -19.00795                     600.4   \n",
       "\n",
       "   Pupil Position Right X [px] Pupil Position Right Y [px]  \\\n",
       "0                     652.6963                    582.6397   \n",
       "1                     652.6963                    582.6397   \n",
       "2                     652.6963                    582.6397   \n",
       "3                     652.6963                    582.6397   \n",
       "4                     652.6963                    582.6397   \n",
       "\n",
       "  Pupil Position Left X [px]  Pupil Position Left Y [px]  Class  \n",
       "0                   635.5766                   574.31455      0  \n",
       "1                   635.5766                   574.31455      0  \n",
       "2                   635.5766                   574.31455      0  \n",
       "3                   635.5766                   574.31455      0  \n",
       "4                   635.5766                   574.31455      0  \n",
       "\n",
       "[5 rows x 47 columns]"
      ]
     },
     "execution_count": 28,
     "metadata": {},
     "output_type": "execute_result"
    }
   ],
   "source": [
    "data['Class'].replace('TD', 0, inplace=True)\n",
    "data['Class'].replace('ASD', 1, inplace=True)\n",
    "\n",
    "data.head()"
   ]
  },
  {
   "cell_type": "code",
   "execution_count": 29,
   "metadata": {
    "colab": {
     "base_uri": "https://localhost:8080/"
    },
    "id": "IY-SaC22f_v0",
    "outputId": "ba70e44a-8dda-4d22-861c-972ed677d0bf"
   },
   "outputs": [
    {
     "name": "stdout",
     "output_type": "stream",
     "text": [
      "<class 'pandas.core.frame.DataFrame'>\n",
      "Int64Index: 1015142 entries, 0 to 1015141\n",
      "Data columns (total 47 columns):\n",
      " #   Column                        Non-Null Count    Dtype  \n",
      "---  ------                        --------------    -----  \n",
      " 0   Unnamed: 0.1                  1015142 non-null  int64  \n",
      " 1   Unnamed: 0                    1015142 non-null  int64  \n",
      " 2   RecordingTime [ms]            1015142 non-null  float64\n",
      " 3   Time of Day [h:m:s:ms]        1015142 non-null  int64  \n",
      " 4   Trial                         1015142 non-null  int64  \n",
      " 5   Stimulus                      1015142 non-null  int64  \n",
      " 6   Export Start Trial Time [ms]  1015142 non-null  float64\n",
      " 7   Export End Trial Time [ms]    1015142 non-null  float64\n",
      " 8   Color                         1015142 non-null  int64  \n",
      " 9   Tracking Ratio [%]            1015142 non-null  float64\n",
      " 10  Category Group                1015142 non-null  int64  \n",
      " 11  Category Right                1015142 non-null  int64  \n",
      " 12  Index Right                   1015142 non-null  int64  \n",
      " 13  Index Left                    1015142 non-null  float64\n",
      " 14  Pupil Diameter Right [mm]     1015142 non-null  float64\n",
      " 15  Pupil Diameter Left [mm]      1015142 non-null  float64\n",
      " 16  Point of Regard Right X [px]  1015142 non-null  int64  \n",
      " 17  Point of Regard Right Y [px]  1015142 non-null  int64  \n",
      " 18  Point of Regard Left X [px]   1015142 non-null  float64\n",
      " 19  Point of Regard Left Y [px]   1015142 non-null  float64\n",
      " 20  Gaze Vector Right X           1015142 non-null  int64  \n",
      " 21  Gaze Vector Right Y           1015142 non-null  int64  \n",
      " 22  Gaze Vector Right Z           1015142 non-null  int64  \n",
      " 23  Gaze Vector Left X            1015142 non-null  float64\n",
      " 24  Gaze Vector Left Y            1015142 non-null  float64\n",
      " 25  Gaze Vector Left Z            1015142 non-null  float64\n",
      " 26  Annotation Name               1015142 non-null  int64  \n",
      " 27  Annotation Description        1015142 non-null  int64  \n",
      " 28  Annotation Tags               1015142 non-null  int64  \n",
      " 29  Mouse Position X [px]         1015142 non-null  int64  \n",
      " 30  Mouse Position Y [px]         1015142 non-null  int64  \n",
      " 31  Scroll Direction X            1015142 non-null  int64  \n",
      " 32  Scroll Direction Y            1015142 non-null  int64  \n",
      " 33  Content                       1015142 non-null  int64  \n",
      " 34  Pupil Size Right X [px]       1015142 non-null  float64\n",
      " 35  Pupil Size Right Y [px]       1015142 non-null  float64\n",
      " 36  Eye Position Right X [mm]     1015142 non-null  float64\n",
      " 37  Eye Position Right Y [mm]     1015142 non-null  float64\n",
      " 38  Eye Position Right Z [mm]     1015142 non-null  float64\n",
      " 39  Eye Position Left X [mm]      1015142 non-null  float64\n",
      " 40  Eye Position Left Y [mm]      1015142 non-null  float64\n",
      " 41  Eye Position Left Z [mm]      1015142 non-null  float64\n",
      " 42  Pupil Position Right X [px]   1015142 non-null  float64\n",
      " 43  Pupil Position Right Y [px]   1015142 non-null  float64\n",
      " 44  Pupil Position Left X [px]    1015142 non-null  float64\n",
      " 45  Pupil Position Left Y [px]    1015142 non-null  float64\n",
      " 46  Class                         1015142 non-null  int64  \n",
      "dtypes: float64(24), int64(23)\n",
      "memory usage: 371.8 MB\n",
      "None\n"
     ]
    }
   ],
   "source": [
    "from sklearn.preprocessing import LabelEncoder, StandardScaler\n",
    "from sklearn.decomposition import PCA\n",
    "\n",
    "# Identifying object dtype columns\n",
    "object_columns = data.select_dtypes(include='object').columns\n",
    "\n",
    "# Initializing the LabelEncoder\n",
    "label_encoder = LabelEncoder()\n",
    "\n",
    "# Encoding the object dtype columns\n",
    "for column in object_columns:\n",
    "    data[column] = label_encoder.fit_transform(data[column])\n",
    "\n",
    "print(data.info())"
   ]
  },
  {
   "cell_type": "code",
   "execution_count": 30,
   "metadata": {
    "colab": {
     "base_uri": "https://localhost:8080/"
    },
    "id": "nw_hHAjohNfr",
    "outputId": "9464e4fe-eb75-45ae-cd1e-33d212a9886d"
   },
   "outputs": [
    {
     "name": "stdout",
     "output_type": "stream",
     "text": [
      "Class                           1.000000\n",
      "Time of Day [h:m:s:ms]          0.505238\n",
      "Tracking Ratio [%]              0.436856\n",
      "Color                           0.272012\n",
      "Gaze Vector Right Y             0.266509\n",
      "Gaze Vector Left Y              0.247341\n",
      "Gaze Vector Right Z             0.242883\n",
      "Gaze Vector Left Z              0.233437\n",
      "Point of Regard Left X [px]     0.202234\n",
      "Point of Regard Right X [px]    0.189954\n",
      "Point of Regard Left Y [px]     0.165137\n",
      "Category Right                  0.149813\n",
      "Point of Regard Right Y [px]    0.149664\n",
      "Pupil Position Left X [px]      0.148236\n",
      "Eye Position Right X [mm]       0.132220\n",
      "Index Left                      0.120892\n",
      "Pupil Size Right Y [px]         0.114110\n",
      "Pupil Size Right X [px]         0.113654\n",
      "RecordingTime [ms]              0.112191\n",
      "Index Right                     0.110004\n",
      "Eye Position Left Z [mm]        0.109043\n",
      "Eye Position Left Y [mm]        0.108510\n",
      "Eye Position Right Y [mm]       0.108089\n",
      "Pupil Diameter Left [mm]        0.106494\n",
      "Pupil Diameter Right [mm]       0.104842\n",
      "Eye Position Right Z [mm]       0.102877\n",
      "Unnamed: 0                      0.101736\n",
      "Stimulus                        0.081899\n",
      "Pupil Position Left Y [px]      0.069765\n",
      "Pupil Position Right Y [px]     0.064984\n",
      "Unnamed: 0.1                    0.058174\n",
      "Pupil Position Right X [px]     0.054730\n",
      "Trial                           0.039300\n",
      "Eye Position Left X [mm]        0.028668\n",
      "Gaze Vector Left X              0.028379\n",
      "Category Group                  0.008479\n",
      "Gaze Vector Right X             0.005760\n",
      "Content                         0.004251\n",
      "Export End Trial Time [ms]      0.001653\n",
      "Mouse Position Y [px]           0.000692\n",
      "Mouse Position X [px]           0.000692\n",
      "Export Start Trial Time [ms]         NaN\n",
      "Annotation Name                      NaN\n",
      "Annotation Description               NaN\n",
      "Annotation Tags                      NaN\n",
      "Scroll Direction X                   NaN\n",
      "Scroll Direction Y                   NaN\n",
      "Name: Class, dtype: float64\n"
     ]
    }
   ],
   "source": [
    "# Correlation of each feature with the target\n",
    "\n",
    "target_correlation = data.corr()['Class'].abs().sort_values(ascending=False)\n",
    "print(target_correlation)"
   ]
  },
  {
   "cell_type": "code",
   "execution_count": 31,
   "metadata": {
    "id": "DEJabtJ7iBiE"
   },
   "outputs": [],
   "source": [
    "# Removing the NaN correlation values since it doesn't have a valid correlation with the target variable.\n",
    "\n",
    "features_with_nan_correlation = target_correlation[target_correlation.isna()].index\n",
    "\n",
    "# Now we remove the columns from the data that give NaN correlation values and update the data\n",
    "\n",
    "data_update = data.drop(columns=features_with_nan_correlation)"
   ]
  },
  {
   "cell_type": "code",
   "execution_count": 32,
   "metadata": {
    "colab": {
     "base_uri": "https://localhost:8080/"
    },
    "id": "II9OhoF4kMNj",
    "outputId": "09aecb29-60d3-4425-fa63-c7afe4859e89"
   },
   "outputs": [
    {
     "name": "stdout",
     "output_type": "stream",
     "text": [
      "<class 'pandas.core.frame.DataFrame'>\n",
      "Int64Index: 1015142 entries, 0 to 1015141\n",
      "Data columns (total 41 columns):\n",
      " #   Column                        Non-Null Count    Dtype  \n",
      "---  ------                        --------------    -----  \n",
      " 0   Unnamed: 0.1                  1015142 non-null  int64  \n",
      " 1   Unnamed: 0                    1015142 non-null  int64  \n",
      " 2   RecordingTime [ms]            1015142 non-null  float64\n",
      " 3   Time of Day [h:m:s:ms]        1015142 non-null  int64  \n",
      " 4   Trial                         1015142 non-null  int64  \n",
      " 5   Stimulus                      1015142 non-null  int64  \n",
      " 6   Export End Trial Time [ms]    1015142 non-null  float64\n",
      " 7   Color                         1015142 non-null  int64  \n",
      " 8   Tracking Ratio [%]            1015142 non-null  float64\n",
      " 9   Category Group                1015142 non-null  int64  \n",
      " 10  Category Right                1015142 non-null  int64  \n",
      " 11  Index Right                   1015142 non-null  int64  \n",
      " 12  Index Left                    1015142 non-null  float64\n",
      " 13  Pupil Diameter Right [mm]     1015142 non-null  float64\n",
      " 14  Pupil Diameter Left [mm]      1015142 non-null  float64\n",
      " 15  Point of Regard Right X [px]  1015142 non-null  int64  \n",
      " 16  Point of Regard Right Y [px]  1015142 non-null  int64  \n",
      " 17  Point of Regard Left X [px]   1015142 non-null  float64\n",
      " 18  Point of Regard Left Y [px]   1015142 non-null  float64\n",
      " 19  Gaze Vector Right X           1015142 non-null  int64  \n",
      " 20  Gaze Vector Right Y           1015142 non-null  int64  \n",
      " 21  Gaze Vector Right Z           1015142 non-null  int64  \n",
      " 22  Gaze Vector Left X            1015142 non-null  float64\n",
      " 23  Gaze Vector Left Y            1015142 non-null  float64\n",
      " 24  Gaze Vector Left Z            1015142 non-null  float64\n",
      " 25  Mouse Position X [px]         1015142 non-null  int64  \n",
      " 26  Mouse Position Y [px]         1015142 non-null  int64  \n",
      " 27  Content                       1015142 non-null  int64  \n",
      " 28  Pupil Size Right X [px]       1015142 non-null  float64\n",
      " 29  Pupil Size Right Y [px]       1015142 non-null  float64\n",
      " 30  Eye Position Right X [mm]     1015142 non-null  float64\n",
      " 31  Eye Position Right Y [mm]     1015142 non-null  float64\n",
      " 32  Eye Position Right Z [mm]     1015142 non-null  float64\n",
      " 33  Eye Position Left X [mm]      1015142 non-null  float64\n",
      " 34  Eye Position Left Y [mm]      1015142 non-null  float64\n",
      " 35  Eye Position Left Z [mm]      1015142 non-null  float64\n",
      " 36  Pupil Position Right X [px]   1015142 non-null  float64\n",
      " 37  Pupil Position Right Y [px]   1015142 non-null  float64\n",
      " 38  Pupil Position Left X [px]    1015142 non-null  float64\n",
      " 39  Pupil Position Left Y [px]    1015142 non-null  float64\n",
      " 40  Class                         1015142 non-null  int64  \n",
      "dtypes: float64(23), int64(18)\n",
      "memory usage: 325.3 MB\n",
      "None\n"
     ]
    }
   ],
   "source": [
    "print(data_update.info())"
   ]
  },
  {
   "cell_type": "code",
   "execution_count": 33,
   "metadata": {
    "colab": {
     "base_uri": "https://localhost:8080/"
    },
    "id": "4-c-k5bmzMTH",
    "outputId": "848e6f43-a6dd-408a-ac9a-b0e5bc79a8ca"
   },
   "outputs": [
    {
     "name": "stdout",
     "output_type": "stream",
     "text": [
      "Relevancy (Mutual Information):\n",
      "                              Relevancy (Mutual Information)\n",
      "Unnamed: 0.1                                        0.631825\n",
      "Unnamed: 0                                          0.102253\n",
      "RecordingTime [ms]                                  0.177644\n",
      "Time of Day [h:m:s:ms]                              0.495306\n",
      "Trial                                               0.006357\n",
      "Stimulus                                            0.067504\n",
      "Export End Trial Time [ms]                          0.627326\n",
      "Color                                               0.252547\n",
      "Tracking Ratio [%]                                  0.568379\n",
      "Category Group                                      0.000000\n",
      "Category Right                                      0.032704\n",
      "Index Right                                         0.019430\n",
      "Index Left                                          0.013688\n",
      "Pupil Diameter Right [mm]                           0.100123\n",
      "Pupil Diameter Left [mm]                            0.085351\n",
      "Point of Regard Right X [px]                        0.081218\n",
      "Point of Regard Right Y [px]                        0.089140\n",
      "Point of Regard Left X [px]                         0.058261\n",
      "Point of Regard Left Y [px]                         0.065353\n",
      "Gaze Vector Right X                                 0.045633\n",
      "Gaze Vector Right Y                                 0.064774\n",
      "Gaze Vector Right Z                                 0.057758\n",
      "Gaze Vector Left X                                  0.036247\n",
      "Gaze Vector Left Y                                  0.048392\n",
      "Gaze Vector Left Z                                  0.042799\n",
      "Mouse Position X [px]                               0.000000\n",
      "Mouse Position Y [px]                               0.000921\n",
      "Content                                             0.000000\n",
      "Pupil Size Right X [px]                             0.066899\n",
      "Pupil Size Right Y [px]                             0.068046\n",
      "Eye Position Right X [mm]                           0.091318\n",
      "Eye Position Right Y [mm]                           0.136732\n",
      "Eye Position Right Z [mm]                           0.089882\n",
      "Eye Position Left X [mm]                            0.068941\n",
      "Eye Position Left Y [mm]                            0.105644\n",
      "Eye Position Left Z [mm]                            0.072166\n",
      "Pupil Position Right X [px]                         0.092094\n",
      "Pupil Position Right Y [px]                         0.119109\n",
      "Pupil Position Left X [px]                          0.060163\n",
      "Pupil Position Left Y [px]                          0.090627\n"
     ]
    }
   ],
   "source": [
    "from sklearn.feature_selection import mutual_info_regression\n",
    "from sklearn.ensemble import RandomForestRegressor\n",
    "\n",
    "# Extracting features and target\n",
    "M = data_update.drop(columns=['Class'])  # Dropping the target column\n",
    "n = data_update['Class']  # Target column\n",
    "\n",
    "# Calculating correlation matrix\n",
    "correlation_matrix = M.corr().abs()\n",
    "\n",
    "# Calculating mutual information between features and target\n",
    "mutual_info = mutual_info_regression(M, n)\n",
    "\n",
    "# Training a RandomForestRegressor to estimate feature importance\n",
    "rf = RandomForestRegressor()\n",
    "rf.fit(M, n)\n",
    "feature_importance = rf.feature_importances_\n",
    "\n",
    "# Calculating relevancy\n",
    "relevancy = pd.DataFrame(mutual_info, index=M.columns, columns=['Relevancy (Mutual Information)'])\n",
    "\n",
    "# Displaying the outputs\n",
    "print(\"Relevancy (Mutual Information):\")\n",
    "print(relevancy)"
   ]
  },
  {
   "cell_type": "code",
   "execution_count": 34,
   "metadata": {
    "colab": {
     "base_uri": "https://localhost:8080/"
    },
    "id": "teJz3xkO6xLY",
    "outputId": "96e54132-5b76-4392-f05a-74cfc2a788d0"
   },
   "outputs": [
    {
     "name": "stdout",
     "output_type": "stream",
     "text": [
      "Features with relevancy score of zero:\n",
      "['Category Group', 'Mouse Position X [px]', 'Content']\n"
     ]
    }
   ],
   "source": [
    "# Filtering features with relevancy score of 0\n",
    "features_with_zero_relevancy = relevancy[relevancy['Relevancy (Mutual Information)'] == 0]\n",
    "\n",
    "# Extracting and displaying the names of features with zero relevancy score\n",
    "zero_relevancy_feature_names = features_with_zero_relevancy.index.tolist()\n",
    "\n",
    "# Displaying the names of features with zero relevancy score\n",
    "print(\"Features with relevancy score of zero:\")\n",
    "print(zero_relevancy_feature_names)"
   ]
  },
  {
   "cell_type": "code",
   "execution_count": 35,
   "metadata": {
    "colab": {
     "base_uri": "https://localhost:8080/"
    },
    "id": "N84a10HtH1WV",
    "outputId": "7b2b0707-6e74-4a37-bdbf-8264af69a7fc"
   },
   "outputs": [
    {
     "name": "stdout",
     "output_type": "stream",
     "text": [
      "<class 'pandas.core.frame.DataFrame'>\n",
      "Int64Index: 1015142 entries, 0 to 1015141\n",
      "Data columns (total 38 columns):\n",
      " #   Column                        Non-Null Count    Dtype  \n",
      "---  ------                        --------------    -----  \n",
      " 0   Unnamed: 0.1                  1015142 non-null  int64  \n",
      " 1   Unnamed: 0                    1015142 non-null  int64  \n",
      " 2   RecordingTime [ms]            1015142 non-null  float64\n",
      " 3   Time of Day [h:m:s:ms]        1015142 non-null  int64  \n",
      " 4   Trial                         1015142 non-null  int64  \n",
      " 5   Stimulus                      1015142 non-null  int64  \n",
      " 6   Export End Trial Time [ms]    1015142 non-null  float64\n",
      " 7   Color                         1015142 non-null  int64  \n",
      " 8   Tracking Ratio [%]            1015142 non-null  float64\n",
      " 9   Category Right                1015142 non-null  int64  \n",
      " 10  Index Right                   1015142 non-null  int64  \n",
      " 11  Index Left                    1015142 non-null  float64\n",
      " 12  Pupil Diameter Right [mm]     1015142 non-null  float64\n",
      " 13  Pupil Diameter Left [mm]      1015142 non-null  float64\n",
      " 14  Point of Regard Right X [px]  1015142 non-null  int64  \n",
      " 15  Point of Regard Right Y [px]  1015142 non-null  int64  \n",
      " 16  Point of Regard Left X [px]   1015142 non-null  float64\n",
      " 17  Point of Regard Left Y [px]   1015142 non-null  float64\n",
      " 18  Gaze Vector Right X           1015142 non-null  int64  \n",
      " 19  Gaze Vector Right Y           1015142 non-null  int64  \n",
      " 20  Gaze Vector Right Z           1015142 non-null  int64  \n",
      " 21  Gaze Vector Left X            1015142 non-null  float64\n",
      " 22  Gaze Vector Left Y            1015142 non-null  float64\n",
      " 23  Gaze Vector Left Z            1015142 non-null  float64\n",
      " 24  Mouse Position Y [px]         1015142 non-null  int64  \n",
      " 25  Pupil Size Right X [px]       1015142 non-null  float64\n",
      " 26  Pupil Size Right Y [px]       1015142 non-null  float64\n",
      " 27  Eye Position Right X [mm]     1015142 non-null  float64\n",
      " 28  Eye Position Right Y [mm]     1015142 non-null  float64\n",
      " 29  Eye Position Right Z [mm]     1015142 non-null  float64\n",
      " 30  Eye Position Left X [mm]      1015142 non-null  float64\n",
      " 31  Eye Position Left Y [mm]      1015142 non-null  float64\n",
      " 32  Eye Position Left Z [mm]      1015142 non-null  float64\n",
      " 33  Pupil Position Right X [px]   1015142 non-null  float64\n",
      " 34  Pupil Position Right Y [px]   1015142 non-null  float64\n",
      " 35  Pupil Position Left X [px]    1015142 non-null  float64\n",
      " 36  Pupil Position Left Y [px]    1015142 non-null  float64\n",
      " 37  Class                         1015142 non-null  int64  \n",
      "dtypes: float64(23), int64(15)\n",
      "memory usage: 302.1 MB\n"
     ]
    }
   ],
   "source": [
    "# Dropping the features with relevancy score of zero\n",
    "\n",
    "data_update = data_update.drop(columns = zero_relevancy_feature_names)\n",
    "data_update.info()"
   ]
  },
  {
   "cell_type": "code",
   "execution_count": 36,
   "metadata": {
    "colab": {
     "base_uri": "https://localhost:8080/"
    },
    "id": "CAr4E0FPJpXx",
    "outputId": "a7c70872-bfa6-4250-d816-248e373cddbf"
   },
   "outputs": [
    {
     "data": {
      "text/plain": [
       "(1015142, 38)"
      ]
     },
     "execution_count": 36,
     "metadata": {},
     "output_type": "execute_result"
    }
   ],
   "source": [
    "data_update.shape"
   ]
  },
  {
   "cell_type": "code",
   "execution_count": 37,
   "metadata": {
    "colab": {
     "base_uri": "https://localhost:8080/"
    },
    "id": "J7Vuo7LHpFur",
    "outputId": "a067f2e2-f0f4-4a36-9823-d9c17255750e"
   },
   "outputs": [
    {
     "name": "stdout",
     "output_type": "stream",
     "text": [
      "The independent variables:\n",
      "          Unnamed: 0.1  Unnamed: 0  RecordingTime [ms]  Time of Day [h:m:s:ms]  \\\n",
      "0                   0           0         4780015.315                  411425   \n",
      "1                   1           1         4780020.865                  411426   \n",
      "2                   2           2         4780040.758                  411427   \n",
      "3                   3           3         4780080.503                  411428   \n",
      "4                   4           4         4780120.360                  411429   \n",
      "...               ...         ...                 ...                     ...   \n",
      "1015137       2101560        6344          280132.672                  350775   \n",
      "1015138       2101561        6345          280172.432                  350778   \n",
      "1015139       2101562        6346          280212.313                  350781   \n",
      "1015140       2101563        6347          280232.192                  350783   \n",
      "1015141       2101564        6348          280252.050                  350785   \n",
      "\n",
      "         Trial  Stimulus  Export End Trial Time [ms]  Color  \\\n",
      "0           19        75                   52058.676      0   \n",
      "1           19        75                   52058.676      0   \n",
      "2           19        75                   52058.676      0   \n",
      "3           19        75                   52058.676      0   \n",
      "4           19        75                   52058.676      0   \n",
      "...        ...       ...                         ...    ...   \n",
      "1015137     18       123                   48885.776      2   \n",
      "1015138     18       123                   48885.776      2   \n",
      "1015139     18       123                   48885.776      2   \n",
      "1015140     18       123                   48885.776      2   \n",
      "1015141     18       123                   48885.776      2   \n",
      "\n",
      "         Tracking Ratio [%]  Category Right  ...  Eye Position Right X [mm]  \\\n",
      "0                   78.5652               5  ...                     0.0000   \n",
      "1                   78.5652               2  ...                     0.0000   \n",
      "2                   78.5652               2  ...                     0.0000   \n",
      "3                   78.5652               2  ...                     0.0000   \n",
      "4                   78.5652               2  ...                     0.0000   \n",
      "...                     ...             ...  ...                        ...   \n",
      "1015137             75.4003               2  ...                   -52.7093   \n",
      "1015138             75.4003               2  ...                   -52.5070   \n",
      "1015139             75.4003               2  ...                   -52.2673   \n",
      "1015140             75.4003               2  ...                   -52.1803   \n",
      "1015141             75.4003               2  ...                   -52.0939   \n",
      "\n",
      "         Eye Position Right Y [mm]  Eye Position Right Z [mm]  \\\n",
      "0                         -20.8810                   601.4192   \n",
      "1                         -20.8810                   601.4192   \n",
      "2                         -20.8810                   601.4192   \n",
      "3                         -20.8810                   601.4192   \n",
      "4                         -20.8810                   601.4192   \n",
      "...                            ...                        ...   \n",
      "1015137                    34.7910                   705.1171   \n",
      "1015138                    34.8421                   705.7506   \n",
      "1015139                    34.7701                   705.2807   \n",
      "1015140                    34.7581                   705.4460   \n",
      "1015141                    34.7165                   705.1604   \n",
      "\n",
      "         Eye Position Left X [mm]  Eye Position Left Y [mm]  \\\n",
      "0                          0.0000                 -19.00795   \n",
      "1                          0.0000                 -19.00795   \n",
      "2                          0.0000                 -19.00795   \n",
      "3                          0.0000                 -19.00795   \n",
      "4                          0.0000                 -19.00795   \n",
      "...                           ...                       ...   \n",
      "1015137                    5.2299                  30.88640   \n",
      "1015138                    5.4281                  30.84760   \n",
      "1015139                    5.6475                  30.80300   \n",
      "1015140                    5.7351                  30.76950   \n",
      "1015141                    5.8126                  30.73710   \n",
      "\n",
      "         Eye Position Left Z [mm]  Pupil Position Right X [px]  \\\n",
      "0                        600.4000                     652.6963   \n",
      "1                        600.4000                     652.6963   \n",
      "2                        600.4000                     652.6963   \n",
      "3                        600.4000                     652.6963   \n",
      "4                        600.4000                     652.6963   \n",
      "...                           ...                          ...   \n",
      "1015137                  698.3092                     906.3715   \n",
      "1015138                  698.3306                     905.5591   \n",
      "1015139                  698.1243                     905.0385   \n",
      "1015140                  698.1867                     904.3203   \n",
      "1015141                  699.4476                     904.0263   \n",
      "\n",
      "         Pupil Position Right Y [px]  Pupil Position Left X [px]  \\\n",
      "0                           582.6397                    635.5766   \n",
      "1                           582.6397                    635.5766   \n",
      "2                           582.6397                    635.5766   \n",
      "3                           582.6397                    635.5766   \n",
      "4                           582.6397                    635.5766   \n",
      "...                              ...                         ...   \n",
      "1015137                     378.4246                    694.9086   \n",
      "1015138                     378.3261                    693.9523   \n",
      "1015139                     378.4652                    693.3474   \n",
      "1015140                     378.5774                    692.9183   \n",
      "1015141                     378.5529                    692.6265   \n",
      "\n",
      "         Pupil Position Left Y [px]  \n",
      "0                         574.31455  \n",
      "1                         574.31455  \n",
      "2                         574.31455  \n",
      "3                         574.31455  \n",
      "4                         574.31455  \n",
      "...                             ...  \n",
      "1015137                   390.98860  \n",
      "1015138                   391.28090  \n",
      "1015139                   391.46200  \n",
      "1015140                   391.66320  \n",
      "1015141                   391.76200  \n",
      "\n",
      "[1015142 rows x 37 columns]\n",
      "\n",
      "The dependent variable:\n",
      " 0          0\n",
      "1          0\n",
      "2          0\n",
      "3          0\n",
      "4          0\n",
      "          ..\n",
      "1015137    0\n",
      "1015138    0\n",
      "1015139    0\n",
      "1015140    0\n",
      "1015141    0\n",
      "Name: Class, Length: 1015142, dtype: int64\n"
     ]
    }
   ],
   "source": [
    "X = data_update.drop(columns=[\"Class\"])\n",
    "y = data_update[\"Class\"]\n",
    "\n",
    "print(\"The independent variables:\\n\", X)\n",
    "print(\"\\nThe dependent variable:\\n\", y)"
   ]
  },
  {
   "cell_type": "code",
   "execution_count": 38,
   "metadata": {
    "id": "7hy9kZ3lgEr-"
   },
   "outputs": [],
   "source": [
    "# Initializing StandardScaler\n",
    "scaler = StandardScaler()\n",
    "\n",
    "# Standardizing the columns\n",
    "X = scaler.fit_transform(X)\n",
    "\n",
    "# Applying PCA to the numerical columns; choosing the number of components as 5\n",
    "n_components = 5\n",
    "pca = PCA(n_components = n_components)\n",
    "\n",
    "# Fitting and transforming the numerical columns with PCA\n",
    "X_pca = pca.fit_transform(X)\n",
    "\n",
    "# Creating new column names for the PCA components\n",
    "pca_columns = [f'PCA_{i+1}' for i in range(n_components)]\n",
    "\n",
    "# Creating a DataFrame with the PCA components\n",
    "df_pca = pd.DataFrame(data = X_pca, columns = pca_columns)\n",
    "\n",
    "# Concatenating the PCA components with the original DataFrame\n",
    "X = df_pca"
   ]
  },
  {
   "cell_type": "code",
   "execution_count": 39,
   "metadata": {
    "colab": {
     "base_uri": "https://localhost:8080/"
    },
    "id": "ijKWRtfT_e5p",
    "outputId": "9db25a82-b1af-46b9-a1c8-2700a32f348a"
   },
   "outputs": [
    {
     "name": "stdout",
     "output_type": "stream",
     "text": [
      "Training set has 812113 samples.\n",
      "Testing set has 203029 samples.\n"
     ]
    }
   ],
   "source": [
    "from sklearn.model_selection import train_test_split\n",
    "\n",
    "# Splitting the data into training and testing sets\n",
    "X_train, X_test, y_train, y_test = train_test_split(X, y, test_size=0.2, random_state=42)\n",
    "\n",
    "# The results of the split\n",
    "print (\"Training set has {} samples.\".format(X_train.shape[0]))\n",
    "print (\"Testing set has {} samples.\".format(X_test.shape[0]))"
   ]
  },
  {
   "cell_type": "markdown",
   "metadata": {
    "id": "pcjGwf2YASsU"
   },
   "source": [
    "MODELS: Supervised Learning Models\n",
    "\n",
    "I will apply the following supervised learning models in this project which are currently available in scikit-learn.\n",
    "\n",
    "\n",
    "*  Decision Trees (applied)\n",
    "*  Random Forest\n",
    "*  K-Nearest Neighbors (KNeighbors)\n",
    "*  Gaussian Naive Bayes (GaussianNB)\n",
    "*  Logistic Regression (LR)\n",
    "*  Linear Discriminant Analysis (LDA)\n",
    "*  Quadratic Discriminant Analysis (QDA)"
   ]
  },
  {
   "cell_type": "markdown",
   "metadata": {
    "id": "9PM4B3YOCOW0"
   },
   "source": [
    "1) DECISION TREES"
   ]
  },
  {
   "cell_type": "code",
   "execution_count": 40,
   "metadata": {
    "colab": {
     "base_uri": "https://localhost:8080/",
     "height": 74
    },
    "id": "Y80Av9GuARJe",
    "outputId": "3de5e66e-1634-41ee-bbda-66fac3c16fe7"
   },
   "outputs": [
    {
     "data": {
      "text/html": [
       "<style>#sk-container-id-1 {color: black;background-color: white;}#sk-container-id-1 pre{padding: 0;}#sk-container-id-1 div.sk-toggleable {background-color: white;}#sk-container-id-1 label.sk-toggleable__label {cursor: pointer;display: block;width: 100%;margin-bottom: 0;padding: 0.3em;box-sizing: border-box;text-align: center;}#sk-container-id-1 label.sk-toggleable__label-arrow:before {content: \"▸\";float: left;margin-right: 0.25em;color: #696969;}#sk-container-id-1 label.sk-toggleable__label-arrow:hover:before {color: black;}#sk-container-id-1 div.sk-estimator:hover label.sk-toggleable__label-arrow:before {color: black;}#sk-container-id-1 div.sk-toggleable__content {max-height: 0;max-width: 0;overflow: hidden;text-align: left;background-color: #f0f8ff;}#sk-container-id-1 div.sk-toggleable__content pre {margin: 0.2em;color: black;border-radius: 0.25em;background-color: #f0f8ff;}#sk-container-id-1 input.sk-toggleable__control:checked~div.sk-toggleable__content {max-height: 200px;max-width: 100%;overflow: auto;}#sk-container-id-1 input.sk-toggleable__control:checked~label.sk-toggleable__label-arrow:before {content: \"▾\";}#sk-container-id-1 div.sk-estimator input.sk-toggleable__control:checked~label.sk-toggleable__label {background-color: #d4ebff;}#sk-container-id-1 div.sk-label input.sk-toggleable__control:checked~label.sk-toggleable__label {background-color: #d4ebff;}#sk-container-id-1 input.sk-hidden--visually {border: 0;clip: rect(1px 1px 1px 1px);clip: rect(1px, 1px, 1px, 1px);height: 1px;margin: -1px;overflow: hidden;padding: 0;position: absolute;width: 1px;}#sk-container-id-1 div.sk-estimator {font-family: monospace;background-color: #f0f8ff;border: 1px dotted black;border-radius: 0.25em;box-sizing: border-box;margin-bottom: 0.5em;}#sk-container-id-1 div.sk-estimator:hover {background-color: #d4ebff;}#sk-container-id-1 div.sk-parallel-item::after {content: \"\";width: 100%;border-bottom: 1px solid gray;flex-grow: 1;}#sk-container-id-1 div.sk-label:hover label.sk-toggleable__label {background-color: #d4ebff;}#sk-container-id-1 div.sk-serial::before {content: \"\";position: absolute;border-left: 1px solid gray;box-sizing: border-box;top: 0;bottom: 0;left: 50%;z-index: 0;}#sk-container-id-1 div.sk-serial {display: flex;flex-direction: column;align-items: center;background-color: white;padding-right: 0.2em;padding-left: 0.2em;position: relative;}#sk-container-id-1 div.sk-item {position: relative;z-index: 1;}#sk-container-id-1 div.sk-parallel {display: flex;align-items: stretch;justify-content: center;background-color: white;position: relative;}#sk-container-id-1 div.sk-item::before, #sk-container-id-1 div.sk-parallel-item::before {content: \"\";position: absolute;border-left: 1px solid gray;box-sizing: border-box;top: 0;bottom: 0;left: 50%;z-index: -1;}#sk-container-id-1 div.sk-parallel-item {display: flex;flex-direction: column;z-index: 1;position: relative;background-color: white;}#sk-container-id-1 div.sk-parallel-item:first-child::after {align-self: flex-end;width: 50%;}#sk-container-id-1 div.sk-parallel-item:last-child::after {align-self: flex-start;width: 50%;}#sk-container-id-1 div.sk-parallel-item:only-child::after {width: 0;}#sk-container-id-1 div.sk-dashed-wrapped {border: 1px dashed gray;margin: 0 0.4em 0.5em 0.4em;box-sizing: border-box;padding-bottom: 0.4em;background-color: white;}#sk-container-id-1 div.sk-label label {font-family: monospace;font-weight: bold;display: inline-block;line-height: 1.2em;}#sk-container-id-1 div.sk-label-container {text-align: center;}#sk-container-id-1 div.sk-container {/* jupyter's `normalize.less` sets `[hidden] { display: none; }` but bootstrap.min.css set `[hidden] { display: none !important; }` so we also need the `!important` here to be able to override the default hidden behavior on the sphinx rendered scikit-learn.org. See: https://github.com/scikit-learn/scikit-learn/issues/21755 */display: inline-block !important;position: relative;}#sk-container-id-1 div.sk-text-repr-fallback {display: none;}</style><div id=\"sk-container-id-1\" class=\"sk-top-container\"><div class=\"sk-text-repr-fallback\"><pre>DecisionTreeClassifier(random_state=1)</pre><b>In a Jupyter environment, please rerun this cell to show the HTML representation or trust the notebook. <br />On GitHub, the HTML representation is unable to render, please try loading this page with nbviewer.org.</b></div><div class=\"sk-container\" hidden><div class=\"sk-item\"><div class=\"sk-estimator sk-toggleable\"><input class=\"sk-toggleable__control sk-hidden--visually\" id=\"sk-estimator-id-1\" type=\"checkbox\" checked><label for=\"sk-estimator-id-1\" class=\"sk-toggleable__label sk-toggleable__label-arrow\">DecisionTreeClassifier</label><div class=\"sk-toggleable__content\"><pre>DecisionTreeClassifier(random_state=1)</pre></div></div></div></div></div>"
      ],
      "text/plain": [
       "DecisionTreeClassifier(random_state=1)"
      ]
     },
     "execution_count": 40,
     "metadata": {},
     "output_type": "execute_result"
    }
   ],
   "source": [
    "# Decision Tress\n",
    "\n",
    "# Creating a DecisionTreeClassifier and fit it to the training data.\n",
    "\n",
    "from sklearn import tree\n",
    "from sklearn.tree import DecisionTreeClassifier\n",
    "from sklearn.metrics import classification_report, confusion_matrix, accuracy_score\n",
    "\n",
    "dectree = DecisionTreeClassifier(random_state=1)\n",
    "\n",
    "# Train the classifier on the training set\n",
    "dectree.fit(X_train, y_train)"
   ]
  },
  {
   "cell_type": "code",
   "execution_count": 41,
   "metadata": {
    "colab": {
     "base_uri": "https://localhost:8080/"
    },
    "id": "94IBmUwoBRzM",
    "outputId": "48b47488-619f-4b40-b22e-889da08a62ba"
   },
   "outputs": [
    {
     "name": "stdout",
     "output_type": "stream",
     "text": [
      "Overall accuracy of DT using test-set is : 97.441745\n"
     ]
    }
   ],
   "source": [
    "# Predictions and Evaluation of Decision Tree Model\n",
    "\n",
    "predictions_dectree = dectree.predict(X_test)\n",
    "acc_dectree = accuracy_score(y_true = y_test, y_pred = predictions_dectree )\n",
    "print(\"Overall accuracy of DT using test-set is : %f\" %(acc_dectree*100))"
   ]
  },
  {
   "cell_type": "code",
   "execution_count": 42,
   "metadata": {
    "colab": {
     "base_uri": "https://localhost:8080/"
    },
    "id": "UIkybpapBt9k",
    "outputId": "200f8bce-5793-4436-d805-6417ea59f0c1"
   },
   "outputs": [
    {
     "name": "stdout",
     "output_type": "stream",
     "text": [
      "              precision    recall  f1-score   support\n",
      "\n",
      "           0       0.98      0.98      0.98    136457\n",
      "           1       0.96      0.96      0.96     66572\n",
      "\n",
      "    accuracy                           0.97    203029\n",
      "   macro avg       0.97      0.97      0.97    203029\n",
      "weighted avg       0.97      0.97      0.97    203029\n",
      "\n"
     ]
    }
   ],
   "source": [
    "print(classification_report(y_test, predictions_dectree))"
   ]
  },
  {
   "cell_type": "code",
   "execution_count": 43,
   "metadata": {
    "colab": {
     "base_uri": "https://localhost:8080/"
    },
    "id": "hica_pRVBU2A",
    "outputId": "49e2b2e9-41ba-4726-9181-6afd823ce679"
   },
   "outputs": [
    {
     "name": "stdout",
     "output_type": "stream",
     "text": [
      "True: [0 0 0 0 0 1 1 0 0 0 0 0 0 1 0 1 0 0 0 0 1 1 0 1 0 0 0 1 0 0 0 1 0 0 1 0 0\n",
      " 0 0 1 0 0 0 0 0 0 1 0 1 0 1 0 0 1 0 0 0 0 0 1 0 1 0 1 1 0 0 0 0 0]\n",
      "\n",
      "False: [0 0 0 0 0 1 1 0 0 0 0 0 0 1 0 1 0 0 0 0 1 1 0 1 0 0 0 1 0 0 0 1 0 0 1 0 0\n",
      " 0 0 0 0 0 0 0 0 0 1 0 1 0 1 0 0 1 0 0 0 0 0 1 0 1 0 1 1 0 0 0 0 0]\n"
     ]
    }
   ],
   "source": [
    "# making class predictions for the testing set\n",
    "y_pred_class = dectree.predict(X_test)\n",
    "\n",
    "# printing the first 70 true and predicted responses\n",
    "print('True:', y_test.values[0:70])\n",
    "print('\\nFalse:', y_pred_class[0:70])"
   ]
  },
  {
   "cell_type": "code",
   "execution_count": 44,
   "metadata": {
    "colab": {
     "base_uri": "https://localhost:8080/"
    },
    "id": "28CJ8y9EBU8_",
    "outputId": "2b7bc654-bda0-4c06-9daa-ccb24935e9c2"
   },
   "outputs": [
    {
     "name": "stdout",
     "output_type": "stream",
     "text": [
      "[[133966   2491]\n",
      " [  2703  63869]]\n"
     ]
    }
   ],
   "source": [
    "from sklearn import metrics\n",
    "\n",
    "# IMPORTANT: first argument is true values, second argument is predicted values,\n",
    "# this produces a 2x2 numpy array (matrix)\n",
    "# print(metrics.confusion_matrix(y_test, y_pred_class))\n",
    "\n",
    "# saving confusion matrix and slice into four pieces\n",
    "confusion = metrics.confusion_matrix(y_test, y_pred_class)\n",
    "print(confusion)\n",
    "\n",
    "# [row, column]\n",
    "\n",
    "TP = confusion[1, 1]\n",
    "TN = confusion[0, 0]\n",
    "FP = confusion[0, 1]\n",
    "FN = confusion[1, 0]"
   ]
  },
  {
   "cell_type": "code",
   "execution_count": 45,
   "metadata": {
    "colab": {
     "base_uri": "https://localhost:8080/"
    },
    "id": "JM7BW14EBVBT",
    "outputId": "2d4503c7-8826-473c-a82a-fa76027a0c1c"
   },
   "outputs": [
    {
     "name": "stdout",
     "output_type": "stream",
     "text": [
      "0.9744174477537692\n"
     ]
    }
   ],
   "source": [
    "# Metrics computed from a confusion matrix\n",
    "# Classification Accuracy : Overall, how often is the classifier correct? // using float to perform true division, not integer division\n",
    "print((TP + TN) / float(TP + TN + FP + FN))"
   ]
  },
  {
   "cell_type": "code",
   "execution_count": 46,
   "metadata": {
    "colab": {
     "base_uri": "https://localhost:8080/"
    },
    "id": "jEJMJrsJBVEK",
    "outputId": "e5bec4b6-80fa-4fdb-eb0d-9538eac39e2d"
   },
   "outputs": [
    {
     "name": "stdout",
     "output_type": "stream",
     "text": [
      "0.025582552246230832\n"
     ]
    }
   ],
   "source": [
    "# Classification Error : Overall, how often is the classifier incorrect?\n",
    "\n",
    "classification_error = (FP + FN) / float(TP + TN + FP + FN)\n",
    "print(classification_error)"
   ]
  },
  {
   "cell_type": "code",
   "execution_count": 47,
   "metadata": {
    "colab": {
     "base_uri": "https://localhost:8080/"
    },
    "id": "AcloconNEIoZ",
    "outputId": "7db28823-aadd-46d4-b5d4-681aecb2b084"
   },
   "outputs": [
    {
     "name": "stdout",
     "output_type": "stream",
     "text": [
      "0.9593973442288048\n",
      "0.9593973442288048\n"
     ]
    }
   ],
   "source": [
    "# Sensitivity : When the actual value is positive, how often is the prediction correct?\n",
    "\n",
    "sensitivity = TP / float(FN + TP)\n",
    "print(sensitivity)\n",
    "print(metrics.recall_score(y_test, y_pred_class))"
   ]
  },
  {
   "cell_type": "code",
   "execution_count": 48,
   "metadata": {
    "colab": {
     "base_uri": "https://localhost:8080/"
    },
    "id": "l3WHTgXZBVJB",
    "outputId": "ce8525e7-f7bc-4f34-fc8a-c791e649783e"
   },
   "outputs": [
    {
     "name": "stdout",
     "output_type": "stream",
     "text": [
      "0.9817451651435983\n"
     ]
    }
   ],
   "source": [
    "# Specificity: When the actual value is negative, how often is the prediction correct?\n",
    "\n",
    "specificity = TN / (TN + FP)\n",
    "print(specificity)"
   ]
  },
  {
   "cell_type": "code",
   "execution_count": 49,
   "metadata": {
    "colab": {
     "base_uri": "https://localhost:8080/"
    },
    "id": "upEQKDtXBVLL",
    "outputId": "d484c694-100d-4f82-d467-65ddef5fa3aa"
   },
   "outputs": [
    {
     "name": "stdout",
     "output_type": "stream",
     "text": [
      "False Positive Rate: 0.018254834856401652\n",
      "Precision: 0.962462326702833\n"
     ]
    }
   ],
   "source": [
    "# False Positive Rate: When the actual value is negative, how often is the prediction incorrect?\n",
    "\n",
    "false_positive_rate = FP / float(TN + FP)\n",
    "print('False Positive Rate:',false_positive_rate)\n",
    "\n",
    "# Precision : When a positive value is predicted, how often is the prediction correct?\n",
    "\n",
    "precision = TP / float(TP + FP)\n",
    "print('Precision:', metrics.precision_score(y_test, y_pred_class))"
   ]
  },
  {
   "cell_type": "code",
   "execution_count": 50,
   "metadata": {
    "colab": {
     "base_uri": "https://localhost:8080/"
    },
    "id": "EGn6SgJmCcj7",
    "outputId": "0c8809c3-200c-4c33-c7ae-1358461541b8"
   },
   "outputs": [
    {
     "name": "stdout",
     "output_type": "stream",
     "text": [
      "AUC Score: 0.6758036870806332\n",
      "F-Beta Score: 0.961847764538631\n"
     ]
    }
   ],
   "source": [
    "# AUC Score: summarizes the overall performance of a classification model and\n",
    "# F-beta Score: considers both false positives and negatives, providing a balance between precision and recall\n",
    "\n",
    "from sklearn.model_selection import cross_val_score\n",
    "print('AUC Score:', cross_val_score(dectree, X, y, cv=10, scoring='roc_auc').mean())\n",
    "\n",
    "dectree.fit(X_train, y_train)\n",
    "from sklearn.metrics import fbeta_score\n",
    "predictions_test = dectree.predict(X_test)\n",
    "print('F-Beta Score:', fbeta_score(y_test, predictions_test, average='binary', beta=0.5))"
   ]
  },
  {
   "cell_type": "code",
   "execution_count": 51,
   "metadata": {
    "colab": {
     "base_uri": "https://localhost:8080/",
     "height": 490
    },
    "id": "iZy2PPQjYKSM",
    "outputId": "f899e027-b3bc-4419-e897-33081c768372"
   },
   "outputs": [
    {
     "name": "stdout",
     "output_type": "stream",
     "text": [
      "AUC-ROC Score: 0.6758036870806332\n"
     ]
    },
    {
     "data": {
      "image/png": "[encoded data removed]",
      "text/plain": [
       "<Figure size 640x480 with 1 Axes>"
      ]
     },
     "metadata": {},
     "output_type": "display_data"
    }
   ],
   "source": [
    "# Generating AUC-ROC\n",
    "\n",
    "from sklearn.metrics import roc_auc_score, roc_curve\n",
    "import matplotlib.pyplot as plt\n",
    "\n",
    "dectree.fit(X_train, y_train)\n",
    "\n",
    "# Making predictions and computing AUC-ROC\n",
    "\n",
    "y_pred_proba = dectree.predict_proba(X_test)[:, 1]  # Probability of positive class\n",
    "auc_roc = cross_val_score(dectree, X, y, cv=10, scoring='roc_auc').mean()\n",
    "print(\"AUC-ROC Score:\", auc_roc)\n",
    "\n",
    "# Plotting ROC curve\n",
    "\n",
    "fpr, tpr, thresholds = roc_curve(y_test, y_pred_proba)\n",
    "plt.plot(fpr, tpr, color='blue', label=f'AUC = {auc_roc:.2f}')\n",
    "plt.plot([0, 1], [0, 1], color='red', linestyle='--')\n",
    "plt.xlabel('False Positive Rate')\n",
    "plt.ylabel('True Positive Rate')\n",
    "plt.title('AUC-ROC Curve of the Decision Tree')\n",
    "plt.legend(loc='lower right')\n",
    "plt.show()"
   ]
  },
  {
   "cell_type": "markdown",
   "metadata": {
    "id": "yXRIFLy_GSe7"
   },
   "source": [
    "2) RANDOM FOREST"
   ]
  },
  {
   "cell_type": "code",
   "execution_count": 52,
   "metadata": {
    "colab": {
     "base_uri": "https://localhost:8080/"
    },
    "id": "cUn2ziBnzLvB",
    "outputId": "afeeade3-d029-47d2-e7d8-b8accbf89ceb"
   },
   "outputs": [
    {
     "data": {
      "text/plain": [
       "0.7214624700829617"
      ]
     },
     "execution_count": 52,
     "metadata": {},
     "output_type": "execute_result"
    }
   ],
   "source": [
    "# Using RandomForestCLassifier\n",
    "\n",
    "from sklearn.ensemble import RandomForestClassifier\n",
    "from sklearn.metrics import classification_report, confusion_matrix, accuracy_score\n",
    "ranfor = RandomForestClassifier(n_estimators=5, random_state=1)\n",
    "cv_scores = cross_val_score(ranfor, X, y, cv=10)\n",
    "cv_scores.mean()"
   ]
  },
  {
   "cell_type": "code",
   "execution_count": 53,
   "metadata": {
    "colab": {
     "base_uri": "https://localhost:8080/"
    },
    "id": "410u_q0dzSeI",
    "outputId": "52888cd3-0f96-4337-e21b-2a5139329547"
   },
   "outputs": [
    {
     "name": "stdout",
     "output_type": "stream",
     "text": [
      "Overall accuracy of RFM using test-set is : 98.248034\n"
     ]
    }
   ],
   "source": [
    "ranfor = ranfor.fit(X_train, y_train)\n",
    "\n",
    "# Predictions and Evaluation of RF Model\n",
    "\n",
    "predictions_rf = ranfor.predict(X_test)\n",
    "acc_rf = accuracy_score(y_true = y_test, y_pred = predictions_rf )\n",
    "print(\"Overall accuracy of RFM using test-set is : %f\" %(acc_rf*100))"
   ]
  },
  {
   "cell_type": "code",
   "execution_count": 54,
   "metadata": {
    "colab": {
     "base_uri": "https://localhost:8080/"
    },
    "id": "XOJFa1f6zZQI",
    "outputId": "4bea84e6-ab7c-41ca-fc03-d190a8a3a88f"
   },
   "outputs": [
    {
     "name": "stdout",
     "output_type": "stream",
     "text": [
      "              precision    recall  f1-score   support\n",
      "\n",
      "           0       0.98      0.99      0.99    136457\n",
      "           1       0.98      0.97      0.97     66572\n",
      "\n",
      "    accuracy                           0.98    203029\n",
      "   macro avg       0.98      0.98      0.98    203029\n",
      "weighted avg       0.98      0.98      0.98    203029\n",
      "\n"
     ]
    }
   ],
   "source": [
    "print(classification_report(y_test, predictions_rf))"
   ]
  },
  {
   "cell_type": "code",
   "execution_count": 55,
   "metadata": {
    "colab": {
     "base_uri": "https://localhost:8080/"
    },
    "id": "8FmCCQnzzZXw",
    "outputId": "9d4ceefa-606e-4dbf-a428-012c9b197170"
   },
   "outputs": [
    {
     "name": "stdout",
     "output_type": "stream",
     "text": [
      "[[135023   1434]\n",
      " [  2123  64449]]\n"
     ]
    }
   ],
   "source": [
    "print(confusion_matrix(y_test, predictions_rf))"
   ]
  },
  {
   "cell_type": "code",
   "execution_count": 56,
   "metadata": {
    "colab": {
     "base_uri": "https://localhost:8080/"
    },
    "id": "6PndVXWLzZbG",
    "outputId": "6ab9cfbf-590b-493b-8d3c-af1f468453df"
   },
   "outputs": [
    {
     "name": "stdout",
     "output_type": "stream",
     "text": [
      "AUC Score: 0.7571476384031655\n",
      "F-Beta Score: 0.9761923515013452\n"
     ]
    }
   ],
   "source": [
    "# AUC Score and F-beta Score:\n",
    "\n",
    "from sklearn.model_selection import cross_val_score\n",
    "print('AUC Score:', cross_val_score(ranfor, X, y, cv=10, scoring='roc_auc').mean())\n",
    "\n",
    "ranfor.fit(X_train, y_train)\n",
    "from sklearn.metrics import fbeta_score\n",
    "predictions_test = ranfor.predict(X_test)\n",
    "print('F-Beta Score:', fbeta_score(y_test, predictions_test, average='binary', beta=0.5))"
   ]
  },
  {
   "cell_type": "code",
   "execution_count": 57,
   "metadata": {
    "colab": {
     "base_uri": "https://localhost:8080/",
     "height": 490
    },
    "id": "Mme-bmKjZnTb",
    "outputId": "8b23e981-189b-4d47-91dc-d2a97e40bafd"
   },
   "outputs": [
    {
     "name": "stdout",
     "output_type": "stream",
     "text": [
      "AUC-ROC Score: 0.7571476384031655\n"
     ]
    },
    {
     "data": {
      "image/png": "[encoded data removed]",
      "text/plain": [
       "<Figure size 640x480 with 1 Axes>"
      ]
     },
     "metadata": {},
     "output_type": "display_data"
    }
   ],
   "source": [
    "# Generating AUC-ROC\n",
    "\n",
    "from sklearn.metrics import roc_auc_score, roc_curve\n",
    "import matplotlib.pyplot as plt\n",
    "\n",
    "ranfor.fit(X_train, y_train)\n",
    "\n",
    "# Making predictions and computing AUC-ROC\n",
    "\n",
    "y_pred_proba = ranfor.predict_proba(X_test)[:, 1]  # Probability of positive class\n",
    "auc_roc = cross_val_score(ranfor, X, y, cv=10, scoring='roc_auc').mean()\n",
    "print(\"AUC-ROC Score:\", auc_roc)\n",
    "\n",
    "# Plotting ROC curve\n",
    "\n",
    "fpr, tpr, thresholds = roc_curve(y_test, y_pred_proba)\n",
    "plt.plot(fpr, tpr, color='blue', label=f'AUC = {auc_roc:.2f}')\n",
    "plt.plot([0, 1], [0, 1], color='red', linestyle='--')\n",
    "plt.xlabel('False Positive Rate')\n",
    "plt.ylabel('True Positive Rate')\n",
    "plt.title('AUC-ROC Curve of the Random Forest')\n",
    "plt.legend(loc='lower right')\n",
    "plt.show()"
   ]
  },
  {
   "cell_type": "markdown",
   "metadata": {
    "id": "ABVglxqhzenp"
   },
   "source": [
    "3) K-NEAREST-NEIGHBOURS (KNN)"
   ]
  },
  {
   "cell_type": "code",
   "execution_count": 58,
   "metadata": {
    "colab": {
     "base_uri": "https://localhost:8080/"
    },
    "id": "EEC2zfzGzZdi",
    "outputId": "c05a8c53-dfe7-4542-c7cd-5864c06cb796"
   },
   "outputs": [
    {
     "data": {
      "text/plain": [
       "0.7081096606285918"
      ]
     },
     "execution_count": 58,
     "metadata": {},
     "output_type": "execute_result"
    }
   ],
   "source": [
    "# Exploring the K-Nearest-Neighbors algorithm with a starting value of K=10.\n",
    "# K is an example of a hyperparameter - a parameter on the model itself which may need to be tuned for best results on the particular data set.\n",
    "\n",
    "from sklearn import neighbors\n",
    "from sklearn.metrics import classification_report, confusion_matrix, accuracy_score\n",
    "\n",
    "knn = neighbors.KNeighborsClassifier(n_neighbors=5)\n",
    "cv_scores = cross_val_score(knn, X, y, cv=10)\n",
    "\n",
    "cv_scores.mean()"
   ]
  },
  {
   "cell_type": "code",
   "execution_count": 59,
   "metadata": {
    "colab": {
     "base_uri": "https://localhost:8080/",
     "height": 74
    },
    "id": "Yb_0apnCzZgJ",
    "outputId": "2e59f137-88b0-41a4-b3c6-931b0893b75f"
   },
   "outputs": [
    {
     "data": {
      "text/html": [
       "<style>#sk-container-id-2 {color: black;background-color: white;}#sk-container-id-2 pre{padding: 0;}#sk-container-id-2 div.sk-toggleable {background-color: white;}#sk-container-id-2 label.sk-toggleable__label {cursor: pointer;display: block;width: 100%;margin-bottom: 0;padding: 0.3em;box-sizing: border-box;text-align: center;}#sk-container-id-2 label.sk-toggleable__label-arrow:before {content: \"▸\";float: left;margin-right: 0.25em;color: #696969;}#sk-container-id-2 label.sk-toggleable__label-arrow:hover:before {color: black;}#sk-container-id-2 div.sk-estimator:hover label.sk-toggleable__label-arrow:before {color: black;}#sk-container-id-2 div.sk-toggleable__content {max-height: 0;max-width: 0;overflow: hidden;text-align: left;background-color: #f0f8ff;}#sk-container-id-2 div.sk-toggleable__content pre {margin: 0.2em;color: black;border-radius: 0.25em;background-color: #f0f8ff;}#sk-container-id-2 input.sk-toggleable__control:checked~div.sk-toggleable__content {max-height: 200px;max-width: 100%;overflow: auto;}#sk-container-id-2 input.sk-toggleable__control:checked~label.sk-toggleable__label-arrow:before {content: \"▾\";}#sk-container-id-2 div.sk-estimator input.sk-toggleable__control:checked~label.sk-toggleable__label {background-color: #d4ebff;}#sk-container-id-2 div.sk-label input.sk-toggleable__control:checked~label.sk-toggleable__label {background-color: #d4ebff;}#sk-container-id-2 input.sk-hidden--visually {border: 0;clip: rect(1px 1px 1px 1px);clip: rect(1px, 1px, 1px, 1px);height: 1px;margin: -1px;overflow: hidden;padding: 0;position: absolute;width: 1px;}#sk-container-id-2 div.sk-estimator {font-family: monospace;background-color: #f0f8ff;border: 1px dotted black;border-radius: 0.25em;box-sizing: border-box;margin-bottom: 0.5em;}#sk-container-id-2 div.sk-estimator:hover {background-color: #d4ebff;}#sk-container-id-2 div.sk-parallel-item::after {content: \"\";width: 100%;border-bottom: 1px solid gray;flex-grow: 1;}#sk-container-id-2 div.sk-label:hover label.sk-toggleable__label {background-color: #d4ebff;}#sk-container-id-2 div.sk-serial::before {content: \"\";position: absolute;border-left: 1px solid gray;box-sizing: border-box;top: 0;bottom: 0;left: 50%;z-index: 0;}#sk-container-id-2 div.sk-serial {display: flex;flex-direction: column;align-items: center;background-color: white;padding-right: 0.2em;padding-left: 0.2em;position: relative;}#sk-container-id-2 div.sk-item {position: relative;z-index: 1;}#sk-container-id-2 div.sk-parallel {display: flex;align-items: stretch;justify-content: center;background-color: white;position: relative;}#sk-container-id-2 div.sk-item::before, #sk-container-id-2 div.sk-parallel-item::before {content: \"\";position: absolute;border-left: 1px solid gray;box-sizing: border-box;top: 0;bottom: 0;left: 50%;z-index: -1;}#sk-container-id-2 div.sk-parallel-item {display: flex;flex-direction: column;z-index: 1;position: relative;background-color: white;}#sk-container-id-2 div.sk-parallel-item:first-child::after {align-self: flex-end;width: 50%;}#sk-container-id-2 div.sk-parallel-item:last-child::after {align-self: flex-start;width: 50%;}#sk-container-id-2 div.sk-parallel-item:only-child::after {width: 0;}#sk-container-id-2 div.sk-dashed-wrapped {border: 1px dashed gray;margin: 0 0.4em 0.5em 0.4em;box-sizing: border-box;padding-bottom: 0.4em;background-color: white;}#sk-container-id-2 div.sk-label label {font-family: monospace;font-weight: bold;display: inline-block;line-height: 1.2em;}#sk-container-id-2 div.sk-label-container {text-align: center;}#sk-container-id-2 div.sk-container {/* jupyter's `normalize.less` sets `[hidden] { display: none; }` but bootstrap.min.css set `[hidden] { display: none !important; }` so we also need the `!important` here to be able to override the default hidden behavior on the sphinx rendered scikit-learn.org. See: https://github.com/scikit-learn/scikit-learn/issues/21755 */display: inline-block !important;position: relative;}#sk-container-id-2 div.sk-text-repr-fallback {display: none;}</style><div id=\"sk-container-id-2\" class=\"sk-top-container\"><div class=\"sk-text-repr-fallback\"><pre>KNeighborsClassifier()</pre><b>In a Jupyter environment, please rerun this cell to show the HTML representation or trust the notebook. <br />On GitHub, the HTML representation is unable to render, please try loading this page with nbviewer.org.</b></div><div class=\"sk-container\" hidden><div class=\"sk-item\"><div class=\"sk-estimator sk-toggleable\"><input class=\"sk-toggleable__control sk-hidden--visually\" id=\"sk-estimator-id-2\" type=\"checkbox\" checked><label for=\"sk-estimator-id-2\" class=\"sk-toggleable__label sk-toggleable__label-arrow\">KNeighborsClassifier</label><div class=\"sk-toggleable__content\"><pre>KNeighborsClassifier()</pre></div></div></div></div></div>"
      ],
      "text/plain": [
       "KNeighborsClassifier()"
      ]
     },
     "execution_count": 59,
     "metadata": {},
     "output_type": "execute_result"
    }
   ],
   "source": [
    "knn.fit(X_train, y_train)"
   ]
  },
  {
   "cell_type": "code",
   "execution_count": 60,
   "metadata": {
    "colab": {
     "base_uri": "https://localhost:8080/"
    },
    "id": "DfdizcV0zZip",
    "outputId": "3ec9928c-b055-4738-e874-75a2c6429bd3"
   },
   "outputs": [
    {
     "name": "stdout",
     "output_type": "stream",
     "text": [
      "Overall accuracy of kNN using test-set is : 98.672111\n"
     ]
    }
   ],
   "source": [
    "# Predictions and Evaluation of K-N-N Model\n",
    "\n",
    "predictions_knn=knn.predict(X_test)\n",
    "acc_knn = accuracy_score(y_true = y_test, y_pred = predictions_knn)\n",
    "print(\"Overall accuracy of kNN using test-set is : %f\" %(acc_knn*100))"
   ]
  },
  {
   "cell_type": "code",
   "execution_count": 61,
   "metadata": {
    "colab": {
     "base_uri": "https://localhost:8080/"
    },
    "id": "Hs1TIJ43zZlP",
    "outputId": "2742506d-ce4e-440e-f9ae-1debfc839b00"
   },
   "outputs": [
    {
     "name": "stdout",
     "output_type": "stream",
     "text": [
      "              precision    recall  f1-score   support\n",
      "\n",
      "           0       0.99      0.99      0.99    136457\n",
      "           1       0.98      0.98      0.98     66572\n",
      "\n",
      "    accuracy                           0.99    203029\n",
      "   macro avg       0.99      0.98      0.98    203029\n",
      "weighted avg       0.99      0.99      0.99    203029\n",
      "\n"
     ]
    }
   ],
   "source": [
    "print(classification_report(y_test, predictions_knn))"
   ]
  },
  {
   "cell_type": "code",
   "execution_count": 62,
   "metadata": {
    "colab": {
     "base_uri": "https://localhost:8080/"
    },
    "id": "7kJ9ojPSzZnm",
    "outputId": "792c1f5a-169f-4acf-aa76-30b579742029"
   },
   "outputs": [
    {
     "name": "stdout",
     "output_type": "stream",
     "text": [
      "[[135297   1160]\n",
      " [  1536  65036]]\n"
     ]
    }
   ],
   "source": [
    "print(confusion_matrix(y_test, predictions_knn))"
   ]
  },
  {
   "cell_type": "code",
   "execution_count": 63,
   "metadata": {
    "colab": {
     "base_uri": "https://localhost:8080/"
    },
    "id": "-FrZ0YW3zZqC",
    "outputId": "4767484d-6f67-4bf0-ba15-0b238fa9cac7"
   },
   "outputs": [
    {
     "name": "stdout",
     "output_type": "stream",
     "text": [
      "AUC Score: 0.7189542685155559\n",
      "F-Beta Score: 0.9813614360385807\n"
     ]
    }
   ],
   "source": [
    "# AUC Score and F-beta Score:\n",
    "\n",
    "from sklearn.model_selection import cross_val_score\n",
    "print('AUC Score:', cross_val_score(knn, X, y, cv=10, scoring='roc_auc').mean())\n",
    "\n",
    "knn.fit(X_train, y_train)\n",
    "from sklearn.metrics import fbeta_score\n",
    "predictions_test = knn.predict(X_test)\n",
    "print('F-Beta Score:', fbeta_score(y_test, predictions_test, average='binary', beta=0.5))"
   ]
  },
  {
   "cell_type": "code",
   "execution_count": 64,
   "metadata": {
    "colab": {
     "base_uri": "https://localhost:8080/",
     "height": 490
    },
    "id": "w1f4v33oayqM",
    "outputId": "5ce1f5f6-0b1e-489a-d927-3c319b76416e"
   },
   "outputs": [
    {
     "name": "stdout",
     "output_type": "stream",
     "text": [
      "AUC-ROC Score: 0.7189542685155559\n"
     ]
    },
    {
     "data": {
      "image/png": "[encoded data removed]",
      "text/plain": [
       "<Figure size 640x480 with 1 Axes>"
      ]
     },
     "metadata": {},
     "output_type": "display_data"
    }
   ],
   "source": [
    "# Generating AUC-ROC\n",
    "\n",
    "from sklearn.metrics import roc_auc_score, roc_curve\n",
    "import matplotlib.pyplot as plt\n",
    "\n",
    "knn.fit(X_train, y_train)\n",
    "\n",
    "# Making predictions and computing AUC-ROC\n",
    "\n",
    "y_pred_proba = knn.predict_proba(X_test)[:, 1]  # Probability of positive class\n",
    "auc_roc = cross_val_score(knn, X, y, cv=10, scoring='roc_auc').mean()\n",
    "print(\"AUC-ROC Score:\", auc_roc)\n",
    "\n",
    "# Plotting ROC curve\n",
    "\n",
    "fpr, tpr, thresholds = roc_curve(y_test, y_pred_proba)\n",
    "plt.plot(fpr, tpr, color='blue', label=f'AUC = {auc_roc:.2f}')\n",
    "plt.plot([0, 1], [0, 1], color='red', linestyle='--')\n",
    "plt.xlabel('False Positive Rate')\n",
    "plt.ylabel('True Positive Rate')\n",
    "plt.title('AUC-ROC Curve of the KNN')\n",
    "plt.legend(loc='lower right')\n",
    "plt.show()"
   ]
  },
  {
   "cell_type": "markdown",
   "metadata": {
    "id": "MG_K_GMfzuCk"
   },
   "source": [
    "4) NAIVE BAYES"
   ]
  },
  {
   "cell_type": "code",
   "execution_count": 65,
   "metadata": {
    "colab": {
     "base_uri": "https://localhost:8080/"
    },
    "id": "hBrW4y3kzwBg",
    "outputId": "33968d84-ac9f-4a40-8631-8fcc96117cbb"
   },
   "outputs": [
    {
     "data": {
      "text/plain": [
       "0.7144497024403823"
      ]
     },
     "execution_count": 65,
     "metadata": {},
     "output_type": "execute_result"
    }
   ],
   "source": [
    "# Trying naive_bayes.GaussianNB classifier and testing how does its accuracy stack up.\n",
    "\n",
    "from sklearn.naive_bayes import GaussianNB\n",
    "from sklearn.metrics import classification_report, confusion_matrix, accuracy_score\n",
    "\n",
    "\n",
    "nb = GaussianNB()\n",
    "cv_scores = cross_val_score(nb, X, y, cv=10)\n",
    "\n",
    "cv_scores.mean()"
   ]
  },
  {
   "cell_type": "code",
   "execution_count": 66,
   "metadata": {
    "colab": {
     "base_uri": "https://localhost:8080/",
     "height": 74
    },
    "id": "gzuEztwjzzv6",
    "outputId": "82eda8c3-0e1b-4ea2-c5bf-f79180341b9d"
   },
   "outputs": [
    {
     "data": {
      "text/html": [
       "<style>#sk-container-id-3 {color: black;background-color: white;}#sk-container-id-3 pre{padding: 0;}#sk-container-id-3 div.sk-toggleable {background-color: white;}#sk-container-id-3 label.sk-toggleable__label {cursor: pointer;display: block;width: 100%;margin-bottom: 0;padding: 0.3em;box-sizing: border-box;text-align: center;}#sk-container-id-3 label.sk-toggleable__label-arrow:before {content: \"▸\";float: left;margin-right: 0.25em;color: #696969;}#sk-container-id-3 label.sk-toggleable__label-arrow:hover:before {color: black;}#sk-container-id-3 div.sk-estimator:hover label.sk-toggleable__label-arrow:before {color: black;}#sk-container-id-3 div.sk-toggleable__content {max-height: 0;max-width: 0;overflow: hidden;text-align: left;background-color: #f0f8ff;}#sk-container-id-3 div.sk-toggleable__content pre {margin: 0.2em;color: black;border-radius: 0.25em;background-color: #f0f8ff;}#sk-container-id-3 input.sk-toggleable__control:checked~div.sk-toggleable__content {max-height: 200px;max-width: 100%;overflow: auto;}#sk-container-id-3 input.sk-toggleable__control:checked~label.sk-toggleable__label-arrow:before {content: \"▾\";}#sk-container-id-3 div.sk-estimator input.sk-toggleable__control:checked~label.sk-toggleable__label {background-color: #d4ebff;}#sk-container-id-3 div.sk-label input.sk-toggleable__control:checked~label.sk-toggleable__label {background-color: #d4ebff;}#sk-container-id-3 input.sk-hidden--visually {border: 0;clip: rect(1px 1px 1px 1px);clip: rect(1px, 1px, 1px, 1px);height: 1px;margin: -1px;overflow: hidden;padding: 0;position: absolute;width: 1px;}#sk-container-id-3 div.sk-estimator {font-family: monospace;background-color: #f0f8ff;border: 1px dotted black;border-radius: 0.25em;box-sizing: border-box;margin-bottom: 0.5em;}#sk-container-id-3 div.sk-estimator:hover {background-color: #d4ebff;}#sk-container-id-3 div.sk-parallel-item::after {content: \"\";width: 100%;border-bottom: 1px solid gray;flex-grow: 1;}#sk-container-id-3 div.sk-label:hover label.sk-toggleable__label {background-color: #d4ebff;}#sk-container-id-3 div.sk-serial::before {content: \"\";position: absolute;border-left: 1px solid gray;box-sizing: border-box;top: 0;bottom: 0;left: 50%;z-index: 0;}#sk-container-id-3 div.sk-serial {display: flex;flex-direction: column;align-items: center;background-color: white;padding-right: 0.2em;padding-left: 0.2em;position: relative;}#sk-container-id-3 div.sk-item {position: relative;z-index: 1;}#sk-container-id-3 div.sk-parallel {display: flex;align-items: stretch;justify-content: center;background-color: white;position: relative;}#sk-container-id-3 div.sk-item::before, #sk-container-id-3 div.sk-parallel-item::before {content: \"\";position: absolute;border-left: 1px solid gray;box-sizing: border-box;top: 0;bottom: 0;left: 50%;z-index: -1;}#sk-container-id-3 div.sk-parallel-item {display: flex;flex-direction: column;z-index: 1;position: relative;background-color: white;}#sk-container-id-3 div.sk-parallel-item:first-child::after {align-self: flex-end;width: 50%;}#sk-container-id-3 div.sk-parallel-item:last-child::after {align-self: flex-start;width: 50%;}#sk-container-id-3 div.sk-parallel-item:only-child::after {width: 0;}#sk-container-id-3 div.sk-dashed-wrapped {border: 1px dashed gray;margin: 0 0.4em 0.5em 0.4em;box-sizing: border-box;padding-bottom: 0.4em;background-color: white;}#sk-container-id-3 div.sk-label label {font-family: monospace;font-weight: bold;display: inline-block;line-height: 1.2em;}#sk-container-id-3 div.sk-label-container {text-align: center;}#sk-container-id-3 div.sk-container {/* jupyter's `normalize.less` sets `[hidden] { display: none; }` but bootstrap.min.css set `[hidden] { display: none !important; }` so we also need the `!important` here to be able to override the default hidden behavior on the sphinx rendered scikit-learn.org. See: https://github.com/scikit-learn/scikit-learn/issues/21755 */display: inline-block !important;position: relative;}#sk-container-id-3 div.sk-text-repr-fallback {display: none;}</style><div id=\"sk-container-id-3\" class=\"sk-top-container\"><div class=\"sk-text-repr-fallback\"><pre>GaussianNB()</pre><b>In a Jupyter environment, please rerun this cell to show the HTML representation or trust the notebook. <br />On GitHub, the HTML representation is unable to render, please try loading this page with nbviewer.org.</b></div><div class=\"sk-container\" hidden><div class=\"sk-item\"><div class=\"sk-estimator sk-toggleable\"><input class=\"sk-toggleable__control sk-hidden--visually\" id=\"sk-estimator-id-3\" type=\"checkbox\" checked><label for=\"sk-estimator-id-3\" class=\"sk-toggleable__label sk-toggleable__label-arrow\">GaussianNB</label><div class=\"sk-toggleable__content\"><pre>GaussianNB()</pre></div></div></div></div></div>"
      ],
      "text/plain": [
       "GaussianNB()"
      ]
     },
     "execution_count": 66,
     "metadata": {},
     "output_type": "execute_result"
    }
   ],
   "source": [
    "nb.fit(X_train, y_train)"
   ]
  },
  {
   "cell_type": "code",
   "execution_count": 67,
   "metadata": {
    "colab": {
     "base_uri": "https://localhost:8080/"
    },
    "id": "pX0s-q-iz0Ix",
    "outputId": "edaa7ef6-cb30-480e-b38b-c47c6c3e362d"
   },
   "outputs": [
    {
     "name": "stdout",
     "output_type": "stream",
     "text": [
      "Overall accuracy of NB using test-set is : 74.472612\n"
     ]
    }
   ],
   "source": [
    "# Predictions and Evaluation of NB Model\n",
    "\n",
    "predictions_nb=nb.predict(X_test)\n",
    "acc_nb = accuracy_score(y_true = y_test, y_pred = predictions_nb)\n",
    "print(\"Overall accuracy of NB using test-set is : %f\" %(acc_nb*100))"
   ]
  },
  {
   "cell_type": "code",
   "execution_count": 68,
   "metadata": {
    "colab": {
     "base_uri": "https://localhost:8080/"
    },
    "id": "8gxR8nJLz0Lh",
    "outputId": "55bf52a0-e825-4fe7-a239-b5d5c94bb697"
   },
   "outputs": [
    {
     "name": "stdout",
     "output_type": "stream",
     "text": [
      "              precision    recall  f1-score   support\n",
      "\n",
      "           0       0.78      0.86      0.82    136457\n",
      "           1       0.64      0.51      0.57     66572\n",
      "\n",
      "    accuracy                           0.74    203029\n",
      "   macro avg       0.71      0.68      0.69    203029\n",
      "weighted avg       0.74      0.74      0.74    203029\n",
      "\n"
     ]
    }
   ],
   "source": [
    "print(classification_report(y_test, predictions_nb))"
   ]
  },
  {
   "cell_type": "code",
   "execution_count": 69,
   "metadata": {
    "colab": {
     "base_uri": "https://localhost:8080/"
    },
    "id": "OFQILo_jz0OB",
    "outputId": "accd9393-2aed-4ba6-da8b-7a80295143e3"
   },
   "outputs": [
    {
     "name": "stdout",
     "output_type": "stream",
     "text": [
      "[[117531  18926]\n",
      " [ 32902  33670]]\n"
     ]
    }
   ],
   "source": [
    "print(confusion_matrix(y_test, predictions_nb))"
   ]
  },
  {
   "cell_type": "code",
   "execution_count": 70,
   "metadata": {
    "colab": {
     "base_uri": "https://localhost:8080/"
    },
    "id": "JqNA__iWz0Q4",
    "outputId": "f38cca1f-8794-49ea-8e89-1a306129527b"
   },
   "outputs": [
    {
     "name": "stdout",
     "output_type": "stream",
     "text": [
      "AUC Score: 0.7656400898805751\n",
      "F-Beta Score: 0.6078582879590982\n"
     ]
    }
   ],
   "source": [
    "# AUC Score and F-beta Score:\n",
    "\n",
    "from sklearn.model_selection import cross_val_score\n",
    "print('AUC Score:', cross_val_score(nb, X, y, cv=10, scoring='roc_auc').mean())\n",
    "\n",
    "nb.fit(X_train, y_train)\n",
    "from sklearn.metrics import fbeta_score\n",
    "predictions_test = nb.predict(X_test)\n",
    "print('F-Beta Score:', fbeta_score(y_test, predictions_test, average='binary', beta=0.5))"
   ]
  },
  {
   "cell_type": "code",
   "execution_count": 71,
   "metadata": {
    "colab": {
     "base_uri": "https://localhost:8080/",
     "height": 490
    },
    "id": "8LhXZoKNbOLj",
    "outputId": "ed7d0a81-bd60-44d8-e9bb-7abfbd7e8074"
   },
   "outputs": [
    {
     "name": "stdout",
     "output_type": "stream",
     "text": [
      "AUC-ROC Score: 0.7656400898805751\n"
     ]
    },
    {
     "data": {
      "image/png": "[encoded data removed]",
      "text/plain": [
       "<Figure size 640x480 with 1 Axes>"
      ]
     },
     "metadata": {},
     "output_type": "display_data"
    }
   ],
   "source": [
    "# Generating AUC-ROC\n",
    "\n",
    "from sklearn.metrics import roc_auc_score, roc_curve\n",
    "import matplotlib.pyplot as plt\n",
    "\n",
    "nb.fit(X_train, y_train)\n",
    "\n",
    "# Making predictions and computing AUC-ROC\n",
    "\n",
    "y_pred_proba = nb.predict_proba(X_test)[:, 1]  # Probability of positive class\n",
    "auc_roc = cross_val_score(nb, X, y, cv=10, scoring='roc_auc').mean()\n",
    "print(\"AUC-ROC Score:\", auc_roc)\n",
    "\n",
    "# Plotting ROC curve\n",
    "\n",
    "fpr, tpr, thresholds = roc_curve(y_test, y_pred_proba)\n",
    "plt.plot(fpr, tpr, color='blue', label=f'AUC = {auc_roc:.2f}')\n",
    "plt.plot([0, 1], [0, 1], color='red', linestyle='--')\n",
    "plt.xlabel('False Positive Rate')\n",
    "plt.ylabel('True Positive Rate')\n",
    "plt.title('AUC-ROC Curve of the Naive Bayes')\n",
    "plt.legend(loc='lower right')\n",
    "plt.show()"
   ]
  },
  {
   "cell_type": "markdown",
   "metadata": {
    "id": "9CTRu0ydz7YB"
   },
   "source": [
    "5) LOGISTIC REGRESSION"
   ]
  },
  {
   "cell_type": "code",
   "execution_count": 72,
   "metadata": {
    "colab": {
     "base_uri": "https://localhost:8080/"
    },
    "id": "u7T13nTTz0S6",
    "outputId": "d6ecda95-2b7c-4026-c9c5-486e7d87e0df"
   },
   "outputs": [
    {
     "data": {
      "text/plain": [
       "0.7377685478946713"
      ]
     },
     "execution_count": 72,
     "metadata": {},
     "output_type": "execute_result"
    }
   ],
   "source": [
    "from sklearn.linear_model import LogisticRegression\n",
    "from sklearn.metrics import classification_report, confusion_matrix, accuracy_score\n",
    "logreg = LogisticRegression()\n",
    "cv_scores = cross_val_score(logreg, X, y, cv=10)\n",
    "cv_scores.mean()"
   ]
  },
  {
   "cell_type": "code",
   "execution_count": 73,
   "metadata": {
    "colab": {
     "base_uri": "https://localhost:8080/",
     "height": 74
    },
    "id": "MDk4tErmz0Vl",
    "outputId": "e0931275-dd96-4b7d-c0e1-7536b230fc3d"
   },
   "outputs": [
    {
     "data": {
      "text/html": [
       "<style>#sk-container-id-4 {color: black;background-color: white;}#sk-container-id-4 pre{padding: 0;}#sk-container-id-4 div.sk-toggleable {background-color: white;}#sk-container-id-4 label.sk-toggleable__label {cursor: pointer;display: block;width: 100%;margin-bottom: 0;padding: 0.3em;box-sizing: border-box;text-align: center;}#sk-container-id-4 label.sk-toggleable__label-arrow:before {content: \"▸\";float: left;margin-right: 0.25em;color: #696969;}#sk-container-id-4 label.sk-toggleable__label-arrow:hover:before {color: black;}#sk-container-id-4 div.sk-estimator:hover label.sk-toggleable__label-arrow:before {color: black;}#sk-container-id-4 div.sk-toggleable__content {max-height: 0;max-width: 0;overflow: hidden;text-align: left;background-color: #f0f8ff;}#sk-container-id-4 div.sk-toggleable__content pre {margin: 0.2em;color: black;border-radius: 0.25em;background-color: #f0f8ff;}#sk-container-id-4 input.sk-toggleable__control:checked~div.sk-toggleable__content {max-height: 200px;max-width: 100%;overflow: auto;}#sk-container-id-4 input.sk-toggleable__control:checked~label.sk-toggleable__label-arrow:before {content: \"▾\";}#sk-container-id-4 div.sk-estimator input.sk-toggleable__control:checked~label.sk-toggleable__label {background-color: #d4ebff;}#sk-container-id-4 div.sk-label input.sk-toggleable__control:checked~label.sk-toggleable__label {background-color: #d4ebff;}#sk-container-id-4 input.sk-hidden--visually {border: 0;clip: rect(1px 1px 1px 1px);clip: rect(1px, 1px, 1px, 1px);height: 1px;margin: -1px;overflow: hidden;padding: 0;position: absolute;width: 1px;}#sk-container-id-4 div.sk-estimator {font-family: monospace;background-color: #f0f8ff;border: 1px dotted black;border-radius: 0.25em;box-sizing: border-box;margin-bottom: 0.5em;}#sk-container-id-4 div.sk-estimator:hover {background-color: #d4ebff;}#sk-container-id-4 div.sk-parallel-item::after {content: \"\";width: 100%;border-bottom: 1px solid gray;flex-grow: 1;}#sk-container-id-4 div.sk-label:hover label.sk-toggleable__label {background-color: #d4ebff;}#sk-container-id-4 div.sk-serial::before {content: \"\";position: absolute;border-left: 1px solid gray;box-sizing: border-box;top: 0;bottom: 0;left: 50%;z-index: 0;}#sk-container-id-4 div.sk-serial {display: flex;flex-direction: column;align-items: center;background-color: white;padding-right: 0.2em;padding-left: 0.2em;position: relative;}#sk-container-id-4 div.sk-item {position: relative;z-index: 1;}#sk-container-id-4 div.sk-parallel {display: flex;align-items: stretch;justify-content: center;background-color: white;position: relative;}#sk-container-id-4 div.sk-item::before, #sk-container-id-4 div.sk-parallel-item::before {content: \"\";position: absolute;border-left: 1px solid gray;box-sizing: border-box;top: 0;bottom: 0;left: 50%;z-index: -1;}#sk-container-id-4 div.sk-parallel-item {display: flex;flex-direction: column;z-index: 1;position: relative;background-color: white;}#sk-container-id-4 div.sk-parallel-item:first-child::after {align-self: flex-end;width: 50%;}#sk-container-id-4 div.sk-parallel-item:last-child::after {align-self: flex-start;width: 50%;}#sk-container-id-4 div.sk-parallel-item:only-child::after {width: 0;}#sk-container-id-4 div.sk-dashed-wrapped {border: 1px dashed gray;margin: 0 0.4em 0.5em 0.4em;box-sizing: border-box;padding-bottom: 0.4em;background-color: white;}#sk-container-id-4 div.sk-label label {font-family: monospace;font-weight: bold;display: inline-block;line-height: 1.2em;}#sk-container-id-4 div.sk-label-container {text-align: center;}#sk-container-id-4 div.sk-container {/* jupyter's `normalize.less` sets `[hidden] { display: none; }` but bootstrap.min.css set `[hidden] { display: none !important; }` so we also need the `!important` here to be able to override the default hidden behavior on the sphinx rendered scikit-learn.org. See: https://github.com/scikit-learn/scikit-learn/issues/21755 */display: inline-block !important;position: relative;}#sk-container-id-4 div.sk-text-repr-fallback {display: none;}</style><div id=\"sk-container-id-4\" class=\"sk-top-container\"><div class=\"sk-text-repr-fallback\"><pre>LogisticRegression()</pre><b>In a Jupyter environment, please rerun this cell to show the HTML representation or trust the notebook. <br />On GitHub, the HTML representation is unable to render, please try loading this page with nbviewer.org.</b></div><div class=\"sk-container\" hidden><div class=\"sk-item\"><div class=\"sk-estimator sk-toggleable\"><input class=\"sk-toggleable__control sk-hidden--visually\" id=\"sk-estimator-id-4\" type=\"checkbox\" checked><label for=\"sk-estimator-id-4\" class=\"sk-toggleable__label sk-toggleable__label-arrow\">LogisticRegression</label><div class=\"sk-toggleable__content\"><pre>LogisticRegression()</pre></div></div></div></div></div>"
      ],
      "text/plain": [
       "LogisticRegression()"
      ]
     },
     "execution_count": 73,
     "metadata": {},
     "output_type": "execute_result"
    }
   ],
   "source": [
    "logreg.fit(X_train, y_train)"
   ]
  },
  {
   "cell_type": "code",
   "execution_count": 74,
   "metadata": {
    "colab": {
     "base_uri": "https://localhost:8080/"
    },
    "id": "H-89w-fvz0X7",
    "outputId": "73101a44-931e-4a1d-de55-6890e957dcfa"
   },
   "outputs": [
    {
     "name": "stdout",
     "output_type": "stream",
     "text": [
      "Overall accuracy of LR using test-set is : 76.308311\n"
     ]
    }
   ],
   "source": [
    "# Predictions and Evaluation of LR Model\n",
    "\n",
    "predictions_logreg = logreg.predict(X_test)\n",
    "acc_logreg = accuracy_score(y_true = y_test, y_pred = predictions_logreg)\n",
    "print(\"Overall accuracy of LR using test-set is : %f\" %(acc_logreg*100))"
   ]
  },
  {
   "cell_type": "code",
   "execution_count": 75,
   "metadata": {
    "colab": {
     "base_uri": "https://localhost:8080/"
    },
    "id": "fiGqoYqtz0aa",
    "outputId": "58d346c5-dfa6-44f9-b56a-aa8a0959cc38"
   },
   "outputs": [
    {
     "name": "stdout",
     "output_type": "stream",
     "text": [
      "              precision    recall  f1-score   support\n",
      "\n",
      "           0       0.79      0.89      0.83    136457\n",
      "           1       0.69      0.50      0.58     66572\n",
      "\n",
      "    accuracy                           0.76    203029\n",
      "   macro avg       0.74      0.70      0.71    203029\n",
      "weighted avg       0.75      0.76      0.75    203029\n",
      "\n"
     ]
    }
   ],
   "source": [
    "print(classification_report(y_test, predictions_logreg))"
   ]
  },
  {
   "cell_type": "code",
   "execution_count": 76,
   "metadata": {
    "colab": {
     "base_uri": "https://localhost:8080/"
    },
    "id": "qonC6uWmz0cq",
    "outputId": "14266e3d-18ae-42c8-f30b-3fba3d68eb49"
   },
   "outputs": [
    {
     "name": "stdout",
     "output_type": "stream",
     "text": [
      "[[121536  14921]\n",
      " [ 33180  33392]]\n"
     ]
    }
   ],
   "source": [
    "print(confusion_matrix(y_test, predictions_logreg))"
   ]
  },
  {
   "cell_type": "code",
   "execution_count": 77,
   "metadata": {
    "colab": {
     "base_uri": "https://localhost:8080/"
    },
    "id": "SCH_xN2nz0fF",
    "outputId": "8a3a6993-9acf-41c8-b45e-42df8c04eaa0"
   },
   "outputs": [
    {
     "name": "stdout",
     "output_type": "stream",
     "text": [
      "AUC Score: 0.7899492280134737\n",
      "F-Beta Score: 0.6425888293614139\n"
     ]
    }
   ],
   "source": [
    "# AUC Score and F-beta Score:\n",
    "\n",
    "from sklearn.model_selection import cross_val_score\n",
    "cv_scores_roc = cross_val_score(logreg, X, y, cv=10, scoring='roc_auc').mean()\n",
    "print('AUC Score:', cv_scores_roc.mean())\n",
    "\n",
    "logreg.fit(X_train, y_train)\n",
    "from sklearn.metrics import fbeta_score\n",
    "predictions_test = logreg.predict(X_test)\n",
    "print('F-Beta Score:', fbeta_score(y_test, predictions_test, average='binary', beta=0.5))"
   ]
  },
  {
   "cell_type": "code",
   "execution_count": 78,
   "metadata": {
    "colab": {
     "base_uri": "https://localhost:8080/",
     "height": 490
    },
    "id": "s_kJWkefbl_l",
    "outputId": "31b7341e-7159-4089-f70b-ee77667dbbd2"
   },
   "outputs": [
    {
     "name": "stdout",
     "output_type": "stream",
     "text": [
      "AUC-ROC Score: 0.7899492280134737\n"
     ]
    },
    {
     "data": {
      "image/png": "[encoded data removed]",
      "text/plain": [
       "<Figure size 640x480 with 1 Axes>"
      ]
     },
     "metadata": {},
     "output_type": "display_data"
    }
   ],
   "source": [
    "# Generating AUC-ROC\n",
    "\n",
    "from sklearn.metrics import roc_auc_score, roc_curve\n",
    "import matplotlib.pyplot as plt\n",
    "\n",
    "logreg.fit(X_train, y_train)\n",
    "\n",
    "# Making predictions and computing AUC-ROC\n",
    "\n",
    "y_pred_proba = logreg.predict_proba(X_test)[:, 1]  # Probability of positive class\n",
    "auc_roc = cross_val_score(logreg, X, y, cv=10, scoring='roc_auc').mean()\n",
    "print(\"AUC-ROC Score:\", auc_roc)\n",
    "\n",
    "# Plotting ROC curve\n",
    "\n",
    "fpr, tpr, thresholds = roc_curve(y_test, y_pred_proba)\n",
    "plt.plot(fpr, tpr, color='blue', label=f'AUC = {auc_roc:.2f}')\n",
    "plt.plot([0, 1], [0, 1], color='red', linestyle='--')\n",
    "plt.xlabel('False Positive Rate')\n",
    "plt.ylabel('True Positive Rate')\n",
    "plt.title('AUC-ROC Curve of the Logistic Regression')\n",
    "plt.legend(loc='lower right')\n",
    "plt.show()"
   ]
  },
  {
   "cell_type": "markdown",
   "metadata": {
    "id": "tp1FWAPf0E8w"
   },
   "source": [
    "6) LINEAR DISCRIMINANT ANALYSIS (LDA)"
   ]
  },
  {
   "cell_type": "code",
   "execution_count": 79,
   "metadata": {
    "colab": {
     "base_uri": "https://localhost:8080/"
    },
    "id": "ag6UiSeFz0hR",
    "outputId": "da4e056a-e492-4b57-c8be-36cda764becb"
   },
   "outputs": [
    {
     "data": {
      "text/plain": [
       "0.7334006863903969"
      ]
     },
     "execution_count": 79,
     "metadata": {},
     "output_type": "execute_result"
    }
   ],
   "source": [
    "from sklearn.discriminant_analysis import LinearDiscriminantAnalysis\n",
    "from sklearn.metrics import classification_report, confusion_matrix, accuracy_score\n",
    "\n",
    "lda = LinearDiscriminantAnalysis()\n",
    "cv_scores = cross_val_score(lda, X, y, cv=10)\n",
    "cv_scores.mean()"
   ]
  },
  {
   "cell_type": "code",
   "execution_count": 80,
   "metadata": {
    "colab": {
     "base_uri": "https://localhost:8080/",
     "height": 74
    },
    "id": "aa2beqsIz0jj",
    "outputId": "ff9c03a2-d795-4f35-d21a-90c2b73caebe"
   },
   "outputs": [
    {
     "data": {
      "text/html": [
       "<style>#sk-container-id-5 {color: black;background-color: white;}#sk-container-id-5 pre{padding: 0;}#sk-container-id-5 div.sk-toggleable {background-color: white;}#sk-container-id-5 label.sk-toggleable__label {cursor: pointer;display: block;width: 100%;margin-bottom: 0;padding: 0.3em;box-sizing: border-box;text-align: center;}#sk-container-id-5 label.sk-toggleable__label-arrow:before {content: \"▸\";float: left;margin-right: 0.25em;color: #696969;}#sk-container-id-5 label.sk-toggleable__label-arrow:hover:before {color: black;}#sk-container-id-5 div.sk-estimator:hover label.sk-toggleable__label-arrow:before {color: black;}#sk-container-id-5 div.sk-toggleable__content {max-height: 0;max-width: 0;overflow: hidden;text-align: left;background-color: #f0f8ff;}#sk-container-id-5 div.sk-toggleable__content pre {margin: 0.2em;color: black;border-radius: 0.25em;background-color: #f0f8ff;}#sk-container-id-5 input.sk-toggleable__control:checked~div.sk-toggleable__content {max-height: 200px;max-width: 100%;overflow: auto;}#sk-container-id-5 input.sk-toggleable__control:checked~label.sk-toggleable__label-arrow:before {content: \"▾\";}#sk-container-id-5 div.sk-estimator input.sk-toggleable__control:checked~label.sk-toggleable__label {background-color: #d4ebff;}#sk-container-id-5 div.sk-label input.sk-toggleable__control:checked~label.sk-toggleable__label {background-color: #d4ebff;}#sk-container-id-5 input.sk-hidden--visually {border: 0;clip: rect(1px 1px 1px 1px);clip: rect(1px, 1px, 1px, 1px);height: 1px;margin: -1px;overflow: hidden;padding: 0;position: absolute;width: 1px;}#sk-container-id-5 div.sk-estimator {font-family: monospace;background-color: #f0f8ff;border: 1px dotted black;border-radius: 0.25em;box-sizing: border-box;margin-bottom: 0.5em;}#sk-container-id-5 div.sk-estimator:hover {background-color: #d4ebff;}#sk-container-id-5 div.sk-parallel-item::after {content: \"\";width: 100%;border-bottom: 1px solid gray;flex-grow: 1;}#sk-container-id-5 div.sk-label:hover label.sk-toggleable__label {background-color: #d4ebff;}#sk-container-id-5 div.sk-serial::before {content: \"\";position: absolute;border-left: 1px solid gray;box-sizing: border-box;top: 0;bottom: 0;left: 50%;z-index: 0;}#sk-container-id-5 div.sk-serial {display: flex;flex-direction: column;align-items: center;background-color: white;padding-right: 0.2em;padding-left: 0.2em;position: relative;}#sk-container-id-5 div.sk-item {position: relative;z-index: 1;}#sk-container-id-5 div.sk-parallel {display: flex;align-items: stretch;justify-content: center;background-color: white;position: relative;}#sk-container-id-5 div.sk-item::before, #sk-container-id-5 div.sk-parallel-item::before {content: \"\";position: absolute;border-left: 1px solid gray;box-sizing: border-box;top: 0;bottom: 0;left: 50%;z-index: -1;}#sk-container-id-5 div.sk-parallel-item {display: flex;flex-direction: column;z-index: 1;position: relative;background-color: white;}#sk-container-id-5 div.sk-parallel-item:first-child::after {align-self: flex-end;width: 50%;}#sk-container-id-5 div.sk-parallel-item:last-child::after {align-self: flex-start;width: 50%;}#sk-container-id-5 div.sk-parallel-item:only-child::after {width: 0;}#sk-container-id-5 div.sk-dashed-wrapped {border: 1px dashed gray;margin: 0 0.4em 0.5em 0.4em;box-sizing: border-box;padding-bottom: 0.4em;background-color: white;}#sk-container-id-5 div.sk-label label {font-family: monospace;font-weight: bold;display: inline-block;line-height: 1.2em;}#sk-container-id-5 div.sk-label-container {text-align: center;}#sk-container-id-5 div.sk-container {/* jupyter's `normalize.less` sets `[hidden] { display: none; }` but bootstrap.min.css set `[hidden] { display: none !important; }` so we also need the `!important` here to be able to override the default hidden behavior on the sphinx rendered scikit-learn.org. See: https://github.com/scikit-learn/scikit-learn/issues/21755 */display: inline-block !important;position: relative;}#sk-container-id-5 div.sk-text-repr-fallback {display: none;}</style><div id=\"sk-container-id-5\" class=\"sk-top-container\"><div class=\"sk-text-repr-fallback\"><pre>LinearDiscriminantAnalysis()</pre><b>In a Jupyter environment, please rerun this cell to show the HTML representation or trust the notebook. <br />On GitHub, the HTML representation is unable to render, please try loading this page with nbviewer.org.</b></div><div class=\"sk-container\" hidden><div class=\"sk-item\"><div class=\"sk-estimator sk-toggleable\"><input class=\"sk-toggleable__control sk-hidden--visually\" id=\"sk-estimator-id-5\" type=\"checkbox\" checked><label for=\"sk-estimator-id-5\" class=\"sk-toggleable__label sk-toggleable__label-arrow\">LinearDiscriminantAnalysis</label><div class=\"sk-toggleable__content\"><pre>LinearDiscriminantAnalysis()</pre></div></div></div></div></div>"
      ],
      "text/plain": [
       "LinearDiscriminantAnalysis()"
      ]
     },
     "execution_count": 80,
     "metadata": {},
     "output_type": "execute_result"
    }
   ],
   "source": [
    "lda.fit(X_train, y_train)"
   ]
  },
  {
   "cell_type": "code",
   "execution_count": 81,
   "metadata": {
    "colab": {
     "base_uri": "https://localhost:8080/"
    },
    "id": "Xg6HbfV8z0lq",
    "outputId": "6bb59931-01ce-4c81-b497-31e446b364ac"
   },
   "outputs": [
    {
     "name": "stdout",
     "output_type": "stream",
     "text": [
      "Overall accuracy of LDA using test-set is : 75.748785\n"
     ]
    }
   ],
   "source": [
    "# Predictions and Evaluation of LDA Model\n",
    "\n",
    "predictions_lda = lda.predict(X_test)\n",
    "acc_lda = accuracy_score(y_true = y_test, y_pred = predictions_lda)\n",
    "print(\"Overall accuracy of LDA using test-set is : %f\" %(acc_lda*100))"
   ]
  },
  {
   "cell_type": "code",
   "execution_count": 82,
   "metadata": {
    "colab": {
     "base_uri": "https://localhost:8080/"
    },
    "id": "Z5f7Tbvfz0oO",
    "outputId": "31bff562-deed-4345-f879-cd3eeff2dc9b"
   },
   "outputs": [
    {
     "name": "stdout",
     "output_type": "stream",
     "text": [
      "              precision    recall  f1-score   support\n",
      "\n",
      "           0       0.78      0.89      0.83    136457\n",
      "           1       0.68      0.49      0.57     66572\n",
      "\n",
      "    accuracy                           0.76    203029\n",
      "   macro avg       0.73      0.69      0.70    203029\n",
      "weighted avg       0.75      0.76      0.75    203029\n",
      "\n"
     ]
    }
   ],
   "source": [
    "print(classification_report(y_test, predictions_lda))"
   ]
  },
  {
   "cell_type": "code",
   "execution_count": 83,
   "metadata": {
    "colab": {
     "base_uri": "https://localhost:8080/"
    },
    "id": "3eGj1iWmz0qQ",
    "outputId": "0fee44d7-2349-4580-f898-8090b64cd96f"
   },
   "outputs": [
    {
     "name": "stdout",
     "output_type": "stream",
     "text": [
      "[[121231  15226]\n",
      " [ 34011  32561]]\n"
     ]
    }
   ],
   "source": [
    "print(confusion_matrix(y_test, predictions_lda))"
   ]
  },
  {
   "cell_type": "code",
   "execution_count": 84,
   "metadata": {
    "colab": {
     "base_uri": "https://localhost:8080/"
    },
    "id": "bsA8ynbrz0sq",
    "outputId": "6d9c8acd-48c2-4f5a-b835-96ed72e17c20"
   },
   "outputs": [
    {
     "name": "stdout",
     "output_type": "stream",
     "text": [
      "AUC Score: 0.7871186486141825\n",
      "F-Beta Score: 0.6317127114698121\n"
     ]
    }
   ],
   "source": [
    "# AUC Score and F-beta Score:\n",
    "\n",
    "from sklearn.model_selection import cross_val_score\n",
    "cv_scores_roc = cross_val_score(lda, X, y, cv=10, scoring='roc_auc').mean()\n",
    "print('AUC Score:', cv_scores_roc.mean())\n",
    "\n",
    "lda.fit(X_train, y_train)\n",
    "from sklearn.metrics import fbeta_score\n",
    "predictions_test = lda.predict(X_test)\n",
    "print('F-Beta Score:', fbeta_score(y_test, predictions_test, average='binary', beta=0.5))"
   ]
  },
  {
   "cell_type": "code",
   "execution_count": 85,
   "metadata": {
    "colab": {
     "base_uri": "https://localhost:8080/",
     "height": 490
    },
    "id": "e_73seNLcaVy",
    "outputId": "b32661a6-f6f5-4604-c622-789a86fa8494"
   },
   "outputs": [
    {
     "name": "stdout",
     "output_type": "stream",
     "text": [
      "AUC-ROC Score: 0.7871186486141825\n"
     ]
    },
    {
     "data": {
      "image/png": "[encoded data removed]",
      "text/plain": [
       "<Figure size 640x480 with 1 Axes>"
      ]
     },
     "metadata": {},
     "output_type": "display_data"
    }
   ],
   "source": [
    "# Generating AUC-ROC\n",
    "\n",
    "from sklearn.metrics import roc_auc_score, roc_curve\n",
    "import matplotlib.pyplot as plt\n",
    "\n",
    "lda.fit(X_train, y_train)\n",
    "\n",
    "# Making predictions and computing AUC-ROC\n",
    "\n",
    "y_pred_proba = lda.predict_proba(X_test)[:, 1]  # Probability of positive class\n",
    "auc_roc = cross_val_score(lda, X, y, cv=10, scoring='roc_auc').mean()\n",
    "print(\"AUC-ROC Score:\", auc_roc)\n",
    "\n",
    "# Plotting ROC curve\n",
    "\n",
    "fpr, tpr, thresholds = roc_curve(y_test, y_pred_proba)\n",
    "plt.plot(fpr, tpr, color='blue', label=f'AUC = {auc_roc:.2f}')\n",
    "plt.plot([0, 1], [0, 1], color='red', linestyle='--')\n",
    "plt.xlabel('False Positive Rate')\n",
    "plt.ylabel('True Positive Rate')\n",
    "plt.title('AUC-ROC Curve of the LDA')\n",
    "plt.legend(loc='lower right')\n",
    "plt.show()"
   ]
  },
  {
   "cell_type": "markdown",
   "metadata": {
    "id": "rooGfnXl0PQY"
   },
   "source": [
    "7) QUADRATIC DISCRIMINANT ANALYSIS (QDA)"
   ]
  },
  {
   "cell_type": "code",
   "execution_count": 86,
   "metadata": {
    "colab": {
     "base_uri": "https://localhost:8080/"
    },
    "id": "YHFYI_5r0Tb1",
    "outputId": "23afbabc-eb40-4e4c-fd05-34af9acc151c"
   },
   "outputs": [
    {
     "data": {
      "text/plain": [
       "0.7137059030208176"
      ]
     },
     "execution_count": 86,
     "metadata": {},
     "output_type": "execute_result"
    }
   ],
   "source": [
    "from sklearn.discriminant_analysis import QuadraticDiscriminantAnalysis\n",
    "from sklearn.metrics import classification_report, confusion_matrix, accuracy_score\n",
    "qda = QuadraticDiscriminantAnalysis()\n",
    "cv_scores = cross_val_score(qda, X, y, cv=10)\n",
    "cv_scores.mean()"
   ]
  },
  {
   "cell_type": "code",
   "execution_count": 87,
   "metadata": {
    "colab": {
     "base_uri": "https://localhost:8080/",
     "height": 74
    },
    "id": "N3B1o9z_0TeV",
    "outputId": "b53cfabd-fc9e-4560-d52a-1cebdd5b3f7e"
   },
   "outputs": [
    {
     "data": {
      "text/html": [
       "<style>#sk-container-id-6 {color: black;background-color: white;}#sk-container-id-6 pre{padding: 0;}#sk-container-id-6 div.sk-toggleable {background-color: white;}#sk-container-id-6 label.sk-toggleable__label {cursor: pointer;display: block;width: 100%;margin-bottom: 0;padding: 0.3em;box-sizing: border-box;text-align: center;}#sk-container-id-6 label.sk-toggleable__label-arrow:before {content: \"▸\";float: left;margin-right: 0.25em;color: #696969;}#sk-container-id-6 label.sk-toggleable__label-arrow:hover:before {color: black;}#sk-container-id-6 div.sk-estimator:hover label.sk-toggleable__label-arrow:before {color: black;}#sk-container-id-6 div.sk-toggleable__content {max-height: 0;max-width: 0;overflow: hidden;text-align: left;background-color: #f0f8ff;}#sk-container-id-6 div.sk-toggleable__content pre {margin: 0.2em;color: black;border-radius: 0.25em;background-color: #f0f8ff;}#sk-container-id-6 input.sk-toggleable__control:checked~div.sk-toggleable__content {max-height: 200px;max-width: 100%;overflow: auto;}#sk-container-id-6 input.sk-toggleable__control:checked~label.sk-toggleable__label-arrow:before {content: \"▾\";}#sk-container-id-6 div.sk-estimator input.sk-toggleable__control:checked~label.sk-toggleable__label {background-color: #d4ebff;}#sk-container-id-6 div.sk-label input.sk-toggleable__control:checked~label.sk-toggleable__label {background-color: #d4ebff;}#sk-container-id-6 input.sk-hidden--visually {border: 0;clip: rect(1px 1px 1px 1px);clip: rect(1px, 1px, 1px, 1px);height: 1px;margin: -1px;overflow: hidden;padding: 0;position: absolute;width: 1px;}#sk-container-id-6 div.sk-estimator {font-family: monospace;background-color: #f0f8ff;border: 1px dotted black;border-radius: 0.25em;box-sizing: border-box;margin-bottom: 0.5em;}#sk-container-id-6 div.sk-estimator:hover {background-color: #d4ebff;}#sk-container-id-6 div.sk-parallel-item::after {content: \"\";width: 100%;border-bottom: 1px solid gray;flex-grow: 1;}#sk-container-id-6 div.sk-label:hover label.sk-toggleable__label {background-color: #d4ebff;}#sk-container-id-6 div.sk-serial::before {content: \"\";position: absolute;border-left: 1px solid gray;box-sizing: border-box;top: 0;bottom: 0;left: 50%;z-index: 0;}#sk-container-id-6 div.sk-serial {display: flex;flex-direction: column;align-items: center;background-color: white;padding-right: 0.2em;padding-left: 0.2em;position: relative;}#sk-container-id-6 div.sk-item {position: relative;z-index: 1;}#sk-container-id-6 div.sk-parallel {display: flex;align-items: stretch;justify-content: center;background-color: white;position: relative;}#sk-container-id-6 div.sk-item::before, #sk-container-id-6 div.sk-parallel-item::before {content: \"\";position: absolute;border-left: 1px solid gray;box-sizing: border-box;top: 0;bottom: 0;left: 50%;z-index: -1;}#sk-container-id-6 div.sk-parallel-item {display: flex;flex-direction: column;z-index: 1;position: relative;background-color: white;}#sk-container-id-6 div.sk-parallel-item:first-child::after {align-self: flex-end;width: 50%;}#sk-container-id-6 div.sk-parallel-item:last-child::after {align-self: flex-start;width: 50%;}#sk-container-id-6 div.sk-parallel-item:only-child::after {width: 0;}#sk-container-id-6 div.sk-dashed-wrapped {border: 1px dashed gray;margin: 0 0.4em 0.5em 0.4em;box-sizing: border-box;padding-bottom: 0.4em;background-color: white;}#sk-container-id-6 div.sk-label label {font-family: monospace;font-weight: bold;display: inline-block;line-height: 1.2em;}#sk-container-id-6 div.sk-label-container {text-align: center;}#sk-container-id-6 div.sk-container {/* jupyter's `normalize.less` sets `[hidden] { display: none; }` but bootstrap.min.css set `[hidden] { display: none !important; }` so we also need the `!important` here to be able to override the default hidden behavior on the sphinx rendered scikit-learn.org. See: https://github.com/scikit-learn/scikit-learn/issues/21755 */display: inline-block !important;position: relative;}#sk-container-id-6 div.sk-text-repr-fallback {display: none;}</style><div id=\"sk-container-id-6\" class=\"sk-top-container\"><div class=\"sk-text-repr-fallback\"><pre>QuadraticDiscriminantAnalysis()</pre><b>In a Jupyter environment, please rerun this cell to show the HTML representation or trust the notebook. <br />On GitHub, the HTML representation is unable to render, please try loading this page with nbviewer.org.</b></div><div class=\"sk-container\" hidden><div class=\"sk-item\"><div class=\"sk-estimator sk-toggleable\"><input class=\"sk-toggleable__control sk-hidden--visually\" id=\"sk-estimator-id-6\" type=\"checkbox\" checked><label for=\"sk-estimator-id-6\" class=\"sk-toggleable__label sk-toggleable__label-arrow\">QuadraticDiscriminantAnalysis</label><div class=\"sk-toggleable__content\"><pre>QuadraticDiscriminantAnalysis()</pre></div></div></div></div></div>"
      ],
      "text/plain": [
       "QuadraticDiscriminantAnalysis()"
      ]
     },
     "execution_count": 87,
     "metadata": {},
     "output_type": "execute_result"
    }
   ],
   "source": [
    "qda.fit(X_train, y_train)"
   ]
  },
  {
   "cell_type": "code",
   "execution_count": 88,
   "metadata": {
    "colab": {
     "base_uri": "https://localhost:8080/"
    },
    "id": "f8xU3yJg0Tg4",
    "outputId": "f9b64a87-8c8a-439e-e253-0aacd086953c"
   },
   "outputs": [
    {
     "name": "stdout",
     "output_type": "stream",
     "text": [
      "Overall accuracy of QDA using test-set is : 74.679479\n"
     ]
    }
   ],
   "source": [
    "# Predictions and Evaluation of QDA Model\n",
    "\n",
    "predictions_qda = qda.predict(X_test)\n",
    "acc_qda = accuracy_score(y_true = y_test, y_pred = predictions_qda)\n",
    "print(\"Overall accuracy of QDA using test-set is : %f\" %(acc_qda*100))"
   ]
  },
  {
   "cell_type": "code",
   "execution_count": 89,
   "metadata": {
    "colab": {
     "base_uri": "https://localhost:8080/"
    },
    "id": "bvUMC4WJ0TjV",
    "outputId": "6e9e8817-4cb5-4ddb-b0b8-9e34d625833a"
   },
   "outputs": [
    {
     "name": "stdout",
     "output_type": "stream",
     "text": [
      "              precision    recall  f1-score   support\n",
      "\n",
      "           0       0.81      0.82      0.81    136457\n",
      "           1       0.62      0.60      0.61     66572\n",
      "\n",
      "    accuracy                           0.75    203029\n",
      "   macro avg       0.71      0.71      0.71    203029\n",
      "weighted avg       0.75      0.75      0.75    203029\n",
      "\n"
     ]
    }
   ],
   "source": [
    "print(classification_report(y_test, predictions_qda))"
   ]
  },
  {
   "cell_type": "code",
   "execution_count": 90,
   "metadata": {
    "colab": {
     "base_uri": "https://localhost:8080/"
    },
    "id": "MV3JHeGK0Tl7",
    "outputId": "6ea56c66-eede-4365-9cd2-b01e75f88c71"
   },
   "outputs": [
    {
     "name": "stdout",
     "output_type": "stream",
     "text": [
      "[[111683  24774]\n",
      " [ 26634  39938]]\n"
     ]
    }
   ],
   "source": [
    "print(confusion_matrix(y_test, predictions_qda))"
   ]
  },
  {
   "cell_type": "code",
   "execution_count": 91,
   "metadata": {
    "colab": {
     "base_uri": "https://localhost:8080/"
    },
    "id": "jxG_fEqk0Tny",
    "outputId": "e93b3c38-1bce-481a-95f4-dcc938b04922"
   },
   "outputs": [
    {
     "name": "stdout",
     "output_type": "stream",
     "text": [
      "AUC Score: 0.7857185267340665\n",
      "F-Beta Score: 0.6136377604326716\n"
     ]
    }
   ],
   "source": [
    "# AUC Score and F-beta Score:\n",
    "\n",
    "from sklearn.model_selection import cross_val_score\n",
    "cv_scores_roc = cross_val_score(qda, X, y, cv=10, scoring='roc_auc').mean()\n",
    "print('AUC Score:', cv_scores_roc.mean())\n",
    "\n",
    "qda.fit(X_train, y_train)\n",
    "from sklearn.metrics import fbeta_score\n",
    "predictions_test = qda.predict(X_test)\n",
    "print('F-Beta Score:', fbeta_score(y_test, predictions_test, average='binary', beta=0.5))"
   ]
  },
  {
   "cell_type": "code",
   "execution_count": 92,
   "metadata": {
    "colab": {
     "base_uri": "https://localhost:8080/",
     "height": 490
    },
    "id": "NMahiNFycisr",
    "outputId": "ff4e5ead-3bdf-435e-e1bb-61f6ae8ae4f5"
   },
   "outputs": [
    {
     "name": "stdout",
     "output_type": "stream",
     "text": [
      "AUC-ROC Score: 0.7857185267340665\n"
     ]
    },
    {
     "data": {
      "image/png": "[encoded data removed]",
      "text/plain": [
       "<Figure size 640x480 with 1 Axes>"
      ]
     },
     "metadata": {},
     "output_type": "display_data"
    }
   ],
   "source": [
    "# Generating AUC-ROC\n",
    "\n",
    "from sklearn.metrics import roc_auc_score, roc_curve\n",
    "import matplotlib.pyplot as plt\n",
    "\n",
    "qda.fit(X_train, y_train)\n",
    "\n",
    "# Making predictions and computing AUC-ROC\n",
    "\n",
    "y_pred_proba = qda.predict_proba(X_test)[:, 1]  # Probability of positive class\n",
    "auc_roc = cross_val_score(qda, X, y, cv=10, scoring='roc_auc').mean()\n",
    "print(\"AUC-ROC Score:\", auc_roc)\n",
    "\n",
    "# Plotting ROC curve\n",
    "\n",
    "fpr, tpr, thresholds = roc_curve(y_test, y_pred_proba)\n",
    "plt.plot(fpr, tpr, color='blue', label=f'AUC = {auc_roc:.2f}')\n",
    "plt.plot([0, 1], [0, 1], color='red', linestyle='--')\n",
    "plt.xlabel('False Positive Rate')\n",
    "plt.ylabel('True Positive Rate')\n",
    "plt.title('AUC-ROC Curve of the QDA')\n",
    "plt.legend(loc='lower right')\n",
    "plt.show()"
   ]
  },
  {
   "cell_type": "markdown",
   "metadata": {
    "id": "wfiz8M5ucw7k"
   },
   "source": [
    "COMPARING THE AUC-ROC CURVE OF EACH MODELS AND REPRESNETING IN GRAPHS."
   ]
  },
  {
   "cell_type": "code",
   "execution_count": 93,
   "metadata": {
    "colab": {
     "base_uri": "https://localhost:8080/",
     "height": 407
    },
    "id": "xGY9poBGc6LS",
    "outputId": "221bb099-a457-4aa0-c8f7-f1a94d48326f"
   },
   "outputs": [
    {
     "data": {
      "image/png": "[encoded data removed]",
      "text/plain": [
       "<Figure size 1000x400 with 1 Axes>"
      ]
     },
     "metadata": {},
     "output_type": "display_data"
    }
   ],
   "source": [
    "import numpy as np\n",
    "from sklearn.metrics import roc_auc_score, roc_curve\n",
    "import matplotlib.pyplot as plt\n",
    "\n",
    "# Fitting different models and computing AUC-ROC scores\n",
    "\n",
    "models = [dectree, ranfor, knn, nb, logreg, lda, qda]\n",
    "model_names = ['Decision Tree', 'Random Forest', 'kNN', 'Naive Bayes', 'Logistic Regression', 'LDA', 'QDA']\n",
    "auc_rocs = []\n",
    "\n",
    "plt.figure(figsize=(10,4))\n",
    "\n",
    "# Defining the colors for different models\n",
    "colors = plt.cm.tab10(np.linspace(0, 1, len(models)))\n",
    "\n",
    "# Iterating over the models\n",
    "\n",
    "for model, name, color in zip(models, model_names, colors):\n",
    "    model.fit(X_train, y_train)\n",
    "    y_pred_proba = model.predict_proba(X_test)[:, 1]  # Probability of positive class\n",
    "    auc_roc = cross_val_score(model, X, y, cv=10, scoring='roc_auc').mean()\n",
    "    auc_rocs.append(auc_roc)\n",
    "\n",
    "    fpr, tpr, _ = roc_curve(y_test, y_pred_proba)\n",
    "    plt.plot(fpr, tpr, label=f'{name} (AUC = {auc_roc:.2f})', color=color)\n",
    "\n",
    "# Plot random classifier line\n",
    "\n",
    "plt.plot([0, 1], [0, 1], color='gray', linestyle='--', label='Random Classifier')\n",
    "\n",
    "# Plot settings\n",
    "\n",
    "plt.xlabel('False Positive Rate', fontsize=12)\n",
    "plt.ylabel('True Positive Rate', fontsize=12)\n",
    "plt.title('AUC-ROC Curves of Various Models along with the AUC-ROC score', fontsize=14)\n",
    "plt.legend(loc='lower right', fontsize=10)\n",
    "plt.grid(True, linestyle='--', alpha=0.7)\n",
    "plt.xticks(np.arange(0, 2.0, 0.1), fontsize=10)\n",
    "plt.yticks(np.arange(0, 2.0, 0.1), fontsize=10)\n",
    "plt.xlim([-0.01, 1.02])\n",
    "plt.ylim([-0.01, 1.02])\n",
    "plt.tight_layout()\n",
    "plt.show()"
   ]
  },
  {
   "cell_type": "markdown",
   "metadata": {
    "id": "5tHVdxZH0Z-S"
   },
   "source": [
    "COMPARING THE ACCURACY OF THE RESPECTIVE MODELS AND REPRESENTING IN GRAPHS"
   ]
  },
  {
   "cell_type": "code",
   "execution_count": 94,
   "metadata": {
    "colab": {
     "base_uri": "https://localhost:8080/",
     "height": 601
    },
    "id": "d6JcoZCB0TqR",
    "outputId": "905dca81-1719-43e8-9699-7185825613a3"
   },
   "outputs": [
    {
     "data": {
      "image/png": "[encoded data removed]",
      "text/plain": [
       "<Figure size 1200x600 with 1 Axes>"
      ]
     },
     "metadata": {},
     "output_type": "display_data"
    }
   ],
   "source": [
    "import seaborn as sns\n",
    "import matplotlib.pyplot as plt\n",
    "\n",
    "li_x = ['Decision Tree', 'Random Forest', 'kNN', 'Naive Bayes', 'Logistic Regression', 'LDA', 'QDA']\n",
    "li_y = [acc_dectree, acc_rf, acc_knn, acc_nb, acc_logreg, acc_lda, acc_qda]\n",
    "\n",
    "sns.set(style=\"whitegrid\", color_codes=True)\n",
    "plt.figure(figsize=(12, 6))\n",
    "\n",
    "# Using a sequential colormap for better color representation\n",
    "colors = sns.color_palette(\"viridis\", len(li_x))\n",
    "\n",
    "# Adjusting bar positions and widths\n",
    "bar_positions = range(len(li_x))\n",
    "bar_width = 0.6\n",
    "\n",
    "plt.bar(bar_positions, li_y, color=colors, width=bar_width, align='center')\n",
    "\n",
    "plt.xlabel(\"Models\")\n",
    "plt.ylabel(\"Accuracy\")\n",
    "plt.title(\"Model Performance Comparison\")\n",
    "\n",
    "for i, v in zip(bar_positions, li_y):\n",
    "    plt.text(i, v + 0.01, f\"{v:.2f}\", ha=\"center\", va=\"bottom\", fontsize=8, color=\"black\")\n",
    "\n",
    "plt.xticks(bar_positions, li_x, rotation=45, ha=\"right\")\n",
    "plt.tight_layout()\n",
    "plt.show()"
   ]
  },
  {
   "cell_type": "code",
   "execution_count": 95,
   "metadata": {
    "colab": {
     "base_uri": "https://localhost:8080/"
    },
    "id": "CbqvtIGe8KT-",
    "outputId": "3b832d03-05ce-4357-ef72-ea19d47e4525"
   },
   "outputs": [
    {
     "name": "stdout",
     "output_type": "stream",
     "text": [
      "Top two models for predicting ASD using this Eye-Tracking Dataset:\n",
      "kNN: 0.99 accuracy\n",
      "Random Forest: 0.98 accuracy\n"
     ]
    }
   ],
   "source": [
    "# Creating a list of tuples with model names and their corresponding accuracies\n",
    "model_accuracies = list(zip(li_x, li_y))\n",
    "\n",
    "# Sorting the list of tuples based on accuracy (in descending order)\n",
    "sorted_model_accuracies = sorted(model_accuracies, key=lambda x: x[1], reverse=True)\n",
    "\n",
    "# Printing the top two models\n",
    "top_models = sorted_model_accuracies[:2]\n",
    "\n",
    "print(\"Top two models for predicting ASD using this Eye-Tracking Dataset:\")\n",
    "for model, accuracy in top_models:\n",
    "    print(f\"{model}: {accuracy:.2f} accuracy\")"
   ]
  }
 ],
 "metadata": {
  "accelerator": "GPU",
  "colab": {
   "gpuType": "T4",
   "provenance": []
  },
  "kernelspec": {
   "display_name": "Python 3 (ipykernel)",
   "language": "python",
   "name": "python3"
  },
  "language_info": {
   "codemirror_mode": {
    "name": "ipython",
    "version": 3
   },
   "file_extension": ".py",
   "mimetype": "text/x-python",
   "name": "python",
   "nbconvert_exporter": "python",
   "pygments_lexer": "ipython3",
   "version": "3.11.4"
  }
 },
 "nbformat": 4,
 "nbformat_minor": 4
}
